{
 "cells": [
  {
   "cell_type": "code",
   "execution_count": 3,
   "id": "bf229da0-10e7-4621-a142-b68075292087",
   "metadata": {},
   "outputs": [],
   "source": [
    "import sys, os\n",
    "cwd = os.getcwd()\n",
    "sys.path.append(cwd + '/../.') \n",
    "\n",
    "import numpy as np\n",
    "from sklearn.linear_model import LogisticRegression\n",
    "from src.training_loop import SKLearnActiveLearner, KerasActiveLearner\n",
    "from matplotlib import pyplot as plt\n",
    "import pandas as pd\n",
    "\n",
    "def getXtrain(): return np.load('./../encodings/app_store_sbert_%s_X_train.npy' % i ).tolist()\n",
    "def getytrain(): return np.load('./../encodings/app_store_sbert_%s_y_train.npy' % i).tolist()\n",
    "def np_flatten(x, dtype=None): return np.array(x, dtype=dtype)\n",
    "\n",
    "used_index_meta_list = []\n",
    "n = 5\n",
    "\n",
    "save_and_repeat = 1\n",
    "al_steps = 30\n",
    "sample_size_per_step = 10    "
   ]
  },
  {
   "cell_type": "code",
   "execution_count": 4,
   "id": "b2bcca62-c908-494f-829d-1545a1c6b606",
   "metadata": {},
   "outputs": [],
   "source": [
    "#df = pd.DataFrame(columns=['iter', 'f1_mic', 'f1_mac', 'n', 'c', 't_train', 't_inf'])"
   ]
  },
  {
   "cell_type": "code",
   "execution_count": 5,
   "id": "67c798e2-cd94-4a70-a95b-4d3612b235a1",
   "metadata": {},
   "outputs": [
    {
     "name": "stdout",
     "output_type": "stream",
     "text": [
      "Start Model 0 ...\n",
      "#1  f1_mic: 0.71965, f1_mac: 0.67577, prec: -1, rec: -1, n: 30, c : [(2, 10), (1, 10), (0, 10)], t_train: 0.0828, t_inf: 0.0146\n",
      "__ End Warmstart\n",
      "#2  f1_mic: 0.74468, f1_mac: 0.59238, prec: -1, rec: -1, n: 40, c : [(2, 16), (1, 13), (0, 11)], t_train: 0.0141, t_inf: 0.0346\n",
      "#3  f1_mic: 0.75594, f1_mac: 0.66299, prec: -1, rec: -1, n: 50, c : [(2, 19), (0, 16), (1, 15)], t_train: 0.0164, t_inf: 0.0074\n",
      "#4  f1_mic: 0.74875, f1_mac: 0.62381, prec: -1, rec: -1, n: 60, c : [(2, 24), (1, 18), (0, 18)], t_train: 0.0168, t_inf: 0.0073\n",
      "#5  f1_mic: 0.7694, f1_mac: 0.65079, prec: -1, rec: -1, n: 70, c : [(2, 25), (1, 25), (0, 20)], t_train: 0.0204, t_inf: 0.0073\n",
      "#6  f1_mic: 0.76502, f1_mac: 0.62936, prec: -1, rec: -1, n: 80, c : [(2, 29), (1, 29), (0, 22)], t_train: 0.0349, t_inf: 0.0352\n",
      "#7  f1_mic: 0.76846, f1_mac: 0.66763, prec: -1, rec: -1, n: 90, c : [(1, 33), (2, 30), (0, 27)], t_train: 0.0261, t_inf: 0.0063\n",
      "#8  f1_mic: 0.76971, f1_mac: 0.6891, prec: -1, rec: -1, n: 100, c : [(1, 35), (2, 33), (0, 32)], t_train: 0.0228, t_inf: 0.0064\n",
      "#9  f1_mic: 0.77441, f1_mac: 0.70372, prec: -1, rec: -1, n: 110, c : [(1, 39), (0, 36), (2, 35)], t_train: 0.0282, t_inf: 0.0076\n",
      "#10  f1_mic: 0.77503, f1_mac: 0.71133, prec: -1, rec: -1, n: 120, c : [(0, 41), (1, 40), (2, 39)], t_train: 0.027, t_inf: 0.0075\n",
      "#11  f1_mic: 0.77253, f1_mac: 0.71556, prec: -1, rec: -1, n: 130, c : [(0, 46), (1, 43), (2, 41)], t_train: 0.025, t_inf: 0.007\n",
      "#12  f1_mic: 0.76877, f1_mac: 0.70334, prec: -1, rec: -1, n: 140, c : [(0, 48), (2, 47), (1, 45)], t_train: 0.0249, t_inf: 0.0072\n",
      "#13  f1_mic: 0.77409, f1_mac: 0.71549, prec: -1, rec: -1, n: 150, c : [(0, 52), (2, 50), (1, 48)], t_train: 0.027, t_inf: 0.0074\n",
      "#14  f1_mic: 0.78191, f1_mac: 0.72089, prec: -1, rec: -1, n: 160, c : [(2, 55), (0, 55), (1, 50)], t_train: 0.0328, t_inf: 0.007\n",
      "#15  f1_mic: 0.77378, f1_mac: 0.7025, prec: -1, rec: -1, n: 170, c : [(2, 60), (1, 55), (0, 55)], t_train: 0.0252, t_inf: 0.0062\n",
      "#16  f1_mic: 0.78066, f1_mac: 0.71926, prec: -1, rec: -1, n: 180, c : [(2, 62), (0, 60), (1, 58)], t_train: 0.0259, t_inf: 0.0064\n",
      "#17  f1_mic: 0.7863, f1_mac: 0.71815, prec: -1, rec: -1, n: 190, c : [(2, 67), (0, 62), (1, 61)], t_train: 0.0229, t_inf: 0.0062\n",
      "#18  f1_mic: 0.78942, f1_mac: 0.71961, prec: -1, rec: -1, n: 200, c : [(2, 71), (0, 65), (1, 64)], t_train: 0.0305, t_inf: 0.0064\n",
      "#19  f1_mic: 0.79287, f1_mac: 0.73208, prec: -1, rec: -1, n: 210, c : [(2, 73), (0, 70), (1, 67)], t_train: 0.0264, t_inf: 0.0062\n",
      "#20  f1_mic: 0.79537, f1_mac: 0.73351, prec: -1, rec: -1, n: 220, c : [(2, 77), (0, 73), (1, 70)], t_train: 0.0348, t_inf: 0.0065\n",
      "#21  f1_mic: 0.79631, f1_mac: 0.73395, prec: -1, rec: -1, n: 230, c : [(2, 80), (0, 77), (1, 73)], t_train: 0.0838, t_inf: 0.0063\n",
      "#22  f1_mic: 0.79912, f1_mac: 0.73909, prec: -1, rec: -1, n: 240, c : [(2, 82), (0, 81), (1, 77)], t_train: 0.0691, t_inf: 0.0069\n",
      "#23  f1_mic: 0.80225, f1_mac: 0.74528, prec: -1, rec: -1, n: 250, c : [(0, 86), (2, 84), (1, 80)], t_train: 0.039, t_inf: 0.0064\n",
      "#24  f1_mic: 0.80257, f1_mac: 0.74836, prec: -1, rec: -1, n: 260, c : [(0, 91), (2, 85), (1, 84)], t_train: 0.0432, t_inf: 0.0267\n",
      "#25  f1_mic: 0.79975, f1_mac: 0.74673, prec: -1, rec: -1, n: 270, c : [(0, 93), (1, 89), (2, 88)], t_train: 0.0683, t_inf: 0.0067\n",
      "#26  f1_mic: 0.80194, f1_mac: 0.74435, prec: -1, rec: -1, n: 280, c : [(2, 95), (0, 95), (1, 90)], t_train: 0.0752, t_inf: 0.0065\n",
      "#27  f1_mic: 0.80131, f1_mac: 0.74506, prec: -1, rec: -1, n: 290, c : [(0, 98), (2, 97), (1, 95)], t_train: 0.0642, t_inf: 0.0068\n",
      "#28  f1_mic: 0.80632, f1_mac: 0.74622, prec: -1, rec: -1, n: 300, c : [(2, 103), (0, 100), (1, 97)], t_train: 0.0436, t_inf: 0.0328\n",
      "#29  f1_mic: 0.80538, f1_mac: 0.74611, prec: -1, rec: -1, n: 310, c : [(2, 107), (0, 105), (1, 98)], t_train: 0.0715, t_inf: 0.0068\n",
      "#30  f1_mic: 0.80976, f1_mac: 0.751, prec: -1, rec: -1, n: 320, c : [(2, 112), (0, 108), (1, 100)], t_train: 0.0691, t_inf: 0.0064\n",
      "#31  f1_mic: 0.80945, f1_mac: 0.74769, prec: -1, rec: -1, n: 330, c : [(2, 117), (0, 108), (1, 105)], t_train: 0.0643, t_inf: 0.0064\n",
      "__ Checkpoint: Save Data\n",
      "Done\n",
      "\n",
      "Start Model 1 ...\n",
      "#1  f1_mic: 0.78191, f1_mac: 0.72575, prec: -1, rec: -1, n: 30, c : [(2, 10), (1, 10), (0, 10)], t_train: 0.0153, t_inf: 0.0092\n",
      "__ End Warmstart\n",
      "#2  f1_mic: 0.77753, f1_mac: 0.7204, prec: -1, rec: -1, n: 40, c : [(2, 14), (0, 14), (1, 12)], t_train: 0.1172, t_inf: 0.0077\n",
      "#3  f1_mic: 0.77566, f1_mac: 0.7015, prec: -1, rec: -1, n: 50, c : [(2, 18), (1, 16), (0, 16)], t_train: 0.0403, t_inf: 0.007\n",
      "#4  f1_mic: 0.78098, f1_mac: 0.67549, prec: -1, rec: -1, n: 60, c : [(2, 23), (1, 20), (0, 17)], t_train: 0.0186, t_inf: 0.0234\n",
      "#5  f1_mic: 0.75469, f1_mac: 0.69929, prec: -1, rec: -1, n: 70, c : [(1, 24), (2, 23), (0, 23)], t_train: 0.021, t_inf: 0.0072\n",
      "#6  f1_mic: 0.76095, f1_mac: 0.66764, prec: -1, rec: -1, n: 80, c : [(2, 31), (1, 25), (0, 24)], t_train: 0.0193, t_inf: 0.0072\n",
      "#7  f1_mic: 0.76564, f1_mac: 0.65656, prec: -1, rec: -1, n: 90, c : [(2, 36), (1, 27), (0, 27)], t_train: 0.028, t_inf: 0.0079\n",
      "#8  f1_mic: 0.77096, f1_mac: 0.65055, prec: -1, rec: -1, n: 100, c : [(2, 40), (1, 31), (0, 29)], t_train: 0.0247, t_inf: 0.0075\n",
      "#9  f1_mic: 0.77128, f1_mac: 0.64169, prec: -1, rec: -1, n: 110, c : [(2, 44), (1, 35), (0, 31)], t_train: 0.0282, t_inf: 0.0077\n",
      "#10  f1_mic: 0.77441, f1_mac: 0.64147, prec: -1, rec: -1, n: 120, c : [(2, 48), (1, 39), (0, 33)], t_train: 0.023, t_inf: 0.0076\n",
      "#11  f1_mic: 0.77409, f1_mac: 0.65767, prec: -1, rec: -1, n: 130, c : [(2, 51), (1, 41), (0, 38)], t_train: 0.024, t_inf: 0.0073\n",
      "#12  f1_mic: 0.78536, f1_mac: 0.68411, prec: -1, rec: -1, n: 140, c : [(2, 53), (1, 44), (0, 43)], t_train: 0.0272, t_inf: 0.0072\n",
      "#13  f1_mic: 0.79193, f1_mac: 0.7025, prec: -1, rec: -1, n: 150, c : [(2, 56), (0, 48), (1, 46)], t_train: 0.0246, t_inf: 0.0073\n",
      "#14  f1_mic: 0.79881, f1_mac: 0.7188, prec: -1, rec: -1, n: 160, c : [(2, 59), (0, 51), (1, 50)], t_train: 0.0261, t_inf: 0.007\n",
      "#15  f1_mic: 0.80319, f1_mac: 0.72708, prec: -1, rec: -1, n: 170, c : [(2, 62), (1, 54), (0, 54)], t_train: 0.024, t_inf: 0.0075\n",
      "#16  f1_mic: 0.79912, f1_mac: 0.72014, prec: -1, rec: -1, n: 180, c : [(2, 65), (1, 58), (0, 57)], t_train: 0.0304, t_inf: 0.0073\n",
      "#17  f1_mic: 0.79819, f1_mac: 0.73286, prec: -1, rec: -1, n: 190, c : [(2, 67), (0, 63), (1, 60)], t_train: 0.0307, t_inf: 0.0074\n",
      "#18  f1_mic: 0.79787, f1_mac: 0.73423, prec: -1, rec: -1, n: 200, c : [(2, 71), (0, 67), (1, 62)], t_train: 0.0323, t_inf: 0.0074\n",
      "#19  f1_mic: 0.7985, f1_mac: 0.73437, prec: -1, rec: -1, n: 210, c : [(2, 74), (0, 71), (1, 65)], t_train: 0.0382, t_inf: 0.0231\n",
      "#20  f1_mic: 0.79944, f1_mac: 0.73909, prec: -1, rec: -1, n: 220, c : [(2, 78), (0, 75), (1, 67)], t_train: 0.0551, t_inf: 0.0078\n",
      "#21  f1_mic: 0.80382, f1_mac: 0.74708, prec: -1, rec: -1, n: 230, c : [(2, 80), (0, 79), (1, 71)], t_train: 0.0565, t_inf: 0.007\n",
      "#22  f1_mic: 0.80194, f1_mac: 0.74452, prec: -1, rec: -1, n: 240, c : [(2, 85), (0, 82), (1, 73)], t_train: 0.0699, t_inf: 0.0089\n",
      "#23  f1_mic: 0.80288, f1_mac: 0.7469, prec: -1, rec: -1, n: 250, c : [(2, 87), (0, 86), (1, 77)], t_train: 0.0557, t_inf: 0.0071\n",
      "#24  f1_mic: 0.80225, f1_mac: 0.74693, prec: -1, rec: -1, n: 260, c : [(2, 91), (0, 90), (1, 79)], t_train: 0.0559, t_inf: 0.0069\n",
      "#25  f1_mic: 0.79944, f1_mac: 0.74185, prec: -1, rec: -1, n: 270, c : [(2, 96), (0, 92), (1, 82)], t_train: 0.0401, t_inf: 0.0075\n",
      "#26  f1_mic: 0.8035, f1_mac: 0.74787, prec: -1, rec: -1, n: 280, c : [(2, 99), (0, 97), (1, 84)], t_train: 0.0388, t_inf: 0.0225\n",
      "#27  f1_mic: 0.80225, f1_mac: 0.7472, prec: -1, rec: -1, n: 290, c : [(2, 103), (0, 99), (1, 88)], t_train: 0.093, t_inf: 0.0106\n",
      "#28  f1_mic: 0.80288, f1_mac: 0.75195, prec: -1, rec: -1, n: 300, c : [(2, 104), (0, 103), (1, 93)], t_train: 0.0361, t_inf: 0.0073\n",
      "#29  f1_mic: 0.80757, f1_mac: 0.75759, prec: -1, rec: -1, n: 310, c : [(2, 108), (0, 106), (1, 96)], t_train: 0.0976, t_inf: 0.0565\n",
      "#30  f1_mic: 0.80914, f1_mac: 0.75822, prec: -1, rec: -1, n: 320, c : [(2, 112), (0, 108), (1, 100)], t_train: 0.0607, t_inf: 0.0071\n",
      "#31  f1_mic: 0.80069, f1_mac: 0.74834, prec: -1, rec: -1, n: 330, c : [(2, 116), (0, 112), (1, 102)], t_train: 0.0629, t_inf: 0.0071\n",
      "__ Checkpoint: Save Data\n",
      "Done\n",
      "\n",
      "Start Model 2 ...\n",
      "#1  f1_mic: 0.64831, f1_mac: 0.62389, prec: -1, rec: -1, n: 30, c : [(2, 10), (1, 10), (0, 10)], t_train: 0.0139, t_inf: 0.0075\n",
      "__ End Warmstart\n",
      "#2  f1_mic: 0.61827, f1_mac: 0.60891, prec: -1, rec: -1, n: 40, c : [(0, 15), (2, 14), (1, 11)], t_train: 0.0123, t_inf: 0.007\n",
      "#3  f1_mic: 0.69305, f1_mac: 0.66527, prec: -1, rec: -1, n: 50, c : [(2, 17), (0, 17), (1, 16)], t_train: 0.0138, t_inf: 0.0227\n",
      "#4  f1_mic: 0.60357, f1_mac: 0.60869, prec: -1, rec: -1, n: 60, c : [(0, 22), (1, 21), (2, 17)], t_train: 0.028, t_inf: 0.0217\n",
      "#5  f1_mic: 0.73467, f1_mac: 0.69463, prec: -1, rec: -1, n: 70, c : [(2, 24), (0, 24), (1, 22)], t_train: 0.0161, t_inf: 0.0071\n",
      "#6  f1_mic: 0.74625, f1_mac: 0.68427, prec: -1, rec: -1, n: 80, c : [(2, 30), (0, 26), (1, 24)], t_train: 0.0155, t_inf: 0.0075\n",
      "#7  f1_mic: 0.76721, f1_mac: 0.68415, prec: -1, rec: -1, n: 90, c : [(2, 35), (1, 29), (0, 26)], t_train: 0.0251, t_inf: 0.0063\n",
      "#8  f1_mic: 0.78911, f1_mac: 0.7161, prec: -1, rec: -1, n: 100, c : [(2, 38), (1, 33), (0, 29)], t_train: 0.0271, t_inf: 0.0097\n",
      "#9  f1_mic: 0.7913, f1_mac: 0.73056, prec: -1, rec: -1, n: 110, c : [(2, 40), (1, 35), (0, 35)], t_train: 0.0295, t_inf: 0.0065\n",
      "#10  f1_mic: 0.79631, f1_mac: 0.72828, prec: -1, rec: -1, n: 120, c : [(2, 43), (1, 41), (0, 36)], t_train: 0.0255, t_inf: 0.0064\n",
      "#11  f1_mic: 0.79506, f1_mac: 0.7237, prec: -1, rec: -1, n: 130, c : [(2, 47), (1, 45), (0, 38)], t_train: 0.0268, t_inf: 0.0063\n",
      "#12  f1_mic: 0.79819, f1_mac: 0.72813, prec: -1, rec: -1, n: 140, c : [(2, 51), (1, 47), (0, 42)], t_train: 0.0284, t_inf: 0.0062\n",
      "#13  f1_mic: 0.79193, f1_mac: 0.71157, prec: -1, rec: -1, n: 150, c : [(2, 55), (1, 51), (0, 44)], t_train: 0.0322, t_inf: 0.0399\n",
      "#14  f1_mic: 0.79224, f1_mac: 0.71536, prec: -1, rec: -1, n: 160, c : [(2, 58), (1, 55), (0, 47)], t_train: 0.0279, t_inf: 0.0062\n",
      "#15  f1_mic: 0.78692, f1_mac: 0.7037, prec: -1, rec: -1, n: 170, c : [(2, 63), (1, 58), (0, 49)], t_train: 0.0293, t_inf: 0.0064\n",
      "#16  f1_mic: 0.78692, f1_mac: 0.70632, prec: -1, rec: -1, n: 180, c : [(2, 66), (1, 60), (0, 54)], t_train: 0.0212, t_inf: 0.0061\n",
      "#17  f1_mic: 0.78786, f1_mac: 0.71856, prec: -1, rec: -1, n: 190, c : [(2, 69), (1, 62), (0, 59)], t_train: 0.0261, t_inf: 0.0062\n",
      "#18  f1_mic: 0.78473, f1_mac: 0.72436, prec: -1, rec: -1, n: 200, c : [(2, 70), (1, 67), (0, 63)], t_train: 0.0384, t_inf: 0.0062\n",
      "#19  f1_mic: 0.78974, f1_mac: 0.72709, prec: -1, rec: -1, n: 210, c : [(2, 73), (1, 71), (0, 66)], t_train: 0.0294, t_inf: 0.0064\n",
      "#20  f1_mic: 0.79631, f1_mac: 0.73589, prec: -1, rec: -1, n: 220, c : [(2, 77), (1, 75), (0, 68)], t_train: 0.0353, t_inf: 0.0063\n",
      "#21  f1_mic: 0.79255, f1_mac: 0.72876, prec: -1, rec: -1, n: 230, c : [(2, 81), (1, 78), (0, 71)], t_train: 0.0399, t_inf: 0.0275\n",
      "#22  f1_mic: 0.79787, f1_mac: 0.72982, prec: -1, rec: -1, n: 240, c : [(2, 86), (1, 81), (0, 73)], t_train: 0.0634, t_inf: 0.0063\n",
      "#23  f1_mic: 0.80319, f1_mac: 0.74566, prec: -1, rec: -1, n: 250, c : [(2, 87), (1, 84), (0, 79)], t_train: 0.0662, t_inf: 0.0066\n",
      "#24  f1_mic: 0.80225, f1_mac: 0.73911, prec: -1, rec: -1, n: 260, c : [(2, 90), (1, 90), (0, 80)], t_train: 0.063, t_inf: 0.0063\n",
      "#25  f1_mic: 0.80663, f1_mac: 0.74353, prec: -1, rec: -1, n: 270, c : [(2, 95), (1, 92), (0, 83)], t_train: 0.0661, t_inf: 0.0063\n",
      "#26  f1_mic: 0.80225, f1_mac: 0.73632, prec: -1, rec: -1, n: 280, c : [(2, 99), (1, 96), (0, 85)], t_train: 0.0408, t_inf: 0.0526\n",
      "#27  f1_mic: 0.80569, f1_mac: 0.74285, prec: -1, rec: -1, n: 290, c : [(2, 101), (1, 100), (0, 89)], t_train: 0.0396, t_inf: 0.0244\n",
      "#28  f1_mic: 0.80788, f1_mac: 0.74627, prec: -1, rec: -1, n: 300, c : [(1, 104), (2, 103), (0, 93)], t_train: 0.0656, t_inf: 0.0062\n",
      "#29  f1_mic: 0.80257, f1_mac: 0.74544, prec: -1, rec: -1, n: 310, c : [(2, 106), (1, 106), (0, 98)], t_train: 0.0702, t_inf: 0.0062\n",
      "#30  f1_mic: 0.80444, f1_mac: 0.74648, prec: -1, rec: -1, n: 320, c : [(2, 110), (1, 110), (0, 100)], t_train: 0.0713, t_inf: 0.006\n",
      "#31  f1_mic: 0.80382, f1_mac: 0.74454, prec: -1, rec: -1, n: 330, c : [(2, 114), (1, 113), (0, 103)], t_train: 0.0345, t_inf: 0.006\n",
      "__ Checkpoint: Save Data\n",
      "Done\n",
      "\n",
      "Start Model 3 ...\n",
      "#1  f1_mic: 0.72904, f1_mac: 0.69451, prec: -1, rec: -1, n: 30, c : [(2, 10), (1, 10), (0, 10)], t_train: 0.0131, t_inf: 0.0066\n",
      "__ End Warmstart\n",
      "#2  f1_mic: 0.78066, f1_mac: 0.68948, prec: -1, rec: -1, n: 40, c : [(2, 16), (1, 12), (0, 12)], t_train: 0.0935, t_inf: 0.0066\n",
      "#3  f1_mic: 0.72403, f1_mac: 0.52555, prec: -1, rec: -1, n: 50, c : [(2, 23), (1, 15), (0, 12)], t_train: 0.2614, t_inf: 0.0071\n",
      "#4  f1_mic: 0.74374, f1_mac: 0.55601, prec: -1, rec: -1, n: 60, c : [(2, 26), (1, 19), (0, 15)], t_train: 0.0186, t_inf: 0.0065\n",
      "#5  f1_mic: 0.7791, f1_mac: 0.66467, prec: -1, rec: -1, n: 70, c : [(2, 26), (1, 24), (0, 20)], t_train: 0.017, t_inf: 0.0078\n",
      "#6  f1_mic: 0.76471, f1_mac: 0.70293, prec: -1, rec: -1, n: 80, c : [(2, 28), (0, 27), (1, 25)], t_train: 0.0161, t_inf: 0.0074\n",
      "#7  f1_mic: 0.79005, f1_mac: 0.72137, prec: -1, rec: -1, n: 90, c : [(2, 32), (1, 29), (0, 29)], t_train: 0.0215, t_inf: 0.0075\n",
      "#8  f1_mic: 0.78692, f1_mac: 0.7118, prec: -1, rec: -1, n: 100, c : [(2, 37), (0, 32), (1, 31)], t_train: 0.018, t_inf: 0.0076\n",
      "#9  f1_mic: 0.78567, f1_mac: 0.71977, prec: -1, rec: -1, n: 110, c : [(2, 39), (0, 36), (1, 35)], t_train: 0.0234, t_inf: 0.0075\n",
      "#10  f1_mic: 0.79443, f1_mac: 0.72682, prec: -1, rec: -1, n: 120, c : [(2, 42), (1, 39), (0, 39)], t_train: 0.0159, t_inf: 0.0071\n",
      "#11  f1_mic: 0.79193, f1_mac: 0.72255, prec: -1, rec: -1, n: 130, c : [(2, 48), (0, 42), (1, 40)], t_train: 0.022, t_inf: 0.0071\n",
      "#12  f1_mic: 0.78536, f1_mac: 0.7069, prec: -1, rec: -1, n: 140, c : [(2, 54), (0, 45), (1, 41)], t_train: 0.0234, t_inf: 0.0071\n",
      "#13  f1_mic: 0.79568, f1_mac: 0.72302, prec: -1, rec: -1, n: 150, c : [(2, 55), (1, 48), (0, 47)], t_train: 0.0235, t_inf: 0.0076\n",
      "#14  f1_mic: 0.79756, f1_mac: 0.73122, prec: -1, rec: -1, n: 160, c : [(2, 57), (0, 52), (1, 51)], t_train: 0.0648, t_inf: 0.0104\n",
      "#15  f1_mic: 0.79662, f1_mac: 0.72887, prec: -1, rec: -1, n: 170, c : [(2, 61), (0, 55), (1, 54)], t_train: 0.0484, t_inf: 0.0064\n",
      "#16  f1_mic: 0.79693, f1_mac: 0.73019, prec: -1, rec: -1, n: 180, c : [(2, 64), (0, 59), (1, 57)], t_train: 0.0474, t_inf: 0.0064\n",
      "#17  f1_mic: 0.79318, f1_mac: 0.72453, prec: -1, rec: -1, n: 190, c : [(2, 69), (0, 62), (1, 59)], t_train: 0.0579, t_inf: 0.0067\n",
      "#18  f1_mic: 0.78536, f1_mac: 0.71623, prec: -1, rec: -1, n: 200, c : [(2, 72), (1, 64), (0, 64)], t_train: 0.0551, t_inf: 0.0063\n",
      "#19  f1_mic: 0.79693, f1_mac: 0.73292, prec: -1, rec: -1, n: 210, c : [(2, 76), (1, 67), (0, 67)], t_train: 0.0534, t_inf: 0.0067\n",
      "#20  f1_mic: 0.79506, f1_mac: 0.73118, prec: -1, rec: -1, n: 220, c : [(2, 79), (1, 71), (0, 70)], t_train: 0.0548, t_inf: 0.0066\n",
      "#21  f1_mic: 0.79036, f1_mac: 0.72914, prec: -1, rec: -1, n: 230, c : [(2, 82), (1, 75), (0, 73)], t_train: 0.0713, t_inf: 0.007\n",
      "#22  f1_mic: 0.78817, f1_mac: 0.73071, prec: -1, rec: -1, n: 240, c : [(2, 83), (1, 79), (0, 78)], t_train: 0.037, t_inf: 0.0064\n",
      "#23  f1_mic: 0.79412, f1_mac: 0.73288, prec: -1, rec: -1, n: 250, c : [(2, 90), (0, 81), (1, 79)], t_train: 0.0298, t_inf: 0.0065\n",
      "#24  f1_mic: 0.80319, f1_mac: 0.73797, prec: -1, rec: -1, n: 260, c : [(2, 95), (0, 83), (1, 82)], t_train: 0.0343, t_inf: 0.0066\n",
      "#25  f1_mic: 0.80069, f1_mac: 0.73701, prec: -1, rec: -1, n: 270, c : [(2, 97), (1, 87), (0, 86)], t_train: 0.0349, t_inf: 0.0064\n",
      "#26  f1_mic: 0.80601, f1_mac: 0.75184, prec: -1, rec: -1, n: 280, c : [(2, 97), (0, 93), (1, 90)], t_train: 0.031, t_inf: 0.0063\n",
      "#27  f1_mic: 0.80476, f1_mac: 0.75098, prec: -1, rec: -1, n: 290, c : [(2, 102), (0, 97), (1, 91)], t_train: 0.0295, t_inf: 0.0063\n",
      "#28  f1_mic: 0.80444, f1_mac: 0.74896, prec: -1, rec: -1, n: 300, c : [(2, 107), (0, 100), (1, 93)], t_train: 0.0321, t_inf: 0.0064\n",
      "#29  f1_mic: 0.80225, f1_mac: 0.74534, prec: -1, rec: -1, n: 310, c : [(2, 112), (0, 102), (1, 96)], t_train: 0.0449, t_inf: 0.0336\n",
      "#30  f1_mic: 0.80663, f1_mac: 0.75193, prec: -1, rec: -1, n: 320, c : [(2, 113), (0, 108), (1, 99)], t_train: 0.0645, t_inf: 0.0063\n",
      "#31  f1_mic: 0.81227, f1_mac: 0.75896, prec: -1, rec: -1, n: 330, c : [(2, 117), (0, 112), (1, 101)], t_train: 0.0727, t_inf: 0.0065\n",
      "__ Checkpoint: Save Data\n",
      "Done\n",
      "\n",
      "Start Model 4 ...\n",
      "#1  f1_mic: 0.74687, f1_mac: 0.70043, prec: -1, rec: -1, n: 30, c : [(2, 10), (1, 10), (0, 10)], t_train: 0.0601, t_inf: 0.0062\n",
      "__ End Warmstart\n",
      "#2  f1_mic: 0.73498, f1_mac: 0.5723, prec: -1, rec: -1, n: 40, c : [(2, 17), (1, 12), (0, 11)], t_train: 0.0146, t_inf: 0.0166\n",
      "#3  f1_mic: 0.76377, f1_mac: 0.6631, prec: -1, rec: -1, n: 50, c : [(2, 18), (1, 17), (0, 15)], t_train: 0.0159, t_inf: 0.006\n",
      "#4  f1_mic: 0.76502, f1_mac: 0.67467, prec: -1, rec: -1, n: 60, c : [(1, 22), (2, 20), (0, 18)], t_train: 0.0162, t_inf: 0.0064\n",
      "#5  f1_mic: 0.76471, f1_mac: 0.68623, prec: -1, rec: -1, n: 70, c : [(1, 25), (2, 23), (0, 22)], t_train: 0.0193, t_inf: 0.0062\n",
      "#6  f1_mic: 0.77879, f1_mac: 0.69916, prec: -1, rec: -1, n: 80, c : [(1, 29), (2, 26), (0, 25)], t_train: 0.0492, t_inf: 0.0062\n",
      "#7  f1_mic: 0.77566, f1_mac: 0.70999, prec: -1, rec: -1, n: 90, c : [(1, 31), (0, 30), (2, 29)], t_train: 0.0383, t_inf: 0.0061\n",
      "#8  f1_mic: 0.79881, f1_mac: 0.73674, prec: -1, rec: -1, n: 100, c : [(2, 34), (1, 33), (0, 33)], t_train: 0.0387, t_inf: 0.006\n",
      "#9  f1_mic: 0.80194, f1_mac: 0.75083, prec: -1, rec: -1, n: 110, c : [(0, 38), (2, 37), (1, 35)], t_train: 0.0226, t_inf: 0.0253\n",
      "#10  f1_mic: 0.78598, f1_mac: 0.73712, prec: -1, rec: -1, n: 120, c : [(0, 44), (2, 40), (1, 36)], t_train: 0.0196, t_inf: 0.0068\n",
      "#11  f1_mic: 0.79099, f1_mac: 0.73108, prec: -1, rec: -1, n: 130, c : [(2, 46), (0, 45), (1, 39)], t_train: 0.0241, t_inf: 0.0072\n",
      "#12  f1_mic: 0.79599, f1_mac: 0.74085, prec: -1, rec: -1, n: 140, c : [(2, 48), (0, 48), (1, 44)], t_train: 0.0191, t_inf: 0.0069\n",
      "#13  f1_mic: 0.79912, f1_mac: 0.75024, prec: -1, rec: -1, n: 150, c : [(0, 51), (1, 50), (2, 49)], t_train: 0.0264, t_inf: 0.0072\n",
      "#14  f1_mic: 0.80319, f1_mac: 0.74399, prec: -1, rec: -1, n: 160, c : [(2, 55), (1, 54), (0, 51)], t_train: 0.0249, t_inf: 0.0069\n",
      "#15  f1_mic: 0.80194, f1_mac: 0.74781, prec: -1, rec: -1, n: 170, c : [(2, 59), (0, 56), (1, 55)], t_train: 0.0253, t_inf: 0.0072\n",
      "#16  f1_mic: 0.80538, f1_mac: 0.75612, prec: -1, rec: -1, n: 180, c : [(0, 62), (2, 61), (1, 57)], t_train: 0.0325, t_inf: 0.0079\n",
      "#17  f1_mic: 0.79975, f1_mac: 0.75294, prec: -1, rec: -1, n: 190, c : [(0, 68), (2, 62), (1, 60)], t_train: 0.0311, t_inf: 0.007\n",
      "#18  f1_mic: 0.79912, f1_mac: 0.75155, prec: -1, rec: -1, n: 200, c : [(0, 71), (2, 67), (1, 62)], t_train: 0.0273, t_inf: 0.0071\n",
      "#19  f1_mic: 0.80069, f1_mac: 0.75379, prec: -1, rec: -1, n: 210, c : [(0, 75), (2, 70), (1, 65)], t_train: 0.0238, t_inf: 0.0072\n",
      "#20  f1_mic: 0.7938, f1_mac: 0.7478, prec: -1, rec: -1, n: 220, c : [(0, 79), (2, 73), (1, 68)], t_train: 0.0272, t_inf: 0.0072\n",
      "#21  f1_mic: 0.79443, f1_mac: 0.74698, prec: -1, rec: -1, n: 230, c : [(0, 83), (2, 77), (1, 70)], t_train: 0.0252, t_inf: 0.0069\n",
      "#22  f1_mic: 0.79568, f1_mac: 0.75048, prec: -1, rec: -1, n: 240, c : [(0, 85), (2, 82), (1, 73)], t_train: 0.0315, t_inf: 0.0069\n",
      "#23  f1_mic: 0.79287, f1_mac: 0.74613, prec: -1, rec: -1, n: 250, c : [(2, 88), (0, 86), (1, 76)], t_train: 0.0405, t_inf: 0.0295\n",
      "#24  f1_mic: 0.80476, f1_mac: 0.75801, prec: -1, rec: -1, n: 260, c : [(2, 91), (0, 89), (1, 80)], t_train: 0.0324, t_inf: 0.0202\n",
      "#25  f1_mic: 0.80163, f1_mac: 0.7519, prec: -1, rec: -1, n: 270, c : [(2, 96), (0, 90), (1, 84)], t_train: 0.0271, t_inf: 0.0303\n",
      "#26  f1_mic: 0.80069, f1_mac: 0.75403, prec: -1, rec: -1, n: 280, c : [(2, 99), (0, 94), (1, 87)], t_train: 0.0574, t_inf: 0.0074\n",
      "#27  f1_mic: 0.79819, f1_mac: 0.75263, prec: -1, rec: -1, n: 290, c : [(2, 101), (0, 99), (1, 90)], t_train: 0.0602, t_inf: 0.0069\n",
      "#28  f1_mic: 0.79912, f1_mac: 0.7537, prec: -1, rec: -1, n: 300, c : [(2, 104), (0, 101), (1, 95)], t_train: 0.058, t_inf: 0.007\n",
      "#29  f1_mic: 0.80038, f1_mac: 0.75554, prec: -1, rec: -1, n: 310, c : [(2, 108), (0, 105), (1, 97)], t_train: 0.0601, t_inf: 0.0071\n",
      "#30  f1_mic: 0.80038, f1_mac: 0.75703, prec: -1, rec: -1, n: 320, c : [(2, 110), (0, 110), (1, 100)], t_train: 0.0615, t_inf: 0.0069\n",
      "#31  f1_mic: 0.80288, f1_mac: 0.75782, prec: -1, rec: -1, n: 330, c : [(2, 115), (0, 112), (1, 103)], t_train: 0.095, t_inf: 0.0075\n",
      "__ Checkpoint: Save Data\n",
      "Done\n",
      "\n"
     ]
    }
   ],
   "source": [
    "import copy\n",
    "\n",
    "f1_mic_list = []\n",
    "f1_mac_list = []\n",
    "precision_list = []\n",
    "recall_list = []\n",
    "c_list = []\n",
    "times_train_list = []\n",
    "times_inf_list = []\n",
    "\n",
    "\n",
    "for i in range(n):\n",
    "        \n",
    "        print('Start Model %s ...' % i)\n",
    "        \n",
    "        # load data\n",
    "        X_train = getXtrain()\n",
    "        X_test = np.load('./../encodings/app_store_sbert_%s_X_test.npy' % i)\n",
    "        y_train = getytrain()\n",
    "        y_test = np.load('./../encodings/app_store_sbert_%s_y_test.npy' % i)\n",
    "\n",
    "        train_idx = [i for i in range(len(X_train))]\n",
    "\n",
    "        used_index_list = []\n",
    "        \n",
    "        al = SKLearnActiveLearner(10, getXtrain(), getytrain(), X_test, y_test, train_idx, LogisticRegression, {'random_state':0})\n",
    "        \n",
    "        al.run_warmstart()\n",
    "        print('__ End Warmstart')\n",
    "        \n",
    "        for i in range(save_and_repeat):\n",
    "            f1_mic, f1_mac, precision, recall, c, times_train, times_inf = al.run_active_learning(al_steps, sample_size_per_step)\n",
    "            \n",
    "            print('__ Checkpoint: Save Data')\n",
    "            \n",
    "            # get selected data\n",
    "            used_index = al.get_training_index()\n",
    "            \n",
    "            used_index_list.append(used_index[:]) # deep copy\n",
    "        \n",
    "        f1_mic_list.append(f1_mic)\n",
    "        f1_mac_list.append(f1_mac)\n",
    "        precision_list.append(precision)\n",
    "        recall_list.append(recall)\n",
    "        c_list.append(c)\n",
    "        times_train_list.append(times_train)\n",
    "        times_inf_list.append(times_inf)\n",
    "            \n",
    "        used_index_meta_list.append(used_index_list)\n",
    "        \n",
    "        \n",
    "        \n",
    "\n",
    "        print('Done')\n",
    "        print()"
   ]
  },
  {
   "cell_type": "code",
   "execution_count": 6,
   "id": "d35058e0-bb3f-4748-b4bb-aa2e5496739e",
   "metadata": {},
   "outputs": [],
   "source": [
    "import os\n",
    "\n",
    "save_dir = './app_store_sbert'\n",
    "\n",
    "if not os.path.isdir(save_dir):\n",
    "    os.mkdir(save_dir)"
   ]
  },
  {
   "cell_type": "code",
   "execution_count": 7,
   "id": "d8ab6d0c-76de-41c5-9861-feb1ef804bf3",
   "metadata": {},
   "outputs": [],
   "source": [
    "np.save('%s/f1_micro' % save_dir, f1_mic_list)\n",
    "np.save('%s/f1_macro' % save_dir, f1_mac_list)\n",
    "np.save('%s/class_distributions' % save_dir, c_list)\n",
    "np.save('%s/times_training' % save_dir, times_train_list)\n",
    "np.save('%s/times_inference' % save_dir, times_inf_list)\n",
    "np.save('%s/used_training_index' % save_dir, used_index_meta_list)"
   ]
  },
  {
   "cell_type": "code",
   "execution_count": null,
   "id": "759fba63-5268-4d7a-8aac-18a531a153da",
   "metadata": {},
   "outputs": [],
   "source": [
    "f1_mic_list = []\n",
    "f1_mac_list = []\n",
    "precision_list = []\n",
    "recall_list = []\n",
    "c_list = []\n",
    "times_train_list = []\n",
    "times_inf_list = []"
   ]
  },
  {
   "cell_type": "code",
   "execution_count": null,
   "id": "43aba322-a5b0-4f23-8f2d-f7c95ce4be8f",
   "metadata": {},
   "outputs": [],
   "source": []
  },
  {
   "cell_type": "code",
   "execution_count": 73,
   "id": "5e4acf16-65ba-493a-ae42-9c6fa6ca5c33",
   "metadata": {},
   "outputs": [],
   "source": [
    "#import pandas as pd\n",
    "#df = pd.DataFrame(columns=['iter', 'f1_mic', 'f1_mac', 'n', 'c', 't_train', 't_inf'])"
   ]
  },
  {
   "cell_type": "code",
   "execution_count": 71,
   "id": "cc98417a-bbbe-4a74-b5b5-c7e9fec2f4be",
   "metadata": {},
   "outputs": [],
   "source": [
    "#df = df.append({'A':1, 'B':5, 'C':4}, ignore_index=True)"
   ]
  },
  {
   "cell_type": "code",
   "execution_count": 4,
   "id": "c7ed077e-390a-4cf5-9b78-a14e038765c0",
   "metadata": {},
   "outputs": [],
   "source": [
    "#df"
   ]
  },
  {
   "cell_type": "code",
   "execution_count": 5,
   "id": "128a4e7c-3402-4edd-823a-45aefb0cd745",
   "metadata": {},
   "outputs": [
    {
     "data": {
      "text/plain": [
       "[0.74687, 0.77284, 0.79725, 0.81539, 0.82165, 0.82071, 0.82728]"
      ]
     },
     "execution_count": 5,
     "metadata": {},
     "output_type": "execute_result"
    }
   ],
   "source": [
    "f1_mic"
   ]
  },
  {
   "cell_type": "code",
   "execution_count": null,
   "id": "2fe3517a-aedd-44d6-b42b-43eb363242b5",
   "metadata": {},
   "outputs": [],
   "source": []
  },
  {
   "cell_type": "code",
   "execution_count": 6,
   "id": "3fb4c81d-0115-43b1-9221-242467fdb978",
   "metadata": {},
   "outputs": [
    {
     "data": {
      "text/plain": [
       "(array([0.725156, 0.747058, 0.795744, 0.812576, 0.818146, 0.821462,\n",
       "        0.825594]),\n",
       " array([0.04391634, 0.0344166 , 0.00454607, 0.00400492, 0.00536719,\n",
       "        0.00417371, 0.00373017]))"
      ]
     },
     "execution_count": 6,
     "metadata": {},
     "output_type": "execute_result"
    }
   ],
   "source": [
    "np.array(f1_mic_list).mean(axis=0), np.array(f1_mic_list).std(axis=0)"
   ]
  },
  {
   "cell_type": "code",
   "execution_count": 7,
   "id": "bdb7318a-5a6c-4a51-91d1-70b6348ab4da",
   "metadata": {},
   "outputs": [
    {
     "data": {
      "text/plain": [
       "(array([0.03465714, 0.04138173, 0.05518009, 0.05884732, 0.0840723 ,\n",
       "        0.08502895, 0.12265593]),\n",
       " array([0.02614077, 0.0318853 , 0.03486923, 0.0167171 , 0.02770926,\n",
       "        0.00895526, 0.02884097]))"
      ]
     },
     "execution_count": 7,
     "metadata": {},
     "output_type": "execute_result"
    }
   ],
   "source": [
    "np.array(times_train_list).mean(axis=0), np.array(times_train_list).std(axis=0)"
   ]
  },
  {
   "cell_type": "code",
   "execution_count": 8,
   "id": "31f3a958-e7f3-4606-903d-2f12e7d9073b",
   "metadata": {},
   "outputs": [
    {
     "data": {
      "text/plain": [
       "(array([0.00844313, 0.00734673, 0.01636317, 0.01078033, 0.00665261,\n",
       "        0.01635642, 0.01648517]),\n",
       " array([0.0022227 , 0.00175227, 0.01966757, 0.00840542, 0.00037863,\n",
       "        0.01970948, 0.02017543]))"
      ]
     },
     "execution_count": 8,
     "metadata": {},
     "output_type": "execute_result"
    }
   ],
   "source": [
    "np.array(times_inf_list).mean(axis=0), np.array(times_inf_list).std(axis=0)"
   ]
  },
  {
   "cell_type": "code",
   "execution_count": null,
   "id": "2bef1434-9f69-4649-9b3d-1058d12585e7",
   "metadata": {},
   "outputs": [],
   "source": []
  },
  {
   "cell_type": "code",
   "execution_count": 8,
   "id": "db66651b-df01-47b5-b683-77739cc549a6",
   "metadata": {},
   "outputs": [],
   "source": [
    "import matplotlib.pyplot as plt"
   ]
  },
  {
   "cell_type": "code",
   "execution_count": 9,
   "id": "45a54172-4ddd-4403-b257-9483abfa9de8",
   "metadata": {},
   "outputs": [
    {
     "data": {
      "text/plain": [
       "[<matplotlib.lines.Line2D at 0x7f47e7194be0>]"
      ]
     },
     "execution_count": 9,
     "metadata": {},
     "output_type": "execute_result"
    },
    {
     "data": {
      "image/png": "[encoded data removed]",
      "text/plain": [
       "<Figure size 432x288 with 1 Axes>"
      ]
     },
     "metadata": {
      "needs_background": "light"
     },
     "output_type": "display_data"
    }
   ],
   "source": [
    "plt.plot(np.array(f1_mic_list).mean(axis=0))"
   ]
  },
  {
   "cell_type": "code",
   "execution_count": 10,
   "id": "6faa8c04-be07-43ea-88cc-0243f9876dca",
   "metadata": {},
   "outputs": [
    {
     "data": {
      "text/plain": [
       "[<matplotlib.lines.Line2D at 0x7f47e7537820>]"
      ]
     },
     "execution_count": 10,
     "metadata": {},
     "output_type": "execute_result"
    },
    {
     "data": {
      "image/png": "[encoded data removed]",
      "text/plain": [
       "<Figure size 432x288 with 1 Axes>"
      ]
     },
     "metadata": {
      "needs_background": "light"
     },
     "output_type": "display_data"
    }
   ],
   "source": [
    "plt.plot(np.array(f1_mic_list).std(axis=0))"
   ]
  },
  {
   "cell_type": "code",
   "execution_count": 14,
   "id": "41236a47-0d54-4422-9fee-37702cef4ba4",
   "metadata": {},
   "outputs": [
    {
     "name": "stdout",
     "output_type": "stream",
     "text": [
      "330\n",
      "630\n",
      "330\n",
      "630\n",
      "330\n",
      "630\n",
      "330\n",
      "630\n",
      "330\n",
      "630\n"
     ]
    },
    {
     "name": "stderr",
     "output_type": "stream",
     "text": [
      "/tmp/ipykernel_664/51068041.py:1: VisibleDeprecationWarning: Creating an ndarray from ragged nested sequences (which is a list-or-tuple of lists-or-tuples-or ndarrays with different lengths or shapes) is deprecated. If you meant to do this, you must specify 'dtype=object' when creating the ndarray\n",
      "  idx = np.array(used_index_meta_list).shape\n"
     ]
    }
   ],
   "source": [
    "idx = np.array(used_index_meta_list).shape\n",
    "for i in range(idx[0]):\n",
    "    print(len(used_index_meta_list[0][0]))\n",
    "    print(len(used_index_meta_list[0][1]))"
   ]
  },
  {
   "cell_type": "code",
   "execution_count": 12,
   "id": "82a2f16a-7da9-4d0a-b680-076fadf36434",
   "metadata": {},
   "outputs": [
    {
     "data": {
      "text/plain": [
       "5"
      ]
     },
     "execution_count": 12,
     "metadata": {},
     "output_type": "execute_result"
    }
   ],
   "source": [
    "len(used_index_meta_list)"
   ]
  }
 ],
 "metadata": {
  "kernelspec": {
   "display_name": "Python 3 (ipykernel)",
   "language": "python",
   "name": "python3"
  },
  "language_info": {
   "codemirror_mode": {
    "name": "ipython",
    "version": 3
   },
   "file_extension": ".py",
   "mimetype": "text/x-python",
   "name": "python",
   "nbconvert_exporter": "python",
   "pygments_lexer": "ipython3",
   "version": "3.9.7"
  }
 },
 "nbformat": 4,
 "nbformat_minor": 5
}
