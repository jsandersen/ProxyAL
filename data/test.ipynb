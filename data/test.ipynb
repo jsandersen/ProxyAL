{
 "cells": [
  {
   "cell_type": "code",
   "execution_count": 2,
   "id": "a0e70e95-7181-4baa-b909-036b3a049f18",
   "metadata": {},
   "outputs": [],
   "source": [
    "import pandas as pd\n",
    "import re\n",
    "import numpy as np\n",
    "import os"
   ]
  },
  {
   "cell_type": "code",
   "execution_count": 3,
   "id": "0f7e042d-0fa0-4c70-b521-c2864f289fc5",
   "metadata": {},
   "outputs": [],
   "source": [
    "def _load_app_store(data_dir = './dataset.csv'):\n",
    "    df = pd.read_csv(data_dir)\n",
    "    \n",
    "    df_en = df[(df.lang == 'en') & (df.source == 'app_review') & ~df['text'].isna()]\n",
    "    \n",
    "    X = df_en['text'].to_list()\n",
    "    y = df_en['category'].map({'inq': 0, 'pbr': 1, 'irr': 2}).to_list()\n",
    "    \n",
    "    return X, y"
   ]
  },
  {
   "cell_type": "code",
   "execution_count": 4,
   "id": "7a8d2313-51ce-4579-9be9-127b3e3fa8e9",
   "metadata": {},
   "outputs": [],
   "source": [
    "X, y = _load_app_store()"
   ]
  },
  {
   "cell_type": "code",
   "execution_count": null,
   "id": "e64644f9-9642-4eaa-81ad-213bd3f15504",
   "metadata": {},
   "outputs": [],
   "source": []
  },
  {
   "cell_type": "code",
   "execution_count": null,
   "id": "7924f185-fae5-4b3a-9081-055e0bc8be26",
   "metadata": {},
   "outputs": [],
   "source": []
  },
  {
   "cell_type": "code",
   "execution_count": 1,
   "id": "393f44f6-a0c4-489f-a358-08a06097351c",
   "metadata": {},
   "outputs": [],
   "source": [
    "## IMDB"
   ]
  },
  {
   "cell_type": "code",
   "execution_count": 11,
   "id": "01f5faf8-18d4-4ba6-8217-992f79995b1b",
   "metadata": {},
   "outputs": [],
   "source": [
    "import pandas as pd\n",
    "import re\n",
    "import numpy as np"
   ]
  },
  {
   "cell_type": "code",
   "execution_count": 12,
   "id": "32163cdc-9bee-4e2d-8731-39dce9abb085",
   "metadata": {},
   "outputs": [],
   "source": [
    "import os\n",
    "\n",
    "def _load_imdb(data_dir = '/home/jovyan/Active Learning/data/aclImdb/'):\n",
    "    X = []\n",
    "    y = []\n",
    "    for partition in [\"train\", \"test\"]:\n",
    "        for category  in [\"pos\", \"neg\"]:\n",
    "            lable = 0 if category  == \"neg\" else 1\n",
    "\n",
    "            path = os.path.join(data_dir, partition, category )\n",
    "            files = os.listdir(path)\n",
    "            for f_name in files:\n",
    "                with open(os.path.join(path, f_name), \"r\") as f:\n",
    "                    review = f.read()\n",
    "                    X.append(review)\n",
    "                    y.append(lable)\n",
    "\n",
    "    return X, y\n",
    "\n",
    "X, y = _load_imdb()"
   ]
  },
  {
   "cell_type": "code",
   "execution_count": 13,
   "id": "605a65d4-2a08-45c7-ab83-d60a40b9dc7a",
   "metadata": {},
   "outputs": [],
   "source": [
    "# to remove URLs\n",
    "def remove_URL(text):\n",
    "    url = re.compile(r'https?://\\S+|www\\.\\S+')\n",
    "    return url.sub(r'',text)\n",
    "\n",
    "# to remove html tags\n",
    "def remove_html(text):\n",
    "    html=re.compile(r'<.*?>')\n",
    "    return html.sub(r'',text)"
   ]
  },
  {
   "cell_type": "code",
   "execution_count": 14,
   "id": "e1353997-dc2f-41d6-8123-8d5897a9781c",
   "metadata": {},
   "outputs": [
    {
     "data": {
      "text/html": [
       "<div>\n",
       "<style scoped>\n",
       "    .dataframe tbody tr th:only-of-type {\n",
       "        vertical-align: middle;\n",
       "    }\n",
       "\n",
       "    .dataframe tbody tr th {\n",
       "        vertical-align: top;\n",
       "    }\n",
       "\n",
       "    .dataframe thead th {\n",
       "        text-align: right;\n",
       "    }\n",
       "</style>\n",
       "<table border=\"1\" class=\"dataframe\">\n",
       "  <thead>\n",
       "    <tr style=\"text-align: right;\">\n",
       "      <th></th>\n",
       "      <th>0</th>\n",
       "    </tr>\n",
       "  </thead>\n",
       "  <tbody>\n",
       "    <tr>\n",
       "      <th>0</th>\n",
       "      <td>Although I have not seen this mini-series in o...</td>\n",
       "    </tr>\n",
       "    <tr>\n",
       "      <th>1</th>\n",
       "      <td>In terms of visual beauty this movie is outsta...</td>\n",
       "    </tr>\n",
       "    <tr>\n",
       "      <th>2</th>\n",
       "      <td>Meatball Machine is an amazing splatter film, ...</td>\n",
       "    </tr>\n",
       "    <tr>\n",
       "      <th>3</th>\n",
       "      <td>I have watched this movie three times. The las...</td>\n",
       "    </tr>\n",
       "    <tr>\n",
       "      <th>4</th>\n",
       "      <td>Okay, so the first few seasons took a while to...</td>\n",
       "    </tr>\n",
       "  </tbody>\n",
       "</table>\n",
       "</div>"
      ],
      "text/plain": [
       "                                                   0\n",
       "0  Although I have not seen this mini-series in o...\n",
       "1  In terms of visual beauty this movie is outsta...\n",
       "2  Meatball Machine is an amazing splatter film, ...\n",
       "3  I have watched this movie three times. The las...\n",
       "4  Okay, so the first few seasons took a while to..."
      ]
     },
     "execution_count": 14,
     "metadata": {},
     "output_type": "execute_result"
    }
   ],
   "source": [
    "df = pd.DataFrame(data=(X))\n",
    "df.head()"
   ]
  },
  {
   "cell_type": "code",
   "execution_count": 15,
   "id": "2e0fe6e8-fcc9-441e-b7a0-37983b44de67",
   "metadata": {},
   "outputs": [],
   "source": [
    "df[0] = df[0].apply(remove_URL)\n",
    "df[0] = df[0].apply(remove_html)"
   ]
  },
  {
   "cell_type": "code",
   "execution_count": 16,
   "id": "ed73cca3-17db-47fa-8afd-ba2b4e3a3377",
   "metadata": {},
   "outputs": [],
   "source": [
    "np.save('imdb_X', df[0].tolist())"
   ]
  },
  {
   "cell_type": "code",
   "execution_count": 17,
   "id": "c69938ad-7ddc-4e6d-a1ca-58a91bf37cb7",
   "metadata": {},
   "outputs": [],
   "source": [
    "np.save('imdb_y', y)"
   ]
  },
  {
   "cell_type": "code",
   "execution_count": 19,
   "id": "744d8638-52c8-4e82-be6b-466eb1e2574a",
   "metadata": {},
   "outputs": [
    {
     "data": {
      "text/plain": [
       "True"
      ]
     },
     "execution_count": 19,
     "metadata": {},
     "output_type": "execute_result"
    }
   ],
   "source": [
    "import os.path\n",
    "os.path.isfile('./imdb_X.npy') "
   ]
  }
 ],
 "metadata": {
  "kernelspec": {
   "display_name": "Python 3 (ipykernel)",
   "language": "python",
   "name": "python3"
  },
  "language_info": {
   "codemirror_mode": {
    "name": "ipython",
    "version": 3
   },
   "file_extension": ".py",
   "mimetype": "text/x-python",
   "name": "python",
   "nbconvert_exporter": "python",
   "pygments_lexer": "ipython3",
   "version": "3.9.7"
  }
 },
 "nbformat": 4,
 "nbformat_minor": 5
}
