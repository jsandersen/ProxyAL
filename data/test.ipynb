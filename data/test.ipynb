{
 "cells": [
  {
   "cell_type": "code",
   "execution_count": 28,
   "id": "16498149-4941-4eb2-ad5b-18ecac2a9939",
   "metadata": {},
   "outputs": [
    {
     "name": "stdout",
     "output_type": "stream",
     "text": [
      "Requirement already satisfied: nltk in /opt/conda/lib/python3.9/site-packages (3.6.5)\n",
      "Requirement already satisfied: regex>=2021.8.3 in /opt/conda/lib/python3.9/site-packages (from nltk) (2021.9.30)\n",
      "Requirement already satisfied: joblib in /opt/conda/lib/python3.9/site-packages (from nltk) (1.0.1)\n",
      "Requirement already satisfied: tqdm in /opt/conda/lib/python3.9/site-packages (from nltk) (4.62.3)\n",
      "Requirement already satisfied: click in /opt/conda/lib/python3.9/site-packages (from nltk) (8.0.1)\n",
      "\u001b[33mWARNING: You are using pip version 21.2.4; however, version 21.3.1 is available.\n",
      "You should consider upgrading via the '/opt/conda/bin/python -m pip install --upgrade pip' command.\u001b[0m\n"
     ]
    }
   ],
   "source": [
    "!pip install nltk"
   ]
  },
  {
   "cell_type": "code",
   "execution_count": 29,
   "id": "7a78025d-4abd-41d5-a8d6-a87d1ec5a3a5",
   "metadata": {},
   "outputs": [],
   "source": [
    "import numpy as np\n",
    "import nltk\n",
    "from nltk.corpus import reuters "
   ]
  },
  {
   "cell_type": "code",
   "execution_count": 43,
   "id": "e5cd57f0-4ae2-4cbd-9647-c84e2981b56d",
   "metadata": {},
   "outputs": [],
   "source": [
    "cat_8 = ['acq', 'earn', 'grain', 'interest', 'money-fx']\n",
    "\n",
    "def load_reuters(data_dir = None):\n",
    "    nltk.download('reuters')\n",
    "    \n",
    "    dic_map = {}\n",
    "    for i in range(len(cat_8)):\n",
    "        dic_map[cat_8[i]] = i\n",
    "\n",
    "    documents = reuters.fileids()\n",
    "    train_docs = list(filter(lambda doc: doc.startswith(\"train\"), documents));\n",
    "    test_docs = list(filter(lambda doc: doc.startswith(\"test\"), documents));\n",
    "    \n",
    "    def _get_data(docs):\n",
    "        docs_text = []\n",
    "        docs_label = []\n",
    "        for index, i in  enumerate(docs):\n",
    "            docs_text.append(reuters.raw(fileids=[i]))\n",
    "            docs_label.append(reuters.categories(i))\n",
    "\n",
    "        X = []\n",
    "        y = []\n",
    "        for cat in cat_8:\n",
    "            count = 0\n",
    "            for i in range(len(docs_label)): \n",
    "                if cat in docs_label[i]:\n",
    "                    if len(docs_label[i]) > 1:\n",
    "                        double = 0\n",
    "                        for label in docs_label[i]:\n",
    "                            if label in cat_8:\n",
    "                                double += 1\n",
    "                        if double > 1:\n",
    "                            continue;\n",
    "                    count += 1\n",
    "                    X.append(docs_text[i])\n",
    "                    y.append(cat)\n",
    "        return X, y\n",
    "    \n",
    "    X_train, y_train = _get_data(train_docs)\n",
    "    X_test, y_test = _get_data(test_docs)\n",
    "    \n",
    "    X = np.concatenate([X_train, X_test])\n",
    "    y = np.concatenate([y_train, y_test])\n",
    "    y = [dic_map[i] for i in y]\n",
    "    \n",
    "    return X, y"
   ]
  },
  {
   "cell_type": "code",
   "execution_count": 44,
   "id": "2768f101-08ff-4856-9210-a13661c747e9",
   "metadata": {},
   "outputs": [
    {
     "name": "stderr",
     "output_type": "stream",
     "text": [
      "[nltk_data] Downloading package reuters to /home/jovyan/nltk_data...\n",
      "[nltk_data]   Package reuters is already up-to-date!\n"
     ]
    }
   ],
   "source": [
    "X, y = load_reuters()"
   ]
  },
  {
   "cell_type": "code",
   "execution_count": 53,
   "id": "2e8ab10b-c02d-4146-8aa4-f5fceb5a9808",
   "metadata": {},
   "outputs": [
    {
     "name": "stdout",
     "output_type": "stream",
     "text": [
      "Woolworth Holdings says it bidding 244 mln stg for Superdrug stores\n",
      "\n",
      "  Woolworth Holdings says it bidding 244 mln stg for Superdrug stores\n",
      "  \n",
      "\n",
      "\n"
     ]
    }
   ],
   "source": [
    "print(X[70])"
   ]
  },
  {
   "cell_type": "code",
   "execution_count": 45,
   "id": "d3dda864-3e54-4505-84fb-b908e8160623",
   "metadata": {},
   "outputs": [
    {
     "data": {
      "text/plain": [
       "7694"
      ]
     },
     "execution_count": 45,
     "metadata": {},
     "output_type": "execute_result"
    }
   ],
   "source": [
    "len(y)"
   ]
  },
  {
   "cell_type": "code",
   "execution_count": 46,
   "id": "16cb4248-a123-415d-89fa-25da714700ad",
   "metadata": {},
   "outputs": [
    {
     "data": {
      "text/plain": [
       "Counter({0: 2347, 1: 3945, 2: 578, 3: 294, 4: 530})"
      ]
     },
     "execution_count": 46,
     "metadata": {},
     "output_type": "execute_result"
    }
   ],
   "source": [
    "from  collections import Counter\n",
    "Counter(y)"
   ]
  },
  {
   "cell_type": "code",
   "execution_count": 34,
   "id": "12e1a4dc-13f9-463b-9a64-997f48c384b2",
   "metadata": {},
   "outputs": [
    {
     "data": {
      "text/plain": [
       "Counter({0: 2319, 1: 458, 2: 3930, 3: 527, 4: 290, 5: 499, 6: 166, 7: 425})"
      ]
     },
     "execution_count": 34,
     "metadata": {},
     "output_type": "execute_result"
    }
   ],
   "source": [
    "from  collections import Counter\n",
    "Counter(y)"
   ]
  },
  {
   "cell_type": "code",
   "execution_count": 25,
   "id": "c66385dd-6400-41e1-ace4-316f2c92b292",
   "metadata": {},
   "outputs": [],
   "source": [
    "import numpy as np\n",
    "import pandas as pd\n",
    "from sklearn.utils import shuffle"
   ]
  },
  {
   "cell_type": "code",
   "execution_count": 26,
   "id": "4f865ac2-acd9-4014-9cf8-6d109f197e05",
   "metadata": {},
   "outputs": [],
   "source": [
    "data = pd.read_csv(\"./datasets/train.csv\")"
   ]
  },
  {
   "cell_type": "code",
   "execution_count": 27,
   "id": "b3832734-8f11-4168-8817-cc0285a3c795",
   "metadata": {},
   "outputs": [
    {
     "data": {
      "text/plain": [
       "159571"
      ]
     },
     "execution_count": 27,
     "metadata": {},
     "output_type": "execute_result"
    }
   ],
   "source": [
    "len(data)"
   ]
  },
  {
   "cell_type": "code",
   "execution_count": 4,
   "id": "75fc5cf6-1b87-485f-85ff-20fd9973bfd3",
   "metadata": {},
   "outputs": [],
   "source": [
    " doc_labels = (data['toxic'] == 1) | (data['severe_toxic']==1) | (data['obscene']==1) | (data['threat']==1) | (data['insult']==1) | (data['identity_hate']==1)"
   ]
  },
  {
   "cell_type": "code",
   "execution_count": 5,
   "id": "65c9547f-4408-4953-a017-3de14cef21a8",
   "metadata": {},
   "outputs": [
    {
     "data": {
      "text/plain": [
       "0         False\n",
       "1         False\n",
       "2         False\n",
       "3         False\n",
       "4         False\n",
       "          ...  \n",
       "159566    False\n",
       "159567    False\n",
       "159568    False\n",
       "159569    False\n",
       "159570    False\n",
       "Length: 159571, dtype: bool"
      ]
     },
     "execution_count": 5,
     "metadata": {},
     "output_type": "execute_result"
    }
   ],
   "source": [
    "doc_labels"
   ]
  },
  {
   "cell_type": "code",
   "execution_count": 18,
   "id": "8c617ae1-be2a-4e23-bad1-8bc5f179092c",
   "metadata": {},
   "outputs": [],
   "source": [
    "df = pd.DataFrame ({'id': data.id, 'comment_text': data.comment_text, 'label' : doc_labels.map({True: 1, False: 0})})\n",
    "df = df.sample(frac=1, random_state=7).reset_index(drop=True)\n",
    "df_sort = df.sort_values('label')\n",
    "df_sort = df_sort.iloc[-50000: , :]"
   ]
  },
  {
   "cell_type": "code",
   "execution_count": 20,
   "id": "d4a7a538-1f66-42f0-ab63-31cd760938a0",
   "metadata": {},
   "outputs": [],
   "source": [
    "import re\n",
    "def remove_IP(text):\n",
    "    url = re.compile(r'[0-9]+(?:\\.[0-9]+){3}')\n",
    "    return url.sub(r'',text)"
   ]
  },
  {
   "cell_type": "code",
   "execution_count": 21,
   "id": "1edfb6da-71d5-456d-a0d6-3284b8c5ff3c",
   "metadata": {},
   "outputs": [
    {
     "ename": "NameError",
     "evalue": "name 'df_sort' is not defined",
     "output_type": "error",
     "traceback": [
      "\u001b[0;31m---------------------------------------------------------------------------\u001b[0m",
      "\u001b[0;31mNameError\u001b[0m                                 Traceback (most recent call last)",
      "\u001b[0;32m/tmp/ipykernel_246/830490958.py\u001b[0m in \u001b[0;36m<module>\u001b[0;34m\u001b[0m\n\u001b[0;32m----> 1\u001b[0;31m \u001b[0mdocs\u001b[0m \u001b[0;34m=\u001b[0m \u001b[0mdf_sort\u001b[0m\u001b[0;34m[\u001b[0m\u001b[0;34m'comment_text'\u001b[0m\u001b[0;34m]\u001b[0m\u001b[0;34m\u001b[0m\u001b[0;34m\u001b[0m\u001b[0m\n\u001b[0m\u001b[1;32m      2\u001b[0m \u001b[0mdocs_label\u001b[0m \u001b[0;34m=\u001b[0m \u001b[0mdf_sort\u001b[0m\u001b[0;34m[\u001b[0m\u001b[0;34m'label'\u001b[0m\u001b[0;34m]\u001b[0m\u001b[0;34m\u001b[0m\u001b[0;34m\u001b[0m\u001b[0m\n",
      "\u001b[0;31mNameError\u001b[0m: name 'df_sort' is not defined"
     ]
    }
   ],
   "source": [
    "docs = df_sort['comment_text']\n",
    "docs_label = df_sort['label']"
   ]
  },
  {
   "cell_type": "code",
   "execution_count": 22,
   "id": "a2a38e33-469a-46a4-bfab-33de88e2d3a2",
   "metadata": {},
   "outputs": [
    {
     "ename": "NameError",
     "evalue": "name 'docs' is not defined",
     "output_type": "error",
     "traceback": [
      "\u001b[0;31m---------------------------------------------------------------------------\u001b[0m",
      "\u001b[0;31mNameError\u001b[0m                                 Traceback (most recent call last)",
      "\u001b[0;32m/tmp/ipykernel_246/3964600744.py\u001b[0m in \u001b[0;36m<module>\u001b[0;34m\u001b[0m\n\u001b[0;32m----> 1\u001b[0;31m \u001b[0mdocs\u001b[0m\u001b[0;34m,\u001b[0m \u001b[0mdocs_label\u001b[0m \u001b[0;34m=\u001b[0m \u001b[0mshuffle\u001b[0m\u001b[0;34m(\u001b[0m\u001b[0mdocs\u001b[0m\u001b[0;34m,\u001b[0m \u001b[0mdocs_label\u001b[0m\u001b[0;34m,\u001b[0m \u001b[0mrandom_state\u001b[0m\u001b[0;34m=\u001b[0m\u001b[0;36m42\u001b[0m\u001b[0;34m)\u001b[0m\u001b[0;34m\u001b[0m\u001b[0;34m\u001b[0m\u001b[0m\n\u001b[0m",
      "\u001b[0;31mNameError\u001b[0m: name 'docs' is not defined"
     ]
    }
   ],
   "source": [
    "docs, docs_label = shuffle(docs, docs_label, random_state=42)"
   ]
  },
  {
   "cell_type": "code",
   "execution_count": 21,
   "id": "f7913bdb-5c93-4bbe-bdaa-f667e845860d",
   "metadata": {},
   "outputs": [],
   "source": [
    "from  collections import Counter"
   ]
  },
  {
   "cell_type": "code",
   "execution_count": 24,
   "id": "bb18a7fa-5a5c-4d20-bd5b-1639dc591b16",
   "metadata": {},
   "outputs": [
    {
     "data": {
      "text/plain": [
       "Counter({0: 33775, 1: 16225})"
      ]
     },
     "execution_count": 24,
     "metadata": {},
     "output_type": "execute_result"
    }
   ],
   "source": [
    "Counter(docs_label)"
   ]
  },
  {
   "cell_type": "code",
   "execution_count": 22,
   "id": "5f4edd15-2f2b-4634-9a06-75b25bb68b76",
   "metadata": {},
   "outputs": [],
   "source": [
    "l = docs.tolist()"
   ]
  },
  {
   "cell_type": "code",
   "execution_count": null,
   "id": "1f26b6cb-e7cc-4569-b643-761c9ba9a833",
   "metadata": {},
   "outputs": [],
   "source": [
    "[0-9]+(?:\\.[0-9]+){3}"
   ]
  },
  {
   "cell_type": "code",
   "execution_count": null,
   "id": "361ea5f0-aa01-4e87-bc51-c176b29e1e42",
   "metadata": {},
   "outputs": [],
   "source": []
  },
  {
   "cell_type": "code",
   "execution_count": null,
   "id": "9417c951-7003-4ce8-8dcc-812f752b7cae",
   "metadata": {},
   "outputs": [],
   "source": []
  },
  {
   "cell_type": "code",
   "execution_count": 23,
   "id": "2e7fa190-8525-4484-bea7-2eff20db0789",
   "metadata": {},
   "outputs": [],
   "source": [
    "text = \"Please note this is a mobile proxy IP address, and I believe it is fed through BIS, therefore it could potentially have half of Europe's BlackBerry connections through it . Please display a warning as necessary. 93.186.23.238\""
   ]
  },
  {
   "cell_type": "code",
   "execution_count": 24,
   "id": "4b77fec2-8569-4b0f-a667-a99c281d35e8",
   "metadata": {},
   "outputs": [
    {
     "data": {
      "text/plain": [
       "\"Please note this is a mobile proxy IP address, and I believe it is fed through BIS, therefore it could potentially have half of Europe's BlackBerry connections through it . Please display a warning as necessary. \""
      ]
     },
     "execution_count": 24,
     "metadata": {},
     "output_type": "execute_result"
    }
   ],
   "source": [
    "remove_IP(text)"
   ]
  },
  {
   "cell_type": "code",
   "execution_count": 23,
   "id": "0c117516-a5b2-4358-95e1-336cfbc836d9",
   "metadata": {},
   "outputs": [
    {
     "name": "stdout",
     "output_type": "stream",
     "text": [
      "Numbering tables \n",
      "\n",
      "The problem with manually numbering lists of bridges is that new bridges are constructed all the time.  There are several long bridges that are under constructions that will force a renumbering of the entire list.  Your method, while a little less confusing, takes more work to maintain.  Are you willing to take on maintaining the re-numbering whenever someone adds a missing bridge?  I'm not sure it is worth the effort.\n",
      "-----\n",
      "\"\n",
      "\n",
      " Oooo... \n",
      "\n",
      "Mr Administrator thinks he's all tough with his \"\"ZOMG-I-BLOCKS-YOU\"\" powers.\"\n",
      "-----\n",
      "Urdu Wikipedia \n",
      "\n",
      "Asalam-o-Alikum\n",
      "\n",
      "I request you to please contribute to Urdu wikipedia. We are trying hard to build this wiki. Current article count is 617. Your help in any way would be appreciated.(even if you understand basic level of urdu)\n",
      "-----\n",
      "Please note this is a mobile proxy IP address, and I believe it is fed through BIS, therefore it could potentially have half of Europe's BlackBerry connections through it . Please display a warning as necessary. 93.186.23.238\n",
      "-----\n",
      "hey retard. \n",
      "\n",
      "You don't get it. those two put warnings on my page for vandalising User:tommy2010/vandalise. they can putt odd things on my page, i can put weird things on theirs.\n",
      "-----\n",
      "Thanks for being an ass when I tried to help.  CFHS grad.\n",
      "-----\n",
      "My opinion. \n",
      "\n",
      "So, we have different POVs. Some of us are from countries that had fought with AK and unlike them. But that POV is not the only POV. We should compromise and consensus. Collaboration and attrocities are in article. Do not edit war over inclusion in lead, it is an undue place for that. Alden or  talk with Alden\n",
      "-----\n",
      "Resistance is a Killer App \n",
      "\n",
      "Many people, myself included, believe Resistance: Fall of Man is a killer application and does excel in many ways. These people haven't soley, but mainly, bought this system to play this game. If you will kindly go to the review of this game at ign.com you will see that they, too, believe it to be the first Playstation 3 killer application, and as you should know this is a respectable source of info. Bitch. Remember to go to the review of the game at ign.com. Bitch.\n",
      "-----\n",
      "lebron james got a triple double in the all star game in 2011, so jordan is the first not the only.\n",
      "-----\n",
      "If you dislike Mexicans, click these links\n",
      "-----\n"
     ]
    }
   ],
   "source": [
    "for i in range(10):\n",
    "    print(l[i])\n",
    "    print('-----')"
   ]
  },
  {
   "cell_type": "code",
   "execution_count": null,
   "id": "e1fab41f-3eae-4e7b-ab53-b62825a3ea20",
   "metadata": {},
   "outputs": [],
   "source": []
  },
  {
   "cell_type": "code",
   "execution_count": null,
   "id": "07ef44ba-f53d-41a3-84f9-2663c2b60188",
   "metadata": {},
   "outputs": [],
   "source": []
  },
  {
   "cell_type": "code",
   "execution_count": null,
   "id": "039b1438-3e12-4267-abfe-78da70be402d",
   "metadata": {},
   "outputs": [],
   "source": []
  },
  {
   "cell_type": "code",
   "execution_count": null,
   "id": "61d07fce-e5fa-4322-b866-9aca03b87d24",
   "metadata": {},
   "outputs": [],
   "source": []
  },
  {
   "cell_type": "code",
   "execution_count": null,
   "id": "6703f3d8-b7f6-4ec0-83f4-20f8b40b9fa2",
   "metadata": {},
   "outputs": [],
   "source": []
  },
  {
   "cell_type": "code",
   "execution_count": 59,
   "id": "ef69e001-c754-43fc-ade0-88abb9850428",
   "metadata": {},
   "outputs": [],
   "source": [
    "from sklearn.utils import shuffle\n",
    "import pandas as pd\n",
    "import re\n",
    "import numpy as np\n",
    "import os\n",
    "import unicodedata\n",
    "from sklearn.datasets import fetch_20newsgroups"
   ]
  },
  {
   "cell_type": "code",
   "execution_count": 64,
   "id": "29c004ee-1905-4345-a826-a5e5d2b86fcf",
   "metadata": {},
   "outputs": [],
   "source": [
    "def _load_20news_groups():\n",
    "    newsgroups_docs = fetch_20newsgroups(subset='all', shuffle=True, random_state=1)\n",
    "    \n",
    "    X = newsgroups_docs.data\n",
    "    y = newsgroups_docs.target\n",
    "    return X, y"
   ]
  },
  {
   "cell_type": "code",
   "execution_count": 65,
   "id": "907a6752-35cb-4ce7-8a21-43e8b8bd8ea2",
   "metadata": {},
   "outputs": [],
   "source": [
    "def remove_URL(text):\n",
    "    url = re.compile(r'https?://\\S+|www\\.\\S+')\n",
    "    return url.sub(r'',text)\n",
    "\n",
    "def remove_email(text):\n",
    "    url = re.compile(r'([A-Za-z0-9]*\\.)*[A-Za-z0-9]*@([A-Za-z]*\\.?[A-Za-z0-9]*)*')\n",
    "    return url.sub(r'',text)"
   ]
  },
  {
   "cell_type": "code",
   "execution_count": 66,
   "id": "ce82faf0-7076-47f0-9057-01fd963b5c11",
   "metadata": {},
   "outputs": [],
   "source": [
    "X, y = _load_20news_groups()"
   ]
  },
  {
   "cell_type": "code",
   "execution_count": 69,
   "id": "41585c30-a082-4e24-ae61-17433be74fa3",
   "metadata": {},
   "outputs": [],
   "source": [
    "for i in range(len(X)):\n",
    "            u = unicodedata.normalize('NFKD', X[i]).encode('ascii','ignore')\n",
    "            for character in [b\"\\n\", b\"|\", b\">\", b\"<\", b\"-\", b\"+\", b\"^\", b\"[\", b\"]\", b\"#\", b\"\\t\", b\"\\r\", b\"`\", b'_']:\n",
    "                u = u.replace(character, b\" \")\n",
    "                s = str(u, 'utf8')\n",
    "                s = remove_URL(s)\n",
    "                s = remove_email(s)\n",
    "                X[i] = s"
   ]
  },
  {
   "cell_type": "code",
   "execution_count": 71,
   "id": "9af2d126-1c6e-410c-939f-3aade5197eab",
   "metadata": {},
   "outputs": [
    {
     "data": {
      "text/plain": [
       "'From:  (Paul Harvey) Subject: Re: Clarification of personal position Organization: The Duck Pond public unix:  1 408 249 9630, log in as \\'guest\\'. Lines: 26  In article      (Paul Hudson Jr) writes:  In article      (Darius Lecointe) writes:   If it were a sin to violate Sunday no one could   ever be forgiven for that for Jesus never kept Sunday holy.  He only   recognized one day of the seven as holy.  Jesus also recognized other holy days, like the Passover.  Acts 15 says   that no more should be layed on the Gentiles than that which is necessary.  The sabbath is not in the list, nor do any of the epistles instruct people  to keep the 7th day, while Christians were living among people who did not  keep the 7th day.  It looks like that would have been a problem.  Instead, we have Scriptures telling us that all days can be esteemed alike  (Romans 14:5) and that no man should judge us in regard to what kind of  food we eat, Jewish holy days we keep, or  in regard to the sabbath. (Col. 2.)   The   question is \"On what authority do we proclaim that the requirements of the   fourth commandment are no longer relevant to modern Christians?\"  I don\\'t think that the Sabbath, or any other command of the law is totally  irrelevant to modern Christians, but what about Collosions 2, where it says  that we are not to be judged in regard to the keeping of the sabbath?  Why are you running away from the word of Jesus? Has somebody superseded the word of Jesus? If you don\\'t follow the morality of the Ten Commandments and the Law and the Prophets and the word of Jesus, whose morality do you follow? '"
      ]
     },
     "execution_count": 71,
     "metadata": {},
     "output_type": "execute_result"
    }
   ],
   "source": [
    "X[0]"
   ]
  },
  {
   "cell_type": "code",
   "execution_count": 21,
   "id": "3f6c1e45-6e16-463a-b540-f1f4ff22a01d",
   "metadata": {},
   "outputs": [],
   "source": [
    "from sklearn.datasets import fetch_20newsgroups\n",
    "newsgroups_docs = fetch_20newsgroups(subset='all', shuffle=True, random_state=1)"
   ]
  },
  {
   "cell_type": "code",
   "execution_count": 22,
   "id": "03550ad7-afbe-49c7-9a9f-a1c2bbbe78ba",
   "metadata": {},
   "outputs": [],
   "source": [
    "X = newsgroups_docs.data\n",
    "y = newsgroups_docs.target"
   ]
  },
  {
   "cell_type": "code",
   "execution_count": 27,
   "id": "726dcde2-27fc-41df-be23-8287eede0d44",
   "metadata": {},
   "outputs": [],
   "source": [
    "import unicodedata"
   ]
  },
  {
   "cell_type": "code",
   "execution_count": 29,
   "id": "096a0a21-4f50-47a4-85d4-7df41e1809a8",
   "metadata": {},
   "outputs": [],
   "source": [
    "u = unicodedata.normalize('NFKD', X[0]).encode('ascii','ignore')"
   ]
  },
  {
   "cell_type": "code",
   "execution_count": null,
   "id": "33221b1e-c643-428f-b898-81c7e315cbb9",
   "metadata": {},
   "outputs": [],
   "source": []
  },
  {
   "cell_type": "code",
   "execution_count": 37,
   "id": "bcb7e516-786e-4538-9878-48abda098037",
   "metadata": {},
   "outputs": [],
   "source": [
    "for character in [b\"\\n\", b\"|\", b\">\", b\"<\", b\"-\", b\"+\", b\"^\", b\"[\", b\"]\", b\"#\", b\"\\t\", b\"\\r\", b\"`\", b'_']:\n",
    "    u = u.replace(character, b\" \")"
   ]
  },
  {
   "cell_type": "code",
   "execution_count": 56,
   "id": "c2dd567b-f200-49c9-8ebb-f5c2321189b3",
   "metadata": {},
   "outputs": [],
   "source": [
    "import re\n",
    "# to remove URLs\n",
    "def remove_URL(text):\n",
    "    url = re.compile(r'https?://\\S+|www\\.\\S+')\n",
    "    return url.sub(r'',text)\n",
    "\n",
    "def remove_email(text):\n",
    "    url = re.compile(r'([A-Za-z0-9]*\\.)*[A-Za-z0-9]*@([A-Za-z]*\\.?[A-Za-z0-9]*)*')\n",
    "    return url.sub(r'',text)\n",
    "\n",
    "# to remove html tags\n",
    "def remove_html(text):\n",
    "    html=re.compile(r'<.*?>')\n",
    "    return html.sub(r'',text)"
   ]
  },
  {
   "cell_type": "code",
   "execution_count": 57,
   "id": "d5c97328-1999-4131-a76f-3cb94ead2668",
   "metadata": {},
   "outputs": [
    {
     "data": {
      "text/plain": [
       "'From: pharvey@quack.kfu.com (Paul Harvey) Subject: Re: Clarification of personal position Organization: The Duck Pond public unix:  1 408 249 9630, log in as \\'guest\\'. Lines: 26  In article  C5rBHt.Fw4@athena.cs.uga.edu   hudson@athena.cs.uga.edu (Paul Hudson Jr) writes:  In article  C5MuIw.AqC@mailer.cc.fsu.edu   dlecoint@garnet.acns.fsu.edu (Darius Lecointe) writes:   If it were a sin to violate Sunday no one could   ever be forgiven for that for Jesus never kept Sunday holy.  He only   recognized one day of the seven as holy.  Jesus also recognized other holy days, like the Passover.  Acts 15 says   that no more should be layed on the Gentiles than that which is necessary.  The sabbath is not in the list, nor do any of the epistles instruct people  to keep the 7th day, while Christians were living among people who did not  keep the 7th day.  It looks like that would have been a problem.  Instead, we have Scriptures telling us that all days can be esteemed alike  (Romans 14:5) and that no man should judge us in regard to what kind of  food we eat, Jewish holy days we keep, or  in regard to the sabbath. (Col. 2.)   The   question is \"On what authority do we proclaim that the requirements of the   fourth commandment are no longer relevant to modern Christians?\"  I don\\'t think that the Sabbath, or any other command of the law is totally  irrelevant to modern Christians, but what about Collosions 2, where it says  that we are not to be judged in regard to the keeping of the sabbath?  Why are you running away from the word of Jesus? Has somebody superseded the word of Jesus? If you don\\'t follow the morality of the Ten Commandments and the Law and the Prophets and the word of Jesus, whose morality do you follow? '"
      ]
     },
     "execution_count": 57,
     "metadata": {},
     "output_type": "execute_result"
    }
   ],
   "source": [
    "s = str(u, 'utf8')\n",
    "s"
   ]
  },
  {
   "cell_type": "code",
   "execution_count": 58,
   "id": "d1b42927-5f58-4d1c-894d-50d6f9033a72",
   "metadata": {},
   "outputs": [
    {
     "data": {
      "text/plain": [
       "'From:  (Paul Harvey) Subject: Re: Clarification of personal position Organization: The Duck Pond public unix:  1 408 249 9630, log in as \\'guest\\'. Lines: 26  In article      (Paul Hudson Jr) writes:  In article      (Darius Lecointe) writes:   If it were a sin to violate Sunday no one could   ever be forgiven for that for Jesus never kept Sunday holy.  He only   recognized one day of the seven as holy.  Jesus also recognized other holy days, like the Passover.  Acts 15 says   that no more should be layed on the Gentiles than that which is necessary.  The sabbath is not in the list, nor do any of the epistles instruct people  to keep the 7th day, while Christians were living among people who did not  keep the 7th day.  It looks like that would have been a problem.  Instead, we have Scriptures telling us that all days can be esteemed alike  (Romans 14:5) and that no man should judge us in regard to what kind of  food we eat, Jewish holy days we keep, or  in regard to the sabbath. (Col. 2.)   The   question is \"On what authority do we proclaim that the requirements of the   fourth commandment are no longer relevant to modern Christians?\"  I don\\'t think that the Sabbath, or any other command of the law is totally  irrelevant to modern Christians, but what about Collosions 2, where it says  that we are not to be judged in regard to the keeping of the sabbath?  Why are you running away from the word of Jesus? Has somebody superseded the word of Jesus? If you don\\'t follow the morality of the Ten Commandments and the Law and the Prophets and the word of Jesus, whose morality do you follow? '"
      ]
     },
     "execution_count": 58,
     "metadata": {},
     "output_type": "execute_result"
    }
   ],
   "source": [
    "remove_email(s)"
   ]
  },
  {
   "cell_type": "code",
   "execution_count": null,
   "id": "65566404-7852-44f8-b6d1-1bce71f15091",
   "metadata": {},
   "outputs": [],
   "source": []
  },
  {
   "cell_type": "code",
   "execution_count": null,
   "id": "daff1840-097f-459d-8483-41532cd70731",
   "metadata": {},
   "outputs": [],
   "source": []
  },
  {
   "cell_type": "code",
   "execution_count": null,
   "id": "0973caea-6a3d-4614-b729-d6b694bfbc0e",
   "metadata": {},
   "outputs": [],
   "source": []
  },
  {
   "cell_type": "code",
   "execution_count": null,
   "id": "9cda774f-5294-47eb-bcd6-09b7ccf42734",
   "metadata": {},
   "outputs": [],
   "source": []
  },
  {
   "cell_type": "code",
   "execution_count": null,
   "id": "7f05deb9-c71d-4e38-9301-34fda076408f",
   "metadata": {},
   "outputs": [],
   "source": []
  },
  {
   "cell_type": "code",
   "execution_count": 2,
   "id": "a0e70e95-7181-4baa-b909-036b3a049f18",
   "metadata": {},
   "outputs": [],
   "source": [
    "import pandas as pd\n",
    "import re\n",
    "import numpy as np\n",
    "import os"
   ]
  },
  {
   "cell_type": "code",
   "execution_count": 3,
   "id": "0f7e042d-0fa0-4c70-b521-c2864f289fc5",
   "metadata": {},
   "outputs": [],
   "source": [
    "def _load_app_store(data_dir = './dataset.csv'):\n",
    "    df = pd.read_csv(data_dir)\n",
    "    \n",
    "    df_en = df[(df.lang == 'en') & (df.source == 'app_review') & ~df['text'].isna()]\n",
    "    \n",
    "    X = df_en['text'].to_list()\n",
    "    y = df_en['category'].map({'inq': 0, 'pbr': 1, 'irr': 2}).to_list()\n",
    "    \n",
    "    return X, y"
   ]
  },
  {
   "cell_type": "code",
   "execution_count": 4,
   "id": "7a8d2313-51ce-4579-9be9-127b3e3fa8e9",
   "metadata": {},
   "outputs": [],
   "source": [
    "X, y = _load_app_store()"
   ]
  },
  {
   "cell_type": "code",
   "execution_count": null,
   "id": "e64644f9-9642-4eaa-81ad-213bd3f15504",
   "metadata": {},
   "outputs": [],
   "source": []
  },
  {
   "cell_type": "code",
   "execution_count": null,
   "id": "7924f185-fae5-4b3a-9081-055e0bc8be26",
   "metadata": {},
   "outputs": [],
   "source": []
  },
  {
   "cell_type": "code",
   "execution_count": 1,
   "id": "393f44f6-a0c4-489f-a358-08a06097351c",
   "metadata": {},
   "outputs": [],
   "source": [
    "## IMDB"
   ]
  },
  {
   "cell_type": "code",
   "execution_count": 11,
   "id": "01f5faf8-18d4-4ba6-8217-992f79995b1b",
   "metadata": {},
   "outputs": [],
   "source": [
    "import pandas as pd\n",
    "import re\n",
    "import numpy as np"
   ]
  },
  {
   "cell_type": "code",
   "execution_count": 12,
   "id": "32163cdc-9bee-4e2d-8731-39dce9abb085",
   "metadata": {},
   "outputs": [],
   "source": [
    "import os\n",
    "\n",
    "def _load_imdb(data_dir = '/home/jovyan/Active Learning/data/aclImdb/'):\n",
    "    X = []\n",
    "    y = []\n",
    "    for partition in [\"train\", \"test\"]:\n",
    "        for category  in [\"pos\", \"neg\"]:\n",
    "            lable = 0 if category  == \"neg\" else 1\n",
    "\n",
    "            path = os.path.join(data_dir, partition, category )\n",
    "            files = os.listdir(path)\n",
    "            for f_name in files:\n",
    "                with open(os.path.join(path, f_name), \"r\") as f:\n",
    "                    review = f.read()\n",
    "                    X.append(review)\n",
    "                    y.append(lable)\n",
    "\n",
    "    return X, y\n",
    "\n",
    "X, y = _load_imdb()"
   ]
  },
  {
   "cell_type": "code",
   "execution_count": 13,
   "id": "605a65d4-2a08-45c7-ab83-d60a40b9dc7a",
   "metadata": {},
   "outputs": [],
   "source": [
    "# to remove URLs\n",
    "def remove_URL(text):\n",
    "    url = re.compile(r'https?://\\S+|www\\.\\S+')\n",
    "    return url.sub(r'',text)\n",
    "\n",
    "# to remove html tags\n",
    "def remove_html(text):\n",
    "    html=re.compile(r'<.*?>')\n",
    "    return html.sub(r'',text)"
   ]
  },
  {
   "cell_type": "code",
   "execution_count": 14,
   "id": "e1353997-dc2f-41d6-8123-8d5897a9781c",
   "metadata": {},
   "outputs": [
    {
     "data": {
      "text/html": [
       "<div>\n",
       "<style scoped>\n",
       "    .dataframe tbody tr th:only-of-type {\n",
       "        vertical-align: middle;\n",
       "    }\n",
       "\n",
       "    .dataframe tbody tr th {\n",
       "        vertical-align: top;\n",
       "    }\n",
       "\n",
       "    .dataframe thead th {\n",
       "        text-align: right;\n",
       "    }\n",
       "</style>\n",
       "<table border=\"1\" class=\"dataframe\">\n",
       "  <thead>\n",
       "    <tr style=\"text-align: right;\">\n",
       "      <th></th>\n",
       "      <th>0</th>\n",
       "    </tr>\n",
       "  </thead>\n",
       "  <tbody>\n",
       "    <tr>\n",
       "      <th>0</th>\n",
       "      <td>Although I have not seen this mini-series in o...</td>\n",
       "    </tr>\n",
       "    <tr>\n",
       "      <th>1</th>\n",
       "      <td>In terms of visual beauty this movie is outsta...</td>\n",
       "    </tr>\n",
       "    <tr>\n",
       "      <th>2</th>\n",
       "      <td>Meatball Machine is an amazing splatter film, ...</td>\n",
       "    </tr>\n",
       "    <tr>\n",
       "      <th>3</th>\n",
       "      <td>I have watched this movie three times. The las...</td>\n",
       "    </tr>\n",
       "    <tr>\n",
       "      <th>4</th>\n",
       "      <td>Okay, so the first few seasons took a while to...</td>\n",
       "    </tr>\n",
       "  </tbody>\n",
       "</table>\n",
       "</div>"
      ],
      "text/plain": [
       "                                                   0\n",
       "0  Although I have not seen this mini-series in o...\n",
       "1  In terms of visual beauty this movie is outsta...\n",
       "2  Meatball Machine is an amazing splatter film, ...\n",
       "3  I have watched this movie three times. The las...\n",
       "4  Okay, so the first few seasons took a while to..."
      ]
     },
     "execution_count": 14,
     "metadata": {},
     "output_type": "execute_result"
    }
   ],
   "source": [
    "df = pd.DataFrame(data=(X))\n",
    "df.head()"
   ]
  },
  {
   "cell_type": "code",
   "execution_count": 15,
   "id": "2e0fe6e8-fcc9-441e-b7a0-37983b44de67",
   "metadata": {},
   "outputs": [],
   "source": [
    "df[0] = df[0].apply(remove_URL)\n",
    "df[0] = df[0].apply(remove_html)"
   ]
  },
  {
   "cell_type": "code",
   "execution_count": 16,
   "id": "ed73cca3-17db-47fa-8afd-ba2b4e3a3377",
   "metadata": {},
   "outputs": [],
   "source": [
    "np.save('imdb_X', df[0].tolist())"
   ]
  },
  {
   "cell_type": "code",
   "execution_count": 17,
   "id": "c69938ad-7ddc-4e6d-a1ca-58a91bf37cb7",
   "metadata": {},
   "outputs": [],
   "source": [
    "np.save('imdb_y', y)"
   ]
  },
  {
   "cell_type": "code",
   "execution_count": 19,
   "id": "744d8638-52c8-4e82-be6b-466eb1e2574a",
   "metadata": {},
   "outputs": [
    {
     "data": {
      "text/plain": [
       "True"
      ]
     },
     "execution_count": 19,
     "metadata": {},
     "output_type": "execute_result"
    }
   ],
   "source": [
    "import os.path\n",
    "os.path.isfile('./imdb_X.npy') "
   ]
  }
 ],
 "metadata": {
  "kernelspec": {
   "display_name": "Python 3 (ipykernel)",
   "language": "python",
   "name": "python3"
  },
  "language_info": {
   "codemirror_mode": {
    "name": "ipython",
    "version": 3
   },
   "file_extension": ".py",
   "mimetype": "text/x-python",
   "name": "python",
   "nbconvert_exporter": "python",
   "pygments_lexer": "ipython3",
   "version": "3.9.7"
  }
 },
 "nbformat": 4,
 "nbformat_minor": 5
}
