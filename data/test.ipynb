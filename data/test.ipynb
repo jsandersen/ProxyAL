{
 "cells": [
  {
   "cell_type": "code",
   "execution_count": 1,
   "id": "070c90ed-9b9e-4689-9f0b-bfe2c9ce30e6",
   "metadata": {},
   "outputs": [],
   "source": [
    "import tensorflow as tf"
   ]
  },
  {
   "cell_type": "code",
   "execution_count": 2,
   "id": "421d5ed4-1d9b-4e45-b7c5-4eb2d428ea79",
   "metadata": {},
   "outputs": [
    {
     "name": "stdout",
     "output_type": "stream",
     "text": [
      "Num GPUs Available:  1\n"
     ]
    },
    {
     "name": "stderr",
     "output_type": "stream",
     "text": [
      "2021-12-17 21:16:58.479071: I tensorflow/stream_executor/cuda/cuda_gpu_executor.cc:937] successful NUMA node read from SysFS had negative value (-1), but there must be at least one NUMA node, so returning NUMA node zero\n",
      "2021-12-17 21:16:58.491644: I tensorflow/stream_executor/cuda/cuda_gpu_executor.cc:937] successful NUMA node read from SysFS had negative value (-1), but there must be at least one NUMA node, so returning NUMA node zero\n",
      "2021-12-17 21:16:58.492196: I tensorflow/stream_executor/cuda/cuda_gpu_executor.cc:937] successful NUMA node read from SysFS had negative value (-1), but there must be at least one NUMA node, so returning NUMA node zero\n"
     ]
    }
   ],
   "source": [
    "print(\"Num GPUs Available: \", len(tf.config.list_physical_devices('GPU')))"
   ]
  },
  {
   "cell_type": "code",
   "execution_count": 22,
   "id": "a968a19d-755c-44ff-a94c-0f548c229a7a",
   "metadata": {},
   "outputs": [
    {
     "name": "stdout",
     "output_type": "stream",
     "text": [
      "Collecting nltk\n",
      "  Using cached nltk-3.6.5-py3-none-any.whl (1.5 MB)\n",
      "Requirement already satisfied: regex>=2021.8.3 in /opt/conda/lib/python3.9/site-packages (from nltk) (2021.9.30)\n",
      "Requirement already satisfied: tqdm in /opt/conda/lib/python3.9/site-packages (from nltk) (4.62.3)\n",
      "Requirement already satisfied: joblib in /opt/conda/lib/python3.9/site-packages (from nltk) (1.0.1)\n",
      "Requirement already satisfied: click in /opt/conda/lib/python3.9/site-packages (from nltk) (8.0.1)\n",
      "Installing collected packages: nltk\n",
      "Successfully installed nltk-3.6.5\n",
      "\u001b[33mWARNING: You are using pip version 21.2.4; however, version 21.3.1 is available.\n",
      "You should consider upgrading via the '/opt/conda/bin/python -m pip install --upgrade pip' command.\u001b[0m\n"
     ]
    }
   ],
   "source": [
    "!pip install nltk"
   ]
  },
  {
   "cell_type": "code",
   "execution_count": 46,
   "id": "8161afec-4d7d-4049-a29a-a8ad8b4fa182",
   "metadata": {},
   "outputs": [],
   "source": [
    "from sklearn.utils import shuffle\n",
    "import pandas as pd\n",
    "import re\n",
    "import numpy as np\n",
    "import os\n",
    "import unicodedata\n",
    "from sklearn.datasets import fetch_20newsgroups\n",
    "from tqdm import tqdm \n",
    "\n",
    "def _load_toxic(data_dir = './datasets/labeled_data.csv'):\n",
    "    nRowsRead = None\n",
    "    df0 = pd.read_csv(data_dir, delimiter=',', nrows = nRowsRead)\n",
    "    df0.dataframeName = data_dir\n",
    "    nRow, nCol = df0.shape\n",
    "    c=df0['class']\n",
    "    df0.rename(columns={'tweet' : 'text', 'class' : 'category'}, inplace=True)\n",
    "    a=df0['text']\n",
    "    b=df0['category'].map({0: 'hate_speech', 1: 'offensive_language', 2: 'neither'})\n",
    "    df= pd.concat([a,b,c], axis=1)\n",
    "    \n",
    "    X = df['text'].values\n",
    "    y = df['class'].map({0: 0, 1: 0, 2: 1}).values\n",
    "    return X, y\n"
   ]
  },
  {
   "cell_type": "code",
   "execution_count": 47,
   "id": "61441f00-d0db-4264-8da9-d7e6a79e948c",
   "metadata": {},
   "outputs": [],
   "source": [
    "X, y = _load_toxic()"
   ]
  },
  {
   "cell_type": "code",
   "execution_count": 48,
   "id": "586f2b87-b6a7-4f9e-b631-bca4b2b6fdca",
   "metadata": {},
   "outputs": [
    {
     "data": {
      "text/plain": [
       "(14.07097607230763, 6.7933099417029625)"
      ]
     },
     "execution_count": 48,
     "metadata": {},
     "output_type": "execute_result"
    }
   ],
   "source": [
    "import numpy as np\n",
    "np.array([len(x.split(' ')) for x in X]).mean(), np.array([len(x.split(' ')) for x in X]).std()"
   ]
  },
  {
   "cell_type": "code",
   "execution_count": 28,
   "id": "9603256a-11d0-47ce-8763-14462706c089",
   "metadata": {},
   "outputs": [],
   "source": [
    "from collections import Counter"
   ]
  },
  {
   "cell_type": "code",
   "execution_count": 34,
   "id": "1bf6e49b-f776-4468-9779-7a85c0b281b7",
   "metadata": {},
   "outputs": [
    {
     "data": {
      "text/plain": [
       "dict_values([157, 2319, 458, 3930, 527, 282, 495, 166, 425])"
      ]
     },
     "execution_count": 34,
     "metadata": {},
     "output_type": "execute_result"
    }
   ],
   "source": [
    "Counter(y).values()"
   ]
  },
  {
   "cell_type": "code",
   "execution_count": 30,
   "id": "cf3b8113-1409-4c25-a5f8-e09830cc27c1",
   "metadata": {},
   "outputs": [
    {
     "data": {
      "text/plain": [
       "6392"
      ]
     },
     "execution_count": 30,
     "metadata": {},
     "output_type": "execute_result"
    }
   ],
   "source": [
    "1437 + 1100 + 3855"
   ]
  },
  {
   "cell_type": "code",
   "execution_count": null,
   "id": "34821853-c8a9-48c4-af87-85f82567bca3",
   "metadata": {},
   "outputs": [],
   "source": []
  },
  {
   "cell_type": "code",
   "execution_count": null,
   "id": "bf85fa25-9cd8-477c-ab02-83a0530eadc1",
   "metadata": {},
   "outputs": [],
   "source": []
  },
  {
   "cell_type": "code",
   "execution_count": null,
   "id": "14d8238a-2d99-447c-afea-c51e6308c2f4",
   "metadata": {},
   "outputs": [],
   "source": []
  },
  {
   "cell_type": "code",
   "execution_count": null,
   "id": "155ac167-7196-4b56-a201-3d022a5bf40c",
   "metadata": {},
   "outputs": [],
   "source": []
  },
  {
   "cell_type": "code",
   "execution_count": 69,
   "id": "8769de9f-30de-453b-8972-eed049114813",
   "metadata": {},
   "outputs": [],
   "source": [
    "from sklearn.utils import shuffle\n",
    "import pandas as pd\n",
    "import re\n",
    "import numpy as np\n",
    "import os\n",
    "import unicodedata\n",
    "from sklearn.datasets import fetch_20newsgroups\n",
    "from tqdm import tqdm \n",
    "import nltk\n",
    "from nltk.corpus import reuters \n",
    "\n",
    "cat_8 = ['money-supply', 'acq', 'crude', 'earn', 'grain', 'interest', 'money-fx', 'ship', 'trade']\n",
    "\n",
    "def _load_reuters(data_dir = None):\n",
    "    nltk.download('reuters')\n",
    "    \n",
    "    dic_map = {}\n",
    "    for i in range(len(cat_8)):\n",
    "        dic_map[cat_8[i]] = i\n",
    "\n",
    "    documents = reuters.fileids()\n",
    "    train_docs = list(filter(lambda doc: doc.startswith(\"train\"), documents));\n",
    "    test_docs = list(filter(lambda doc: doc.startswith(\"test\"), documents));\n",
    "    \n",
    "    def _get_data(docs):\n",
    "        docs_text = []\n",
    "        docs_label = []\n",
    "        for index, i in  enumerate(docs):\n",
    "            docs_text.append(reuters.raw(fileids=[i]))\n",
    "            docs_label.append(reuters.categories(i))\n",
    "\n",
    "        X = []\n",
    "        y = []\n",
    "        for cat in cat_8:\n",
    "            count = 0\n",
    "            for i in range(len(docs_label)): \n",
    "                if cat in docs_label[i]:\n",
    "                    if len(docs_label[i]) > 1:\n",
    "                        double = 0\n",
    "                        for label in docs_label[i]:\n",
    "                            if label in cat_8:\n",
    "                                double += 1\n",
    "                        if double > 1:\n",
    "                            continue;\n",
    "                    count += 1\n",
    "                    X.append(docs_text[i])\n",
    "                    y.append(cat)\n",
    "        return X, y\n",
    "    \n",
    "    X_train, y_train = _get_data(train_docs)\n",
    "    X_test, y_test = _get_data(test_docs)\n",
    "    \n",
    "    X = np.concatenate([X_train, X_test])\n",
    "    y = np.concatenate([y_train, y_test])\n",
    "    y = [dic_map[i] for i in y]\n",
    "    \n",
    "    return X, y\n",
    "\n",
    "def remove_URL(text):\n",
    "    url = re.compile(r'https?://\\S+|www\\.\\S+')\n",
    "    return url.sub(r'',text)\n",
    "\n",
    "def remove_email(text):\n",
    "    url = re.compile(r'([A-Za-z0-9]*\\.)*[A-Za-z0-9]*@([A-Za-z]*\\.?[A-Za-z0-9]*)*')\n",
    "    return url.sub(r'',text)"
   ]
  },
  {
   "cell_type": "code",
   "execution_count": 66,
   "id": "105a74f6-1b86-480f-9b28-15497da80940",
   "metadata": {},
   "outputs": [
    {
     "name": "stdout",
     "output_type": "stream",
     "text": [
      "Prepare Reuters dataset ...\n"
     ]
    },
    {
     "name": "stderr",
     "output_type": "stream",
     "text": [
      "[nltk_data] Downloading package reuters to /home/jovyan/nltk_data...\n",
      "[nltk_data]   Package reuters is already up-to-date!\n",
      "100%|██████████| 8537/8537 [00:04<00:00, 2051.50it/s]"
     ]
    },
    {
     "name": "stdout",
     "output_type": "stream",
     "text": [
      "Done\n"
     ]
    },
    {
     "name": "stderr",
     "output_type": "stream",
     "text": [
      "\n"
     ]
    }
   ],
   "source": [
    "    print('Prepare Reuters dataset ...')\n",
    "    \n",
    "    if True:\n",
    "    #if not (os.path.isfile('./datasets/news_groups_X.npy') and os.path.isfile('./datasets/news_groups_X.npy')): \n",
    "        X, y = _load_reuters()\n",
    "        X, y = shuffle(X, y, random_state = 42)\n",
    "        \n",
    "        for i in tqdm(range(len(X))):\n",
    "            for character in [\"\\n\", \"|\", \">\", \"<\", \"-\", \"+\", \"^\", \"[\", \"]\", \"#\", \"\\t\", \"\\r\", \"`\", '_']:\n",
    "                X[i] = X[i].replace(character, \" \")\n",
    "            X[i] = remove_URL(X[i])\n",
    "            X[i] = remove_email(X[i])\n",
    "        \n",
    "        \n",
    "        print('Done')\n",
    "    else:\n",
    "        print('Reuters dataset already exists.')\n",
    "    "
   ]
  },
  {
   "cell_type": "code",
   "execution_count": 67,
   "id": "a5f12753-cc6a-4d8b-9ee6-0a561e489556",
   "metadata": {},
   "outputs": [],
   "source": [
    "from collections import Counter"
   ]
  },
  {
   "cell_type": "code",
   "execution_count": 68,
   "id": "84f58dcc-a710-484c-8aac-9f943bde0da1",
   "metadata": {},
   "outputs": [
    {
     "data": {
      "text/plain": [
       "Counter({4: 3930,\n",
       "         9: 425,\n",
       "         7: 495,\n",
       "         8: 166,\n",
       "         2: 2319,\n",
       "         3: 458,\n",
       "         5: 303,\n",
       "         6: 282,\n",
       "         1: 157,\n",
       "         0: 2})"
      ]
     },
     "execution_count": 68,
     "metadata": {},
     "output_type": "execute_result"
    }
   ],
   "source": [
    "Counter(y)"
   ]
  },
  {
   "cell_type": "code",
   "execution_count": 44,
   "id": "31016ada-3f14-48c7-b611-e2b52278336e",
   "metadata": {},
   "outputs": [
    {
     "data": {
      "text/plain": [
       "Counter({0: 2319, 7: 425, 3: 527, 2: 3930, 4: 290, 5: 499, 1: 458, 6: 166})"
      ]
     },
     "execution_count": 44,
     "metadata": {},
     "output_type": "execute_result"
    }
   ],
   "source": [
    "Counter(y)"
   ]
  },
  {
   "cell_type": "code",
   "execution_count": 10,
   "id": "0c9893fb-b3be-4567-b85a-4ef26468af1e",
   "metadata": {},
   "outputs": [],
   "source": [
    "from nltk.corpus import stopwords, reuters"
   ]
  },
  {
   "cell_type": "code",
   "execution_count": 11,
   "id": "5c7f4e3f-44e3-4182-93c0-68e0cb6a0d68",
   "metadata": {},
   "outputs": [],
   "source": [
    "from sklearn.preprocessing import MultiLabelBinarizer"
   ]
  },
  {
   "cell_type": "code",
   "execution_count": 12,
   "id": "4f216783-b607-4625-bfec-98f36e2da2d9",
   "metadata": {},
   "outputs": [],
   "source": [
    "documents = reuters.fileids()"
   ]
  },
  {
   "cell_type": "code",
   "execution_count": 29,
   "id": "32573819-b8e8-4efe-9252-2a68a1695356",
   "metadata": {},
   "outputs": [],
   "source": [
    "train_docs_id = list(filter(lambda doc: doc.startswith(\"train\"), documents))\n",
    "test_docs_id = list(filter(lambda doc: doc.startswith(\"test\"), documents))"
   ]
  },
  {
   "cell_type": "code",
   "execution_count": 30,
   "id": "30ef900b-3fef-47c1-8641-a0ff1dc80256",
   "metadata": {},
   "outputs": [],
   "source": [
    "train_docs = [reuters.raw(doc_id) for doc_id in train_docs_id]\n",
    "test_docs = [reuters.raw(doc_id) for doc_id in test_docs_id]"
   ]
  },
  {
   "cell_type": "code",
   "execution_count": 34,
   "id": "d8d4e6d9-b73b-4169-8eca-59a673bdd47b",
   "metadata": {},
   "outputs": [
    {
     "data": {
      "text/plain": [
       "[['cocoa'],\n",
       " ['acq'],\n",
       " ['money-supply'],\n",
       " ['acq'],\n",
       " ['earn'],\n",
       " ['earn'],\n",
       " ['acq', 'trade'],\n",
       " ['earn'],\n",
       " ['crude', 'nat-gas'],\n",
       " ['cocoa', 'coffee', 'sugar'],\n",
       " ['veg-oil'],\n",
       " ['acq'],\n",
       " ['earn'],\n",
       " ['acq'],\n",
       " ['earn'],\n",
       " ['earn'],\n",
       " ['earn'],\n",
       " ['earn'],\n",
       " ['earn'],\n",
       " ['gas'],\n",
       " ['earn'],\n",
       " ['earn'],\n",
       " ['acq'],\n",
       " ['iron-steel', 'ship'],\n",
       " ['earn'],\n",
       " ['money-fx'],\n",
       " ['acq'],\n",
       " ['earn'],\n",
       " ['acq'],\n",
       " ['earn'],\n",
       " ['earn'],\n",
       " ['earn'],\n",
       " ['acq'],\n",
       " ['earn'],\n",
       " ['cotton'],\n",
       " ['earn'],\n",
       " ['acq'],\n",
       " ['acq'],\n",
       " ['earn'],\n",
       " ['earn'],\n",
       " ['earn'],\n",
       " ['acq'],\n",
       " ['acq', 'earn'],\n",
       " ['earn'],\n",
       " ['dlr', 'money-fx'],\n",
       " ['earn'],\n",
       " ['acq', 'crude'],\n",
       " ['money-supply'],\n",
       " ['interest', 'money-fx'],\n",
       " ['crude'],\n",
       " ['dlr', 'money-fx'],\n",
       " ['earn'],\n",
       " ['earn'],\n",
       " ['acq'],\n",
       " ['acq'],\n",
       " ['earn'],\n",
       " ['earn'],\n",
       " ['earn'],\n",
       " ['interest', 'money-fx'],\n",
       " ['earn'],\n",
       " ['earn'],\n",
       " ['earn'],\n",
       " ['earn'],\n",
       " ['earn'],\n",
       " ['acq'],\n",
       " ['earn'],\n",
       " ['money-supply'],\n",
       " ['earn'],\n",
       " ['coffee'],\n",
       " ['acq'],\n",
       " ['earn'],\n",
       " ['acq', 'crude'],\n",
       " ['sugar'],\n",
       " ['earn'],\n",
       " ['earn'],\n",
       " ['earn'],\n",
       " ['earn'],\n",
       " ['earn'],\n",
       " ['earn'],\n",
       " ['earn'],\n",
       " ['earn'],\n",
       " ['corn', 'grain', 'wheat'],\n",
       " ['cocoa'],\n",
       " ['carcass', 'grain', 'livestock', 'sugar'],\n",
       " ['acq'],\n",
       " ['acq'],\n",
       " ['earn'],\n",
       " ['earn'],\n",
       " ['gnp', 'jobs'],\n",
       " ['money-fx'],\n",
       " ['acq', 'corn', 'grain'],\n",
       " ['earn'],\n",
       " ['acq'],\n",
       " ['earn'],\n",
       " ['strategic-metal'],\n",
       " ['money-supply'],\n",
       " ['money-supply'],\n",
       " ['money-supply'],\n",
       " ['interest'],\n",
       " ['acq'],\n",
       " ['earn'],\n",
       " ['earn'],\n",
       " ['earn'],\n",
       " ['earn'],\n",
       " ['acq', 'crude'],\n",
       " ['earn'],\n",
       " ['acq'],\n",
       " ['corn', 'grain', 'oilseed', 'soybean', 'wheat'],\n",
       " ['earn'],\n",
       " ['earn'],\n",
       " ['barley',\n",
       "  'corn',\n",
       "  'grain',\n",
       "  'meal-feed',\n",
       "  'oilseed',\n",
       "  'sorghum',\n",
       "  'soy-oil',\n",
       "  'soybean',\n",
       "  'veg-oil',\n",
       "  'wheat'],\n",
       " ['money-supply'],\n",
       " ['money-supply'],\n",
       " ['money-supply'],\n",
       " ['earn'],\n",
       " ['earn'],\n",
       " ['money-supply'],\n",
       " ['earn'],\n",
       " ['earn'],\n",
       " ['earn'],\n",
       " ['acq', 'crude', 'nat-gas'],\n",
       " ['money-fx'],\n",
       " ['crude'],\n",
       " ['earn'],\n",
       " ['earn'],\n",
       " ['money-supply'],\n",
       " ['acq'],\n",
       " ['crude'],\n",
       " ['earn'],\n",
       " ['earn'],\n",
       " ['earn'],\n",
       " ['trade'],\n",
       " ['earn'],\n",
       " ['acq'],\n",
       " ['gold'],\n",
       " ['earn'],\n",
       " ['gold'],\n",
       " ['acq', 'earn'],\n",
       " ['acq'],\n",
       " ['trade'],\n",
       " ['earn'],\n",
       " ['acq'],\n",
       " ['earn'],\n",
       " ['earn'],\n",
       " ['crude', 'nat-gas'],\n",
       " ['lei'],\n",
       " ['ipi'],\n",
       " ['earn'],\n",
       " ['earn'],\n",
       " ['earn'],\n",
       " ['earn'],\n",
       " ['acq'],\n",
       " ['earn'],\n",
       " ['earn'],\n",
       " ['earn'],\n",
       " ['earn'],\n",
       " ['earn'],\n",
       " ['interest', 'money-supply'],\n",
       " ['earn'],\n",
       " ['earn'],\n",
       " ['trade'],\n",
       " ['alum'],\n",
       " ['coffee', 'crude'],\n",
       " ['cpi'],\n",
       " ['cpi'],\n",
       " ['reserves'],\n",
       " ['dlr', 'money-fx'],\n",
       " ['trade'],\n",
       " ['trade'],\n",
       " ['coffee', 'crude', 'grain', 'iron-steel', 'tea', 'trade', 'wheat'],\n",
       " ['earn'],\n",
       " ['iron-steel', 'trade'],\n",
       " ['interest'],\n",
       " ['earn'],\n",
       " ['earn'],\n",
       " ['earn'],\n",
       " ['ipi'],\n",
       " ['earn'],\n",
       " ['ipi'],\n",
       " ['gnp'],\n",
       " ['acq'],\n",
       " ['earn'],\n",
       " ['earn'],\n",
       " ['bop'],\n",
       " ['bop'],\n",
       " ['bop', 'trade'],\n",
       " ['sugar'],\n",
       " ['money-supply'],\n",
       " ['coffee'],\n",
       " ['castor-oil', 'oilseed', 'veg-oil'],\n",
       " ['ship'],\n",
       " ['grain', 'wheat'],\n",
       " ['sugar'],\n",
       " ['dlr', 'money-fx'],\n",
       " ['acq'],\n",
       " ['acq'],\n",
       " ['acq'],\n",
       " ['ipi'],\n",
       " ['iron-steel'],\n",
       " ['earn'],\n",
       " ['corn', 'grain'],\n",
       " ['acq'],\n",
       " ['money-fx'],\n",
       " ['alum'],\n",
       " ['dlr', 'money-fx'],\n",
       " ['alum'],\n",
       " ['earn'],\n",
       " ['earn'],\n",
       " ['rape-oil', 'veg-oil'],\n",
       " ['tin'],\n",
       " ['carcass'],\n",
       " ['acq'],\n",
       " ['dlr', 'money-fx'],\n",
       " ['earn'],\n",
       " ['corn', 'grain'],\n",
       " ['gnp', 'money-fx'],\n",
       " ['bop', 'trade'],\n",
       " ['earn'],\n",
       " ['dfl', 'money-fx'],\n",
       " ['trade'],\n",
       " ['acq'],\n",
       " ['earn'],\n",
       " ['housing'],\n",
       " ['trade'],\n",
       " ['money-fx'],\n",
       " ['trade'],\n",
       " ['money-fx'],\n",
       " ['dlr', 'money-fx'],\n",
       " ['money-fx'],\n",
       " ['money-fx'],\n",
       " ['housing'],\n",
       " ['acq'],\n",
       " ['bop', 'trade'],\n",
       " ['dlr', 'money-fx', 'yen'],\n",
       " ['sugar'],\n",
       " ['money-fx'],\n",
       " ['dlr', 'money-fx'],\n",
       " ['acq'],\n",
       " ['bop', 'trade'],\n",
       " ['carcass', 'sugar'],\n",
       " ['trade'],\n",
       " ['bop', 'trade'],\n",
       " ['cpi'],\n",
       " ['earn'],\n",
       " ['dlr', 'money-fx'],\n",
       " ['cpi'],\n",
       " ['cpi'],\n",
       " ['earn'],\n",
       " ['ship'],\n",
       " ['acq'],\n",
       " ['earn'],\n",
       " ['ship'],\n",
       " ['earn'],\n",
       " ['ship'],\n",
       " ['crude', 'ship'],\n",
       " ['interest'],\n",
       " ['earn'],\n",
       " ['acq'],\n",
       " ['cotton'],\n",
       " ['jobs'],\n",
       " ['earn'],\n",
       " ['earn'],\n",
       " ['cocoa'],\n",
       " ['acq'],\n",
       " ['coffee', 'crude', 'grain', 'iron-steel', 'tea', 'trade', 'wheat'],\n",
       " ['earn'],\n",
       " ['earn'],\n",
       " ['acq'],\n",
       " ['money-fx'],\n",
       " ['money-fx'],\n",
       " ['acq'],\n",
       " ['acq'],\n",
       " ['earn'],\n",
       " ['acq'],\n",
       " ['earn'],\n",
       " ['earn'],\n",
       " ['earn'],\n",
       " ['acq'],\n",
       " ['acq'],\n",
       " ['earn'],\n",
       " ['earn'],\n",
       " ['earn'],\n",
       " ['earn'],\n",
       " ['acq'],\n",
       " ['grain', 'wheat'],\n",
       " ['earn'],\n",
       " ['acq'],\n",
       " ['earn'],\n",
       " ['cocoa'],\n",
       " ['crude', 'ship'],\n",
       " ['acq'],\n",
       " ['acq'],\n",
       " ['trade'],\n",
       " ['acq'],\n",
       " ['earn'],\n",
       " ['acq'],\n",
       " ['interest'],\n",
       " ['acq'],\n",
       " ['earn'],\n",
       " ['earn'],\n",
       " ['cocoa'],\n",
       " ['earn'],\n",
       " ['acq'],\n",
       " ['dlr', 'money-fx'],\n",
       " ['earn'],\n",
       " ['earn'],\n",
       " ['gold', 'lead', 'silver', 'zinc'],\n",
       " ['corn', 'grain'],\n",
       " ['corn', 'grain'],\n",
       " ['gnp'],\n",
       " ['cocoa'],\n",
       " ['grain', 'wheat'],\n",
       " ['earn'],\n",
       " ['earn'],\n",
       " ['sugar'],\n",
       " ['bop'],\n",
       " ['earn'],\n",
       " ['interest', 'money-fx'],\n",
       " ['cocoa'],\n",
       " ['cocoa'],\n",
       " ['acq'],\n",
       " ['earn'],\n",
       " ['earn'],\n",
       " ['acq'],\n",
       " ['corn', 'grain', 'rice', 'wheat'],\n",
       " ['ship'],\n",
       " ['ipi', 'trade'],\n",
       " ['nat-gas'],\n",
       " ['earn'],\n",
       " ['acq'],\n",
       " ['earn'],\n",
       " ['trade'],\n",
       " ['gnp', 'reserves'],\n",
       " ['earn'],\n",
       " ['earn'],\n",
       " ['earn'],\n",
       " ['cotton'],\n",
       " ['earn'],\n",
       " ['crude', 'ship'],\n",
       " ['acq'],\n",
       " ['earn'],\n",
       " ['earn'],\n",
       " ['interest'],\n",
       " ['gold', 'money-fx'],\n",
       " ['earn'],\n",
       " ['earn'],\n",
       " ['acq'],\n",
       " ['cpi'],\n",
       " ['acq'],\n",
       " ['earn'],\n",
       " ['ship'],\n",
       " ['earn'],\n",
       " ['acq'],\n",
       " ['earn'],\n",
       " ['earn'],\n",
       " ['earn'],\n",
       " ['cpi', 'crude', 'heat', 'nat-gas', 'propane'],\n",
       " ['grain', 'wheat'],\n",
       " ['grain', 'wheat'],\n",
       " ['earn'],\n",
       " ['acq'],\n",
       " ['gnp'],\n",
       " ['pet-chem'],\n",
       " ['acq', 'ship'],\n",
       " ['cocoa'],\n",
       " ['acq'],\n",
       " ['cocoa'],\n",
       " ['acq'],\n",
       " ['crude', 'ship'],\n",
       " ['earn'],\n",
       " ['oilseed'],\n",
       " ['money-supply'],\n",
       " ['alum'],\n",
       " ['money-supply'],\n",
       " ['acq'],\n",
       " ['earn'],\n",
       " ['earn'],\n",
       " ['earn'],\n",
       " ['grain', 'ship'],\n",
       " ['earn'],\n",
       " ['earn'],\n",
       " ['income'],\n",
       " ['income'],\n",
       " ['money-fx'],\n",
       " ['trade'],\n",
       " ['earn'],\n",
       " ['earn'],\n",
       " ['earn'],\n",
       " ['earn'],\n",
       " ['cocoa'],\n",
       " ['rubber'],\n",
       " ['carcass', 'livestock'],\n",
       " ['dlr', 'money-fx'],\n",
       " ['money-fx'],\n",
       " ['cocoa'],\n",
       " ['crude', 'ship'],\n",
       " ['crude', 'ship'],\n",
       " ['money-fx'],\n",
       " ['trade'],\n",
       " ['trade'],\n",
       " ['crude', 'ship'],\n",
       " ['earn'],\n",
       " ['crude'],\n",
       " ['money-fx'],\n",
       " ['reserves'],\n",
       " ['money-fx'],\n",
       " ['money-fx'],\n",
       " ['coffee'],\n",
       " ['crude', 'ship'],\n",
       " ['trade'],\n",
       " ['grain', 'trade'],\n",
       " ['earn'],\n",
       " ['earn'],\n",
       " ['earn'],\n",
       " ['dlr', 'money-fx'],\n",
       " ['dlr', 'money-fx'],\n",
       " ['dlr', 'money-fx'],\n",
       " ['dlr', 'money-fx'],\n",
       " ['dlr', 'money-fx'],\n",
       " ['dlr', 'money-fx'],\n",
       " ['dlr', 'money-fx'],\n",
       " ['dlr', 'money-fx'],\n",
       " ['earn'],\n",
       " ['dlr', 'money-fx'],\n",
       " ['money-fx'],\n",
       " ['gold'],\n",
       " ['trade'],\n",
       " ['crude'],\n",
       " ['barley', 'grain', 'wheat'],\n",
       " ['acq'],\n",
       " ['acq'],\n",
       " ['nickel'],\n",
       " ['dlr', 'money-fx', 'yen'],\n",
       " ['gnp'],\n",
       " ['dlr', 'money-fx', 'yen'],\n",
       " ['coffee'],\n",
       " ['dlr', 'money-fx', 'yen'],\n",
       " ['earn'],\n",
       " ['sugar'],\n",
       " ['earn'],\n",
       " ['dlr', 'money-fx', 'yen'],\n",
       " ['grain', 'wheat'],\n",
       " ['acq'],\n",
       " ['crude'],\n",
       " ['acq'],\n",
       " ['trade'],\n",
       " ['dlr', 'money-fx', 'yen'],\n",
       " ['earn'],\n",
       " ['earn'],\n",
       " ['corn', 'grain'],\n",
       " ['earn'],\n",
       " ['earn'],\n",
       " ['money-fx'],\n",
       " ['oilseed', 'soybean'],\n",
       " ['money-supply'],\n",
       " ['alum'],\n",
       " ['earn'],\n",
       " ['money-fx'],\n",
       " ['coconut', 'oilseed'],\n",
       " ['acq'],\n",
       " ['earn'],\n",
       " ['ship'],\n",
       " ['dmk', 'money-fx', 'yen'],\n",
       " ['gold'],\n",
       " ['coconut', 'oilseed'],\n",
       " ['acq'],\n",
       " ['cpi'],\n",
       " ['rubber'],\n",
       " ['dlr', 'money-fx'],\n",
       " ['money-fx'],\n",
       " ['dlr', 'money-fx'],\n",
       " ['money-supply'],\n",
       " ['earn'],\n",
       " ['acq'],\n",
       " ['cocoa'],\n",
       " ['earn'],\n",
       " ['acq'],\n",
       " ['money-supply'],\n",
       " ['ship'],\n",
       " ['money-fx'],\n",
       " ['crude'],\n",
       " ['dlr', 'dmk', 'money-fx'],\n",
       " ['coffee'],\n",
       " ['money-supply'],\n",
       " ['money-fx'],\n",
       " ['money-fx'],\n",
       " ['money-supply'],\n",
       " ['oilseed', 'rape-oil', 'rapeseed', 'sun-oil', 'sunseed', 'veg-oil'],\n",
       " ['acq'],\n",
       " ['cocoa'],\n",
       " ['dlr', 'money-fx', 'yen'],\n",
       " ['dlr', 'money-fx', 'yen'],\n",
       " ['trade'],\n",
       " ['acq'],\n",
       " ['dlr', 'money-fx', 'yen'],\n",
       " ['zinc'],\n",
       " ['dlr', 'money-fx', 'yen'],\n",
       " ['money-fx', 'trade'],\n",
       " ['money-fx'],\n",
       " ['money-fx'],\n",
       " ['trade'],\n",
       " ['interest'],\n",
       " ['money-fx', 'trade'],\n",
       " ['trade'],\n",
       " ['dlr', 'money-fx'],\n",
       " ['acq'],\n",
       " ['acq'],\n",
       " ['acq'],\n",
       " ['acq'],\n",
       " ['ipi'],\n",
       " ['earn'],\n",
       " ['acq'],\n",
       " ['money-fx'],\n",
       " ['crude', 'ship'],\n",
       " ['earn'],\n",
       " ['earn'],\n",
       " ['ship', 'sugar'],\n",
       " ['money-fx', 'yen'],\n",
       " ['earn'],\n",
       " ['money-fx', 'trade'],\n",
       " ['money-fx'],\n",
       " ['money-fx'],\n",
       " ['gold'],\n",
       " ['acq'],\n",
       " ['acq'],\n",
       " ['earn'],\n",
       " ['gold'],\n",
       " ['earn'],\n",
       " ['trade'],\n",
       " ['earn'],\n",
       " ['gnp'],\n",
       " ['grain', 'rice', 'wheat'],\n",
       " ['acq'],\n",
       " ['earn'],\n",
       " ['earn'],\n",
       " ['acq'],\n",
       " ['earn'],\n",
       " ['earn'],\n",
       " ['earn'],\n",
       " ['earn'],\n",
       " ['acq'],\n",
       " ['acq'],\n",
       " ['crude'],\n",
       " ['earn'],\n",
       " ['acq'],\n",
       " ['acq'],\n",
       " ['coffee'],\n",
       " ['earn'],\n",
       " ['earn'],\n",
       " ['earn'],\n",
       " ['earn'],\n",
       " ['hog', 'livestock'],\n",
       " ['money-fx'],\n",
       " ['fuel'],\n",
       " ['money-fx'],\n",
       " ['acq'],\n",
       " ['gold'],\n",
       " ['earn'],\n",
       " ['earn'],\n",
       " ['acq'],\n",
       " ['acq'],\n",
       " ['crude'],\n",
       " ['acq'],\n",
       " ['coffee'],\n",
       " ['earn'],\n",
       " ['earn'],\n",
       " ['money-fx'],\n",
       " ['corn', 'grain', 'oilseed', 'soybean', 'wheat'],\n",
       " ['acq'],\n",
       " ['earn'],\n",
       " ['earn'],\n",
       " ['pet-chem', 'rubber'],\n",
       " ['acq'],\n",
       " ['earn'],\n",
       " ['acq'],\n",
       " ['earn'],\n",
       " ['earn'],\n",
       " ['acq'],\n",
       " ['earn'],\n",
       " ['acq'],\n",
       " ['money-supply'],\n",
       " ['earn'],\n",
       " ['acq'],\n",
       " ['coffee'],\n",
       " ['veg-oil'],\n",
       " ['earn'],\n",
       " ['trade'],\n",
       " ['earn'],\n",
       " ['acq'],\n",
       " ['acq'],\n",
       " ['earn'],\n",
       " ['money-fx'],\n",
       " ['earn'],\n",
       " ['acq'],\n",
       " ['earn'],\n",
       " ['earn'],\n",
       " ['earn'],\n",
       " ['earn'],\n",
       " ['earn'],\n",
       " ['earn'],\n",
       " ['earn'],\n",
       " ['acq'],\n",
       " ['nzdlr'],\n",
       " ['grain', 'wheat'],\n",
       " ['acq'],\n",
       " ['earn'],\n",
       " ['earn'],\n",
       " ['earn'],\n",
       " ['crude'],\n",
       " ['acq'],\n",
       " ['corn', 'grain', 'wheat'],\n",
       " ['coffee'],\n",
       " ['earn'],\n",
       " ['acq'],\n",
       " ['acq'],\n",
       " ['acq'],\n",
       " ['earn'],\n",
       " ['earn'],\n",
       " ['earn'],\n",
       " ['acq', 'gold'],\n",
       " ['acq'],\n",
       " ['earn'],\n",
       " ['earn'],\n",
       " ['earn'],\n",
       " ['acq'],\n",
       " ['earn'],\n",
       " ['earn'],\n",
       " ['acq'],\n",
       " ['acq'],\n",
       " ['acq'],\n",
       " ['acq'],\n",
       " ['acq'],\n",
       " ['acq', 'gold'],\n",
       " ['acq'],\n",
       " ['earn'],\n",
       " ['earn'],\n",
       " ['acq'],\n",
       " ['bop'],\n",
       " ['money-fx'],\n",
       " ['acq'],\n",
       " ['crude'],\n",
       " ['earn'],\n",
       " ['corn', 'grain', 'oilseed', 'soybean', 'wheat'],\n",
       " ['earn'],\n",
       " ['earn'],\n",
       " ['earn'],\n",
       " ['gnp'],\n",
       " ['crude'],\n",
       " ['earn'],\n",
       " ['earn'],\n",
       " ['acq'],\n",
       " ['acq'],\n",
       " ['iron-steel'],\n",
       " ['earn'],\n",
       " ['earn'],\n",
       " ['earn'],\n",
       " ['earn'],\n",
       " ['iron-steel'],\n",
       " ['acq'],\n",
       " ['grain', 'wheat'],\n",
       " ['acq'],\n",
       " ['sugar'],\n",
       " ['earn'],\n",
       " ['earn'],\n",
       " ['acq'],\n",
       " ['earn'],\n",
       " ['earn'],\n",
       " ['acq'],\n",
       " ['oilseed', 'rapeseed'],\n",
       " ['acq'],\n",
       " ['earn'],\n",
       " ['earn'],\n",
       " ['money-fx'],\n",
       " ['earn'],\n",
       " ['acq'],\n",
       " ['cotton'],\n",
       " ['grain'],\n",
       " ['acq'],\n",
       " ['fuel'],\n",
       " ['orange'],\n",
       " ['acq'],\n",
       " ['trade'],\n",
       " ['acq'],\n",
       " ['earn'],\n",
       " ['gnp', 'interest'],\n",
       " ['corn', 'grain', 'wheat'],\n",
       " ['acq'],\n",
       " ['earn'],\n",
       " ['acq'],\n",
       " ['earn'],\n",
       " ['earn'],\n",
       " ['corn', 'cotton', 'grain', 'sorghum', 'wheat'],\n",
       " ['nat-gas'],\n",
       " ['acq'],\n",
       " ['earn'],\n",
       " ['money-supply'],\n",
       " ['carcass', 'livestock', 'veg-oil'],\n",
       " ['crude'],\n",
       " ['acq'],\n",
       " ['acq'],\n",
       " ['money-fx'],\n",
       " ['iron-steel'],\n",
       " ['earn'],\n",
       " ['earn'],\n",
       " ['iron-steel'],\n",
       " ['earn'],\n",
       " ['earn'],\n",
       " ['earn'],\n",
       " ['earn'],\n",
       " ['acq'],\n",
       " ['earn'],\n",
       " ['crude'],\n",
       " ['grain', 'wheat'],\n",
       " ['interest', 'money-fx'],\n",
       " ['dlr', 'money-fx'],\n",
       " ['iron-steel'],\n",
       " ['earn'],\n",
       " ['alum', 'earn', 'iron-steel'],\n",
       " ['acq'],\n",
       " ['bop'],\n",
       " ['earn'],\n",
       " ['earn'],\n",
       " ['acq'],\n",
       " ['acq'],\n",
       " ['dlr', 'money-fx'],\n",
       " ['acq'],\n",
       " ['bop'],\n",
       " ['acq'],\n",
       " ['acq'],\n",
       " ['acq'],\n",
       " ['earn'],\n",
       " ['crude'],\n",
       " ['earn'],\n",
       " ['earn'],\n",
       " ['earn'],\n",
       " ['earn'],\n",
       " ['jobs'],\n",
       " ['jobs'],\n",
       " ['acq'],\n",
       " ['dlr'],\n",
       " ['dlr'],\n",
       " ['dlr'],\n",
       " ['sugar'],\n",
       " ['earn'],\n",
       " ['earn'],\n",
       " ['housing'],\n",
       " ['earn'],\n",
       " ['sugar'],\n",
       " ['trade'],\n",
       " ['trade'],\n",
       " ['acq'],\n",
       " ['iron-steel'],\n",
       " ['acq'],\n",
       " ['earn'],\n",
       " ['coffee'],\n",
       " ['bop'],\n",
       " ['zinc'],\n",
       " ['gnp'],\n",
       " ['acq'],\n",
       " ['money-fx'],\n",
       " ['earn'],\n",
       " ['cpi'],\n",
       " ['trade'],\n",
       " ['interest'],\n",
       " ['interest', 'money-fx'],\n",
       " ['acq'],\n",
       " ['acq'],\n",
       " ['money-fx', 'yen'],\n",
       " ['earn'],\n",
       " ['barley', 'grain', 'wheat'],\n",
       " ['money-fx', 'trade'],\n",
       " ['acq'],\n",
       " ['earn'],\n",
       " ['dlr', 'dmk', 'money-fx'],\n",
       " ['acq', 'crude', 'sugar'],\n",
       " ['grain', 'rice'],\n",
       " ['earn'],\n",
       " ['earn'],\n",
       " ['earn'],\n",
       " ['trade'],\n",
       " ['cocoa', 'coffee', 'grain', 'rubber', 'sugar', 'tin', 'wheat'],\n",
       " ['trade'],\n",
       " ['earn'],\n",
       " ['money-fx'],\n",
       " ['trade'],\n",
       " ['acq'],\n",
       " ['sugar'],\n",
       " ['crude', 'nat-gas', 'sugar'],\n",
       " ['earn'],\n",
       " ['oilseed'],\n",
       " ['money-fx'],\n",
       " ['acq'],\n",
       " ['acq'],\n",
       " ['interest', 'money-fx'],\n",
       " ['acq'],\n",
       " ['earn'],\n",
       " ['earn'],\n",
       " ['acq'],\n",
       " ['earn'],\n",
       " ['interest', 'money-fx'],\n",
       " ['earn'],\n",
       " ['interest'],\n",
       " ['ship'],\n",
       " ['acq'],\n",
       " ['acq'],\n",
       " ['dlr', 'trade', 'yen'],\n",
       " ['acq'],\n",
       " ['money-fx'],\n",
       " ['acq'],\n",
       " ['lei'],\n",
       " ['trade'],\n",
       " ['lei'],\n",
       " ['interest', 'money-fx'],\n",
       " ['coffee'],\n",
       " ['acq'],\n",
       " ['corn', 'grain'],\n",
       " ['earn'],\n",
       " ['ship'],\n",
       " ['earn'],\n",
       " ['alum'],\n",
       " ['acq'],\n",
       " ['jobs'],\n",
       " ['earn'],\n",
       " ['carcass'],\n",
       " ['acq'],\n",
       " ['earn'],\n",
       " ['money-fx', 'trade'],\n",
       " ['earn'],\n",
       " ['earn'],\n",
       " ['money-fx'],\n",
       " ['acq'],\n",
       " ['trade'],\n",
       " ['acq'],\n",
       " ['gnp'],\n",
       " ['acq'],\n",
       " ['acq'],\n",
       " ['money-fx'],\n",
       " ['acq'],\n",
       " ['earn'],\n",
       " ['earn'],\n",
       " ['earn'],\n",
       " ['earn'],\n",
       " ['earn'],\n",
       " ['earn'],\n",
       " ['earn'],\n",
       " ['earn'],\n",
       " ['corn', 'grain', 'sorghum'],\n",
       " ['interest'],\n",
       " ['trade'],\n",
       " ['barley', 'grain', 'wheat'],\n",
       " ['earn'],\n",
       " ['earn'],\n",
       " ['money-fx'],\n",
       " ['acq'],\n",
       " ['gnp'],\n",
       " ['sugar'],\n",
       " ['earn'],\n",
       " ['earn'],\n",
       " ['earn'],\n",
       " ['earn'],\n",
       " ['earn'],\n",
       " ['earn'],\n",
       " ['cocoa', 'coffee', 'sugar'],\n",
       " ['grain', 'wheat'],\n",
       " ['acq'],\n",
       " ['acq'],\n",
       " ['acq'],\n",
       " ['earn'],\n",
       " ['crude', 'nat-gas'],\n",
       " ['trade'],\n",
       " ['earn'],\n",
       " ['gnp', 'lei'],\n",
       " ['trade'],\n",
       " ['earn'],\n",
       " ['earn'],\n",
       " ['acq'],\n",
       " ['interest', 'money-fx'],\n",
       " ['acq'],\n",
       " ['earn'],\n",
       " ['earn'],\n",
       " ['alum'],\n",
       " ['coffee'],\n",
       " ['acq'],\n",
       " ['acq'],\n",
       " ['earn'],\n",
       " ['acq'],\n",
       " ['ipi'],\n",
       " ['earn'],\n",
       " ['grain', 'wheat'],\n",
       " ['earn'],\n",
       " ['trade'],\n",
       " ['ship'],\n",
       " ['acq'],\n",
       " ['sugar'],\n",
       " ['crude', 'earn'],\n",
       " ['trade'],\n",
       " ['corn', 'grain', 'wheat'],\n",
       " ['acq'],\n",
       " ['earn'],\n",
       " ['earn'],\n",
       " ['acq'],\n",
       " ['trade'],\n",
       " ['grain', 'wheat'],\n",
       " ['earn'],\n",
       " ['acq'],\n",
       " ['crude'],\n",
       " ['acq'],\n",
       " ['gas'],\n",
       " ['earn'],\n",
       " ['earn'],\n",
       " ['grain', 'wheat'],\n",
       " ['earn'],\n",
       " ['money-fx'],\n",
       " ['earn'],\n",
       " ['trade'],\n",
       " ['crude'],\n",
       " ['interest'],\n",
       " ['earn'],\n",
       " ['interest'],\n",
       " ['grain', 'wheat'],\n",
       " ['earn'],\n",
       " ['earn'],\n",
       " ['earn'],\n",
       " ['money-fx'],\n",
       " ['acq'],\n",
       " ['earn'],\n",
       " ['earn'],\n",
       " ['corn', 'grain'],\n",
       " ['veg-oil'],\n",
       " ['earn'],\n",
       " ['acq'],\n",
       " ['earn'],\n",
       " ['crude'],\n",
       " ['grain', 'wheat'],\n",
       " ['trade'],\n",
       " ['money-fx'],\n",
       " ['acq'],\n",
       " ['money-fx'],\n",
       " ['earn'],\n",
       " ['earn'],\n",
       " ['crude'],\n",
       " ['cocoa'],\n",
       " ['trade'],\n",
       " ['trade'],\n",
       " ['cocoa', 'coffee', 'sugar'],\n",
       " ['acq'],\n",
       " ['acq'],\n",
       " ['nat-gas'],\n",
       " ['acq'],\n",
       " ['acq'],\n",
       " ['cpi'],\n",
       " ['earn'],\n",
       " ['earn'],\n",
       " ['earn'],\n",
       " ['acq'],\n",
       " ['earn'],\n",
       " ['earn'],\n",
       " ['copper'],\n",
       " ['earn'],\n",
       " ['acq'],\n",
       " ['trade'],\n",
       " ['acq'],\n",
       " ['earn'],\n",
       " ['crude', 'gas', 'heat'],\n",
       " ['acq'],\n",
       " ['earn'],\n",
       " ['trade'],\n",
       " ['earn'],\n",
       " ['trade'],\n",
       " ['earn'],\n",
       " ['earn'],\n",
       " ['earn'],\n",
       " ['earn'],\n",
       " ['acq'],\n",
       " ['acq'],\n",
       " ['earn'],\n",
       " ['cotton'],\n",
       " ['acq'],\n",
       " ['oilseed', 'rapeseed'],\n",
       " ['earn'],\n",
       " ['acq'],\n",
       " ['acq'],\n",
       " ['lumber'],\n",
       " ['earn'],\n",
       " ['acq'],\n",
       " ['acq'],\n",
       " ['acq'],\n",
       " ['acq'],\n",
       " ['earn'],\n",
       " ['earn'],\n",
       " ['acq'],\n",
       " ['grain', 'rice'],\n",
       " ['acq'],\n",
       " ['interest', 'money-fx'],\n",
       " ['earn'],\n",
       " ['oilseed'],\n",
       " ['earn'],\n",
       " ['carcass'],\n",
       " ['trade'],\n",
       " ['lei'],\n",
       " ...]"
      ]
     },
     "execution_count": 34,
     "metadata": {},
     "output_type": "execute_result"
    }
   ],
   "source": [
    "[reuters.categories(doc_id) for doc_id in train_docs_id]"
   ]
  },
  {
   "cell_type": "code",
   "execution_count": 31,
   "id": "d1569161-4606-4bbc-b15d-826b00f4e0b7",
   "metadata": {},
   "outputs": [],
   "source": [
    "# Transform multilabel labels\n",
    "mlb = MultiLabelBinarizer()\n",
    "train_labels = mlb.fit_transform([reuters.categories(doc_id) for doc_id in train_docs_id])\n",
    "test_labels = mlb.transform([reuters.categories(doc_id) for doc_id in test_docs_id])"
   ]
  },
  {
   "cell_type": "code",
   "execution_count": 32,
   "id": "81d13aea-2fe5-4b1f-8022-72ed7d945e19",
   "metadata": {},
   "outputs": [
    {
     "data": {
      "text/plain": [
       "7769"
      ]
     },
     "execution_count": 32,
     "metadata": {},
     "output_type": "execute_result"
    }
   ],
   "source": [
    "import numpy as np\n",
    "len(np.array(train_labels))"
   ]
  },
  {
   "cell_type": "code",
   "execution_count": null,
   "id": "8fc2f251-afc6-4157-b59c-68c58175ae84",
   "metadata": {},
   "outputs": [],
   "source": []
  },
  {
   "cell_type": "code",
   "execution_count": null,
   "id": "ce5cb2ea-52d5-48ec-ba87-a26f20537c66",
   "metadata": {},
   "outputs": [],
   "source": []
  },
  {
   "cell_type": "code",
   "execution_count": null,
   "id": "e4ba3ff7-deef-4aba-84bc-75614e9bf8e3",
   "metadata": {},
   "outputs": [],
   "source": []
  },
  {
   "cell_type": "code",
   "execution_count": null,
   "id": "296c43e7-8743-4f7d-820b-bde55f8cf1f7",
   "metadata": {},
   "outputs": [],
   "source": []
  },
  {
   "cell_type": "code",
   "execution_count": null,
   "id": "1e0d0c44-32e8-4c3b-8770-f4eb887ce8f8",
   "metadata": {},
   "outputs": [],
   "source": []
  },
  {
   "cell_type": "code",
   "execution_count": null,
   "id": "6fe239ac-07ea-4599-9e63-79863edb43e0",
   "metadata": {},
   "outputs": [],
   "source": []
  },
  {
   "cell_type": "code",
   "execution_count": null,
   "id": "af990d6c-52aa-4fc1-8a46-6b608a73d531",
   "metadata": {},
   "outputs": [],
   "source": []
  },
  {
   "cell_type": "code",
   "execution_count": null,
   "id": "19c523c1-444f-461c-a486-7b622c294991",
   "metadata": {},
   "outputs": [],
   "source": []
  },
  {
   "cell_type": "code",
   "execution_count": null,
   "id": "0dc82ea0-266e-406e-a285-7219e480e8b3",
   "metadata": {},
   "outputs": [],
   "source": []
  },
  {
   "cell_type": "code",
   "execution_count": null,
   "id": "a8a10ed2-a616-4589-80c8-09f159ad8c3b",
   "metadata": {},
   "outputs": [],
   "source": []
  },
  {
   "cell_type": "code",
   "execution_count": null,
   "id": "a2e05b68-09c3-47e3-b111-141b5f06a438",
   "metadata": {},
   "outputs": [],
   "source": []
  },
  {
   "cell_type": "code",
   "execution_count": null,
   "id": "272e78b4-7add-4d82-816c-3e6a77a7c30e",
   "metadata": {},
   "outputs": [],
   "source": []
  },
  {
   "cell_type": "code",
   "execution_count": null,
   "id": "da8a1185-4e13-4842-8f06-402d2330df9a",
   "metadata": {},
   "outputs": [],
   "source": []
  },
  {
   "cell_type": "code",
   "execution_count": 5,
   "id": "003dcabb-5e00-4566-9735-c97ec78e184e",
   "metadata": {},
   "outputs": [],
   "source": [
    "!wget -qO labeled_data.csv https://raw.githubusercontent.com/t-davidson/hate-speech-and-offensive-language/master/data/labeled_data.csv"
   ]
  },
  {
   "cell_type": "code",
   "execution_count": 39,
   "id": "1f83f57c-3b17-4c35-ad39-1528a4867025",
   "metadata": {},
   "outputs": [],
   "source": [
    "from sklearn.utils import shuffle\n",
    "import pandas as pd\n",
    "import re\n",
    "import numpy as np\n",
    "import os\n",
    "import unicodedata\n",
    "from sklearn.datasets import fetch_20newsgroups\n",
    "from tqdm import tqdm \n",
    "\n",
    "def _load_toxic(data_dir = './datasets/labeled_data.csv'):\n",
    "    nRowsRead = None\n",
    "    df0 = pd.read_csv(data_dir, delimiter=',', nrows = nRowsRead)\n",
    "    df0.dataframeName = data_dir\n",
    "    nRow, nCol = df0.shape\n",
    "    c=df0['class']\n",
    "    df0.rename(columns={'tweet' : 'text', 'class' : 'category'}, inplace=True)\n",
    "    a=df0['text']\n",
    "    b=df0['category'].map({0: 'hate_speech', 1: 'offensive_language', 2: 'neither'})\n",
    "    df= pd.concat([a,b,c], axis=1)\n",
    "    \n",
    "    X = df['text'].values\n",
    "    y = df['class'].values\n",
    "    return X, y\n"
   ]
  },
  {
   "cell_type": "code",
   "execution_count": 1,
   "id": "8c876143-4ce8-45cc-9908-3b0c923fc05d",
   "metadata": {},
   "outputs": [],
   "source": [
    "import numpy as np"
   ]
  },
  {
   "cell_type": "code",
   "execution_count": 4,
   "id": "7b6e7b01-bd04-434c-83a2-18a778541390",
   "metadata": {},
   "outputs": [],
   "source": [
    "X = np.load('./datasets/reuters_X.npy')"
   ]
  },
  {
   "cell_type": "code",
   "execution_count": 9,
   "id": "0c1c95c3-dd2b-43f9-b154-e8cdea4128bf",
   "metadata": {},
   "outputs": [
    {
     "data": {
      "text/plain": [
       "'SINGAPORE TO SPEND 1.2 BILLION DLRS ON PORTS   The Port of Singapore Authority (PSA)   will spend 1.2 billion dlrs to develop port facilities and   cargo handling equipment over the next five years,   Communications Minister Yeo Ning Hong told parliament.       Yeo said the improvements were needed to cope with an   expected growth of ship tonnage and cargo handled by the port,   but gave no further details.       The PSA handled 529 mln gross registered tonnes of cargo in   1985, according to the latest available statistics from the   port authority.     '"
      ]
     },
     "execution_count": 9,
     "metadata": {},
     "output_type": "execute_result"
    }
   ],
   "source": [
    "X[20]"
   ]
  },
  {
   "cell_type": "code",
   "execution_count": 3,
   "id": "008944de-d06c-4696-991d-d18de77d4d53",
   "metadata": {},
   "outputs": [
    {
     "ename": "NameError",
     "evalue": "name 'X' is not defined",
     "output_type": "error",
     "traceback": [
      "\u001b[0;31m---------------------------------------------------------------------------\u001b[0m",
      "\u001b[0;31mNameError\u001b[0m                                 Traceback (most recent call last)",
      "\u001b[0;32m/tmp/ipykernel_34655/2736119318.py\u001b[0m in \u001b[0;36m<module>\u001b[0;34m\u001b[0m\n\u001b[0;32m----> 1\u001b[0;31m \u001b[0mtype\u001b[0m\u001b[0;34m(\u001b[0m\u001b[0mX\u001b[0m\u001b[0;34m)\u001b[0m\u001b[0;34m,\u001b[0m \u001b[0mtype\u001b[0m\u001b[0;34m(\u001b[0m\u001b[0mX\u001b[0m\u001b[0;34m[\u001b[0m\u001b[0;36m0\u001b[0m\u001b[0;34m]\u001b[0m\u001b[0;34m)\u001b[0m\u001b[0;34m\u001b[0m\u001b[0;34m\u001b[0m\u001b[0m\n\u001b[0m",
      "\u001b[0;31mNameError\u001b[0m: name 'X' is not defined"
     ]
    }
   ],
   "source": [
    "type(X), type(X[0])"
   ]
  },
  {
   "cell_type": "code",
   "execution_count": null,
   "id": "7b367aec-bf88-48de-82bf-63cc76d4443a",
   "metadata": {},
   "outputs": [],
   "source": []
  },
  {
   "cell_type": "code",
   "execution_count": 62,
   "id": "3ea58a30-6425-42d7-bfa2-7b182dbfe5b9",
   "metadata": {},
   "outputs": [
    {
     "data": {
      "text/plain": [
       "Counter({0: 973, 1: 988})"
      ]
     },
     "execution_count": 62,
     "metadata": {},
     "output_type": "execute_result"
    }
   ],
   "source": [
    "from collections import Counter\n",
    "\n",
    "Counter(y)"
   ]
  },
  {
   "cell_type": "code",
   "execution_count": 12,
   "id": "30f93f16-2aa6-45e2-949f-fb3f90bc757b",
   "metadata": {},
   "outputs": [
    {
     "name": "stderr",
     "output_type": "stream",
     "text": [
      "/opt/conda/lib/python3.9/site-packages/IPython/core/interactiveshell.py:3444: DtypeWarning: Columns (2,3,4,5,6) have mixed types.Specify dtype option on import or set low_memory=False.\n",
      "  exec(code_obj, self.user_global_ns, self.user_ns)\n"
     ]
    }
   ],
   "source": [
    "df0 = pd.read_csv('./datasets/hate_speech.csv', delimiter=',', nrows = None)"
   ]
  },
  {
   "cell_type": "code",
   "execution_count": 13,
   "id": "b0a8e19d-854b-4e3f-bc79-a6a3a595b17b",
   "metadata": {},
   "outputs": [
    {
     "data": {
      "text/html": [
       "<div>\n",
       "<style scoped>\n",
       "    .dataframe tbody tr th:only-of-type {\n",
       "        vertical-align: middle;\n",
       "    }\n",
       "\n",
       "    .dataframe tbody tr th {\n",
       "        vertical-align: top;\n",
       "    }\n",
       "\n",
       "    .dataframe thead th {\n",
       "        text-align: right;\n",
       "    }\n",
       "</style>\n",
       "<table border=\"1\" class=\"dataframe\">\n",
       "  <thead>\n",
       "    <tr style=\"text-align: right;\">\n",
       "      <th></th>\n",
       "      <th>id</th>\n",
       "      <th>comment_text</th>\n",
       "      <th>toxic</th>\n",
       "      <th>severe_toxic</th>\n",
       "      <th>obscene</th>\n",
       "      <th>threat</th>\n",
       "      <th>insult</th>\n",
       "      <th>identity_hate</th>\n",
       "    </tr>\n",
       "  </thead>\n",
       "  <tbody>\n",
       "    <tr>\n",
       "      <th>184350</th>\n",
       "      <td>25291</td>\n",
       "      <td>3</td>\n",
       "      <td>0</td>\n",
       "      <td>2</td>\n",
       "      <td>1</td>\n",
       "      <td>1</td>\n",
       "      <td>you's a muthaf***in lie &amp;#8220;@LifeAsKing: @2...</td>\n",
       "      <td>NaN</td>\n",
       "    </tr>\n",
       "    <tr>\n",
       "      <th>184351</th>\n",
       "      <td>25292</td>\n",
       "      <td>3</td>\n",
       "      <td>0</td>\n",
       "      <td>1</td>\n",
       "      <td>2</td>\n",
       "      <td>2</td>\n",
       "      <td>you've gone and broke the wrong heart baby, an...</td>\n",
       "      <td>NaN</td>\n",
       "    </tr>\n",
       "    <tr>\n",
       "      <th>184352</th>\n",
       "      <td>25294</td>\n",
       "      <td>3</td>\n",
       "      <td>0</td>\n",
       "      <td>3</td>\n",
       "      <td>0</td>\n",
       "      <td>1</td>\n",
       "      <td>young buck wanna eat!!.. dat nigguh like I ain...</td>\n",
       "      <td>NaN</td>\n",
       "    </tr>\n",
       "    <tr>\n",
       "      <th>184353</th>\n",
       "      <td>25295</td>\n",
       "      <td>6</td>\n",
       "      <td>0</td>\n",
       "      <td>6</td>\n",
       "      <td>0</td>\n",
       "      <td>1</td>\n",
       "      <td>youu got wild bitches tellin you lies</td>\n",
       "      <td>NaN</td>\n",
       "    </tr>\n",
       "    <tr>\n",
       "      <th>184354</th>\n",
       "      <td>25296</td>\n",
       "      <td>3</td>\n",
       "      <td>0</td>\n",
       "      <td>0</td>\n",
       "      <td>3</td>\n",
       "      <td>2</td>\n",
       "      <td>~~Ruffled | Ntac Eileen Dahlia - Beautiful col...</td>\n",
       "      <td>NaN</td>\n",
       "    </tr>\n",
       "  </tbody>\n",
       "</table>\n",
       "</div>"
      ],
      "text/plain": [
       "           id comment_text toxic severe_toxic obscene threat  \\\n",
       "184350  25291            3     0            2       1      1   \n",
       "184351  25292            3     0            1       2      2   \n",
       "184352  25294            3     0            3       0      1   \n",
       "184353  25295            6     0            6       0      1   \n",
       "184354  25296            3     0            0       3      2   \n",
       "\n",
       "                                                   insult  identity_hate  \n",
       "184350  you's a muthaf***in lie &#8220;@LifeAsKing: @2...            NaN  \n",
       "184351  you've gone and broke the wrong heart baby, an...            NaN  \n",
       "184352  young buck wanna eat!!.. dat nigguh like I ain...            NaN  \n",
       "184353              youu got wild bitches tellin you lies            NaN  \n",
       "184354  ~~Ruffled | Ntac Eileen Dahlia - Beautiful col...            NaN  "
      ]
     },
     "execution_count": 13,
     "metadata": {},
     "output_type": "execute_result"
    }
   ],
   "source": [
    "df0.tail()"
   ]
  },
  {
   "cell_type": "code",
   "execution_count": 2,
   "id": "1a76e248-26a1-4d56-a310-012258afeac8",
   "metadata": {},
   "outputs": [
    {
     "name": "stderr",
     "output_type": "stream",
     "text": [
      "/tmp/ipykernel_11130/807376076.py:1: DtypeWarning: Columns (2,3,4,5,6) have mixed types.Specify dtype option on import or set low_memory=False.\n",
      "  X, y = _load_toxic()\n"
     ]
    },
    {
     "ename": "KeyError",
     "evalue": "'class'",
     "output_type": "error",
     "traceback": [
      "\u001b[0;31m---------------------------------------------------------------------------\u001b[0m",
      "\u001b[0;31mKeyError\u001b[0m                                  Traceback (most recent call last)",
      "\u001b[0;32m/opt/conda/lib/python3.9/site-packages/pandas/core/indexes/base.py\u001b[0m in \u001b[0;36mget_loc\u001b[0;34m(self, key, method, tolerance)\u001b[0m\n\u001b[1;32m   3360\u001b[0m             \u001b[0;32mtry\u001b[0m\u001b[0;34m:\u001b[0m\u001b[0;34m\u001b[0m\u001b[0;34m\u001b[0m\u001b[0m\n\u001b[0;32m-> 3361\u001b[0;31m                 \u001b[0;32mreturn\u001b[0m \u001b[0mself\u001b[0m\u001b[0;34m.\u001b[0m\u001b[0m_engine\u001b[0m\u001b[0;34m.\u001b[0m\u001b[0mget_loc\u001b[0m\u001b[0;34m(\u001b[0m\u001b[0mcasted_key\u001b[0m\u001b[0;34m)\u001b[0m\u001b[0;34m\u001b[0m\u001b[0;34m\u001b[0m\u001b[0m\n\u001b[0m\u001b[1;32m   3362\u001b[0m             \u001b[0;32mexcept\u001b[0m \u001b[0mKeyError\u001b[0m \u001b[0;32mas\u001b[0m \u001b[0merr\u001b[0m\u001b[0;34m:\u001b[0m\u001b[0;34m\u001b[0m\u001b[0;34m\u001b[0m\u001b[0m\n",
      "\u001b[0;32m/opt/conda/lib/python3.9/site-packages/pandas/_libs/index.pyx\u001b[0m in \u001b[0;36mpandas._libs.index.IndexEngine.get_loc\u001b[0;34m()\u001b[0m\n",
      "\u001b[0;32m/opt/conda/lib/python3.9/site-packages/pandas/_libs/index.pyx\u001b[0m in \u001b[0;36mpandas._libs.index.IndexEngine.get_loc\u001b[0;34m()\u001b[0m\n",
      "\u001b[0;32mpandas/_libs/hashtable_class_helper.pxi\u001b[0m in \u001b[0;36mpandas._libs.hashtable.PyObjectHashTable.get_item\u001b[0;34m()\u001b[0m\n",
      "\u001b[0;32mpandas/_libs/hashtable_class_helper.pxi\u001b[0m in \u001b[0;36mpandas._libs.hashtable.PyObjectHashTable.get_item\u001b[0;34m()\u001b[0m\n",
      "\u001b[0;31mKeyError\u001b[0m: 'class'",
      "\nThe above exception was the direct cause of the following exception:\n",
      "\u001b[0;31mKeyError\u001b[0m                                  Traceback (most recent call last)",
      "\u001b[0;32m/tmp/ipykernel_11130/807376076.py\u001b[0m in \u001b[0;36m<module>\u001b[0;34m\u001b[0m\n\u001b[0;32m----> 1\u001b[0;31m \u001b[0mX\u001b[0m\u001b[0;34m,\u001b[0m \u001b[0my\u001b[0m \u001b[0;34m=\u001b[0m \u001b[0m_load_toxic\u001b[0m\u001b[0;34m(\u001b[0m\u001b[0;34m)\u001b[0m\u001b[0;34m\u001b[0m\u001b[0;34m\u001b[0m\u001b[0m\n\u001b[0m",
      "\u001b[0;32m/tmp/ipykernel_11130/2894768285.py\u001b[0m in \u001b[0;36m_load_toxic\u001b[0;34m(data_dir)\u001b[0m\n\u001b[1;32m     13\u001b[0m     \u001b[0mdf0\u001b[0m\u001b[0;34m.\u001b[0m\u001b[0mdataframeName\u001b[0m \u001b[0;34m=\u001b[0m \u001b[0mdata_dir\u001b[0m\u001b[0;34m\u001b[0m\u001b[0;34m\u001b[0m\u001b[0m\n\u001b[1;32m     14\u001b[0m     \u001b[0mnRow\u001b[0m\u001b[0;34m,\u001b[0m \u001b[0mnCol\u001b[0m \u001b[0;34m=\u001b[0m \u001b[0mdf0\u001b[0m\u001b[0;34m.\u001b[0m\u001b[0mshape\u001b[0m\u001b[0;34m\u001b[0m\u001b[0;34m\u001b[0m\u001b[0m\n\u001b[0;32m---> 15\u001b[0;31m     \u001b[0mc\u001b[0m\u001b[0;34m=\u001b[0m\u001b[0mdf0\u001b[0m\u001b[0;34m[\u001b[0m\u001b[0;34m'class'\u001b[0m\u001b[0;34m]\u001b[0m\u001b[0;34m\u001b[0m\u001b[0;34m\u001b[0m\u001b[0m\n\u001b[0m\u001b[1;32m     16\u001b[0m     \u001b[0mdf0\u001b[0m\u001b[0;34m.\u001b[0m\u001b[0mrename\u001b[0m\u001b[0;34m(\u001b[0m\u001b[0mcolumns\u001b[0m\u001b[0;34m=\u001b[0m\u001b[0;34m{\u001b[0m\u001b[0;34m'tweet'\u001b[0m \u001b[0;34m:\u001b[0m \u001b[0;34m'text'\u001b[0m\u001b[0;34m,\u001b[0m \u001b[0;34m'class'\u001b[0m \u001b[0;34m:\u001b[0m \u001b[0;34m'category'\u001b[0m\u001b[0;34m}\u001b[0m\u001b[0;34m,\u001b[0m \u001b[0minplace\u001b[0m\u001b[0;34m=\u001b[0m\u001b[0;32mTrue\u001b[0m\u001b[0;34m)\u001b[0m\u001b[0;34m\u001b[0m\u001b[0;34m\u001b[0m\u001b[0m\n\u001b[1;32m     17\u001b[0m     \u001b[0ma\u001b[0m\u001b[0;34m=\u001b[0m\u001b[0mdf0\u001b[0m\u001b[0;34m[\u001b[0m\u001b[0;34m'text'\u001b[0m\u001b[0;34m]\u001b[0m\u001b[0;34m\u001b[0m\u001b[0;34m\u001b[0m\u001b[0m\n",
      "\u001b[0;32m/opt/conda/lib/python3.9/site-packages/pandas/core/frame.py\u001b[0m in \u001b[0;36m__getitem__\u001b[0;34m(self, key)\u001b[0m\n\u001b[1;32m   3456\u001b[0m             \u001b[0;32mif\u001b[0m \u001b[0mself\u001b[0m\u001b[0;34m.\u001b[0m\u001b[0mcolumns\u001b[0m\u001b[0;34m.\u001b[0m\u001b[0mnlevels\u001b[0m \u001b[0;34m>\u001b[0m \u001b[0;36m1\u001b[0m\u001b[0;34m:\u001b[0m\u001b[0;34m\u001b[0m\u001b[0;34m\u001b[0m\u001b[0m\n\u001b[1;32m   3457\u001b[0m                 \u001b[0;32mreturn\u001b[0m \u001b[0mself\u001b[0m\u001b[0;34m.\u001b[0m\u001b[0m_getitem_multilevel\u001b[0m\u001b[0;34m(\u001b[0m\u001b[0mkey\u001b[0m\u001b[0;34m)\u001b[0m\u001b[0;34m\u001b[0m\u001b[0;34m\u001b[0m\u001b[0m\n\u001b[0;32m-> 3458\u001b[0;31m             \u001b[0mindexer\u001b[0m \u001b[0;34m=\u001b[0m \u001b[0mself\u001b[0m\u001b[0;34m.\u001b[0m\u001b[0mcolumns\u001b[0m\u001b[0;34m.\u001b[0m\u001b[0mget_loc\u001b[0m\u001b[0;34m(\u001b[0m\u001b[0mkey\u001b[0m\u001b[0;34m)\u001b[0m\u001b[0;34m\u001b[0m\u001b[0;34m\u001b[0m\u001b[0m\n\u001b[0m\u001b[1;32m   3459\u001b[0m             \u001b[0;32mif\u001b[0m \u001b[0mis_integer\u001b[0m\u001b[0;34m(\u001b[0m\u001b[0mindexer\u001b[0m\u001b[0;34m)\u001b[0m\u001b[0;34m:\u001b[0m\u001b[0;34m\u001b[0m\u001b[0;34m\u001b[0m\u001b[0m\n\u001b[1;32m   3460\u001b[0m                 \u001b[0mindexer\u001b[0m \u001b[0;34m=\u001b[0m \u001b[0;34m[\u001b[0m\u001b[0mindexer\u001b[0m\u001b[0;34m]\u001b[0m\u001b[0;34m\u001b[0m\u001b[0;34m\u001b[0m\u001b[0m\n",
      "\u001b[0;32m/opt/conda/lib/python3.9/site-packages/pandas/core/indexes/base.py\u001b[0m in \u001b[0;36mget_loc\u001b[0;34m(self, key, method, tolerance)\u001b[0m\n\u001b[1;32m   3361\u001b[0m                 \u001b[0;32mreturn\u001b[0m \u001b[0mself\u001b[0m\u001b[0;34m.\u001b[0m\u001b[0m_engine\u001b[0m\u001b[0;34m.\u001b[0m\u001b[0mget_loc\u001b[0m\u001b[0;34m(\u001b[0m\u001b[0mcasted_key\u001b[0m\u001b[0;34m)\u001b[0m\u001b[0;34m\u001b[0m\u001b[0;34m\u001b[0m\u001b[0m\n\u001b[1;32m   3362\u001b[0m             \u001b[0;32mexcept\u001b[0m \u001b[0mKeyError\u001b[0m \u001b[0;32mas\u001b[0m \u001b[0merr\u001b[0m\u001b[0;34m:\u001b[0m\u001b[0;34m\u001b[0m\u001b[0;34m\u001b[0m\u001b[0m\n\u001b[0;32m-> 3363\u001b[0;31m                 \u001b[0;32mraise\u001b[0m \u001b[0mKeyError\u001b[0m\u001b[0;34m(\u001b[0m\u001b[0mkey\u001b[0m\u001b[0;34m)\u001b[0m \u001b[0;32mfrom\u001b[0m \u001b[0merr\u001b[0m\u001b[0;34m\u001b[0m\u001b[0;34m\u001b[0m\u001b[0m\n\u001b[0m\u001b[1;32m   3364\u001b[0m \u001b[0;34m\u001b[0m\u001b[0m\n\u001b[1;32m   3365\u001b[0m         \u001b[0;32mif\u001b[0m \u001b[0mis_scalar\u001b[0m\u001b[0;34m(\u001b[0m\u001b[0mkey\u001b[0m\u001b[0;34m)\u001b[0m \u001b[0;32mand\u001b[0m \u001b[0misna\u001b[0m\u001b[0;34m(\u001b[0m\u001b[0mkey\u001b[0m\u001b[0;34m)\u001b[0m \u001b[0;32mand\u001b[0m \u001b[0;32mnot\u001b[0m \u001b[0mself\u001b[0m\u001b[0;34m.\u001b[0m\u001b[0mhasnans\u001b[0m\u001b[0;34m:\u001b[0m\u001b[0;34m\u001b[0m\u001b[0;34m\u001b[0m\u001b[0m\n",
      "\u001b[0;31mKeyError\u001b[0m: 'class'"
     ]
    }
   ],
   "source": [
    "X, y = _load_toxic()"
   ]
  },
  {
   "cell_type": "code",
   "execution_count": null,
   "id": "91c4363a-b911-426e-b1d8-f853e23b4eee",
   "metadata": {},
   "outputs": [],
   "source": []
  },
  {
   "cell_type": "code",
   "execution_count": null,
   "id": "8005fa44-14b8-41d7-8150-4076739d9faf",
   "metadata": {},
   "outputs": [],
   "source": []
  },
  {
   "cell_type": "code",
   "execution_count": 8,
   "id": "af67f982-9ac4-45ac-9aa3-7d42132d0f9b",
   "metadata": {},
   "outputs": [],
   "source": [
    "def _load_reuters(data_dir = None):\n",
    "    nltk.download('reuters')\n",
    "    \n",
    "    dic_map = {}\n",
    "    for i in range(len(cat_8)):\n",
    "        dic_map[cat_8[i]] = i\n",
    "\n",
    "    documents = reuters.fileids()\n",
    "    train_docs = list(filter(lambda doc: doc.startswith(\"train\"), documents));\n",
    "    test_docs = list(filter(lambda doc: doc.startswith(\"test\"), documents));\n",
    "    \n",
    "    def _get_data(docs):\n",
    "        docs_text = []\n",
    "        docs_label = []\n",
    "        for index, i in  enumerate(docs):\n",
    "            docs_text.append(reuters.raw(fileids=[i]))\n",
    "            docs_label.append(reuters.categories(i))\n",
    "\n",
    "        X = []\n",
    "        y = []\n",
    "        for cat in cat_8:\n",
    "            count = 0\n",
    "            for i in range(len(docs_label)): \n",
    "                if cat in docs_label[i]:\n",
    "                    if len(docs_label[i]) > 1:\n",
    "                        double = 0\n",
    "                        for label in docs_label[i]:\n",
    "                            if label in cat_8:\n",
    "                                double += 1\n",
    "                        if double > 1:\n",
    "                            continue;\n",
    "                    count += 1\n",
    "                    X.append(docs_text[i])\n",
    "                    y.append(cat)\n",
    "        return X, y\n",
    "    \n",
    "    X_train, y_train = _get_data(train_docs)\n",
    "    X_test, y_test = _get_data(test_docs)\n",
    "    \n",
    "    X = np.concatenate([X_train, X_test])\n",
    "    y = np.concatenate([y_train, y_test])\n",
    "    y = [dic_map[i] for i in y]\n",
    "    \n",
    "    return X, y\n"
   ]
  },
  {
   "cell_type": "code",
   "execution_count": 9,
   "id": "3974a8e5-105d-4f56-aa4a-dd852177b1ad",
   "metadata": {},
   "outputs": [],
   "source": [
    "from collections import Counter"
   ]
  },
  {
   "cell_type": "code",
   "execution_count": 11,
   "id": "65cac258-8d6b-48cd-bf4c-5668bd02e4c5",
   "metadata": {},
   "outputs": [
    {
     "name": "stderr",
     "output_type": "stream",
     "text": [
      "[nltk_data] Downloading package reuters to /home/jovyan/nltk_data...\n",
      "[nltk_data]   Package reuters is already up-to-date!\n"
     ]
    }
   ],
   "source": [
    "X, y = _load_reuters()"
   ]
  },
  {
   "cell_type": "code",
   "execution_count": null,
   "id": "784f113f-0876-42e8-909e-d6efd3cc07fd",
   "metadata": {},
   "outputs": [],
   "source": []
  },
  {
   "cell_type": "code",
   "execution_count": null,
   "id": "0d7c122a-6cc4-46c3-8596-82cb03d17331",
   "metadata": {},
   "outputs": [],
   "source": []
  },
  {
   "cell_type": "code",
   "execution_count": null,
   "id": "82b688dd-563c-434e-9958-7d70ec09196a",
   "metadata": {},
   "outputs": [],
   "source": []
  },
  {
   "cell_type": "code",
   "execution_count": null,
   "id": "732e515d-4949-41d7-a014-41f3a427269e",
   "metadata": {},
   "outputs": [],
   "source": []
  },
  {
   "cell_type": "code",
   "execution_count": null,
   "id": "f5e5419d-290a-4587-8668-fa71e79043d3",
   "metadata": {},
   "outputs": [],
   "source": []
  },
  {
   "cell_type": "code",
   "execution_count": 28,
   "id": "16498149-4941-4eb2-ad5b-18ecac2a9939",
   "metadata": {},
   "outputs": [
    {
     "name": "stdout",
     "output_type": "stream",
     "text": [
      "Requirement already satisfied: nltk in /opt/conda/lib/python3.9/site-packages (3.6.5)\n",
      "Requirement already satisfied: regex>=2021.8.3 in /opt/conda/lib/python3.9/site-packages (from nltk) (2021.9.30)\n",
      "Requirement already satisfied: joblib in /opt/conda/lib/python3.9/site-packages (from nltk) (1.0.1)\n",
      "Requirement already satisfied: tqdm in /opt/conda/lib/python3.9/site-packages (from nltk) (4.62.3)\n",
      "Requirement already satisfied: click in /opt/conda/lib/python3.9/site-packages (from nltk) (8.0.1)\n",
      "\u001b[33mWARNING: You are using pip version 21.2.4; however, version 21.3.1 is available.\n",
      "You should consider upgrading via the '/opt/conda/bin/python -m pip install --upgrade pip' command.\u001b[0m\n"
     ]
    }
   ],
   "source": [
    "!pip install nltk"
   ]
  },
  {
   "cell_type": "code",
   "execution_count": 29,
   "id": "7a78025d-4abd-41d5-a8d6-a87d1ec5a3a5",
   "metadata": {},
   "outputs": [],
   "source": [
    "import numpy as np\n",
    "import nltk\n",
    "from nltk.corpus import reuters "
   ]
  },
  {
   "cell_type": "code",
   "execution_count": 43,
   "id": "e5cd57f0-4ae2-4cbd-9647-c84e2981b56d",
   "metadata": {},
   "outputs": [],
   "source": [
    "cat_8 = ['acq', 'earn', 'grain', 'interest', 'money-fx']\n",
    "\n",
    "def load_reuters(data_dir = None):\n",
    "    nltk.download('reuters')\n",
    "    \n",
    "    dic_map = {}\n",
    "    for i in range(len(cat_8)):\n",
    "        dic_map[cat_8[i]] = i\n",
    "\n",
    "    documents = reuters.fileids()\n",
    "    train_docs = list(filter(lambda doc: doc.startswith(\"train\"), documents));\n",
    "    test_docs = list(filter(lambda doc: doc.startswith(\"test\"), documents));\n",
    "    \n",
    "    def _get_data(docs):\n",
    "        docs_text = []\n",
    "        docs_label = []\n",
    "        for index, i in  enumerate(docs):\n",
    "            docs_text.append(reuters.raw(fileids=[i]))\n",
    "            docs_label.append(reuters.categories(i))\n",
    "\n",
    "        X = []\n",
    "        y = []\n",
    "        for cat in cat_8:\n",
    "            count = 0\n",
    "            for i in range(len(docs_label)): \n",
    "                if cat in docs_label[i]:\n",
    "                    if len(docs_label[i]) > 1:\n",
    "                        double = 0\n",
    "                        for label in docs_label[i]:\n",
    "                            if label in cat_8:\n",
    "                                double += 1\n",
    "                        if double > 1:\n",
    "                            continue;\n",
    "                    count += 1\n",
    "                    X.append(docs_text[i])\n",
    "                    y.append(cat)\n",
    "        return X, y\n",
    "    \n",
    "    X_train, y_train = _get_data(train_docs)\n",
    "    X_test, y_test = _get_data(test_docs)\n",
    "    \n",
    "    X = np.concatenate([X_train, X_test])\n",
    "    y = np.concatenate([y_train, y_test])\n",
    "    y = [dic_map[i] for i in y]\n",
    "    \n",
    "    return X, y"
   ]
  },
  {
   "cell_type": "code",
   "execution_count": 44,
   "id": "2768f101-08ff-4856-9210-a13661c747e9",
   "metadata": {},
   "outputs": [
    {
     "name": "stderr",
     "output_type": "stream",
     "text": [
      "[nltk_data] Downloading package reuters to /home/jovyan/nltk_data...\n",
      "[nltk_data]   Package reuters is already up-to-date!\n"
     ]
    }
   ],
   "source": [
    "X, y = load_reuters()"
   ]
  },
  {
   "cell_type": "code",
   "execution_count": 53,
   "id": "2e8ab10b-c02d-4146-8aa4-f5fceb5a9808",
   "metadata": {},
   "outputs": [
    {
     "name": "stdout",
     "output_type": "stream",
     "text": [
      "Woolworth Holdings says it bidding 244 mln stg for Superdrug stores\n",
      "\n",
      "  Woolworth Holdings says it bidding 244 mln stg for Superdrug stores\n",
      "  \n",
      "\n",
      "\n"
     ]
    }
   ],
   "source": [
    "print(X[70])"
   ]
  },
  {
   "cell_type": "code",
   "execution_count": 45,
   "id": "d3dda864-3e54-4505-84fb-b908e8160623",
   "metadata": {},
   "outputs": [
    {
     "data": {
      "text/plain": [
       "7694"
      ]
     },
     "execution_count": 45,
     "metadata": {},
     "output_type": "execute_result"
    }
   ],
   "source": [
    "len(y)"
   ]
  },
  {
   "cell_type": "code",
   "execution_count": 46,
   "id": "16cb4248-a123-415d-89fa-25da714700ad",
   "metadata": {},
   "outputs": [
    {
     "data": {
      "text/plain": [
       "Counter({0: 2347, 1: 3945, 2: 578, 3: 294, 4: 530})"
      ]
     },
     "execution_count": 46,
     "metadata": {},
     "output_type": "execute_result"
    }
   ],
   "source": [
    "from  collections import Counter\n",
    "Counter(y)"
   ]
  },
  {
   "cell_type": "code",
   "execution_count": 34,
   "id": "12e1a4dc-13f9-463b-9a64-997f48c384b2",
   "metadata": {},
   "outputs": [
    {
     "data": {
      "text/plain": [
       "Counter({0: 2319, 1: 458, 2: 3930, 3: 527, 4: 290, 5: 499, 6: 166, 7: 425})"
      ]
     },
     "execution_count": 34,
     "metadata": {},
     "output_type": "execute_result"
    }
   ],
   "source": [
    "from  collections import Counter\n",
    "Counter(y)"
   ]
  },
  {
   "cell_type": "code",
   "execution_count": 25,
   "id": "c66385dd-6400-41e1-ace4-316f2c92b292",
   "metadata": {},
   "outputs": [],
   "source": [
    "import numpy as np\n",
    "import pandas as pd\n",
    "from sklearn.utils import shuffle"
   ]
  },
  {
   "cell_type": "code",
   "execution_count": 26,
   "id": "4f865ac2-acd9-4014-9cf8-6d109f197e05",
   "metadata": {},
   "outputs": [],
   "source": [
    "data = pd.read_csv(\"./datasets/train.csv\")"
   ]
  },
  {
   "cell_type": "code",
   "execution_count": 27,
   "id": "b3832734-8f11-4168-8817-cc0285a3c795",
   "metadata": {},
   "outputs": [
    {
     "data": {
      "text/plain": [
       "159571"
      ]
     },
     "execution_count": 27,
     "metadata": {},
     "output_type": "execute_result"
    }
   ],
   "source": [
    "len(data)"
   ]
  },
  {
   "cell_type": "code",
   "execution_count": 4,
   "id": "75fc5cf6-1b87-485f-85ff-20fd9973bfd3",
   "metadata": {},
   "outputs": [],
   "source": [
    " doc_labels = (data['toxic'] == 1) | (data['severe_toxic']==1) | (data['obscene']==1) | (data['threat']==1) | (data['insult']==1) | (data['identity_hate']==1)"
   ]
  },
  {
   "cell_type": "code",
   "execution_count": 5,
   "id": "65c9547f-4408-4953-a017-3de14cef21a8",
   "metadata": {},
   "outputs": [
    {
     "data": {
      "text/plain": [
       "0         False\n",
       "1         False\n",
       "2         False\n",
       "3         False\n",
       "4         False\n",
       "          ...  \n",
       "159566    False\n",
       "159567    False\n",
       "159568    False\n",
       "159569    False\n",
       "159570    False\n",
       "Length: 159571, dtype: bool"
      ]
     },
     "execution_count": 5,
     "metadata": {},
     "output_type": "execute_result"
    }
   ],
   "source": [
    "doc_labels"
   ]
  },
  {
   "cell_type": "code",
   "execution_count": 18,
   "id": "8c617ae1-be2a-4e23-bad1-8bc5f179092c",
   "metadata": {},
   "outputs": [],
   "source": [
    "df = pd.DataFrame ({'id': data.id, 'comment_text': data.comment_text, 'label' : doc_labels.map({True: 1, False: 0})})\n",
    "df = df.sample(frac=1, random_state=7).reset_index(drop=True)\n",
    "df_sort = df.sort_values('label')\n",
    "df_sort = df_sort.iloc[-50000: , :]"
   ]
  },
  {
   "cell_type": "code",
   "execution_count": 20,
   "id": "d4a7a538-1f66-42f0-ab63-31cd760938a0",
   "metadata": {},
   "outputs": [],
   "source": [
    "import re\n",
    "def remove_IP(text):\n",
    "    url = re.compile(r'[0-9]+(?:\\.[0-9]+){3}')\n",
    "    return url.sub(r'',text)"
   ]
  },
  {
   "cell_type": "code",
   "execution_count": 21,
   "id": "1edfb6da-71d5-456d-a0d6-3284b8c5ff3c",
   "metadata": {},
   "outputs": [
    {
     "ename": "NameError",
     "evalue": "name 'df_sort' is not defined",
     "output_type": "error",
     "traceback": [
      "\u001b[0;31m---------------------------------------------------------------------------\u001b[0m",
      "\u001b[0;31mNameError\u001b[0m                                 Traceback (most recent call last)",
      "\u001b[0;32m/tmp/ipykernel_246/830490958.py\u001b[0m in \u001b[0;36m<module>\u001b[0;34m\u001b[0m\n\u001b[0;32m----> 1\u001b[0;31m \u001b[0mdocs\u001b[0m \u001b[0;34m=\u001b[0m \u001b[0mdf_sort\u001b[0m\u001b[0;34m[\u001b[0m\u001b[0;34m'comment_text'\u001b[0m\u001b[0;34m]\u001b[0m\u001b[0;34m\u001b[0m\u001b[0;34m\u001b[0m\u001b[0m\n\u001b[0m\u001b[1;32m      2\u001b[0m \u001b[0mdocs_label\u001b[0m \u001b[0;34m=\u001b[0m \u001b[0mdf_sort\u001b[0m\u001b[0;34m[\u001b[0m\u001b[0;34m'label'\u001b[0m\u001b[0;34m]\u001b[0m\u001b[0;34m\u001b[0m\u001b[0;34m\u001b[0m\u001b[0m\n",
      "\u001b[0;31mNameError\u001b[0m: name 'df_sort' is not defined"
     ]
    }
   ],
   "source": [
    "docs = df_sort['comment_text']\n",
    "docs_label = df_sort['label']"
   ]
  },
  {
   "cell_type": "code",
   "execution_count": 22,
   "id": "a2a38e33-469a-46a4-bfab-33de88e2d3a2",
   "metadata": {},
   "outputs": [
    {
     "ename": "NameError",
     "evalue": "name 'docs' is not defined",
     "output_type": "error",
     "traceback": [
      "\u001b[0;31m---------------------------------------------------------------------------\u001b[0m",
      "\u001b[0;31mNameError\u001b[0m                                 Traceback (most recent call last)",
      "\u001b[0;32m/tmp/ipykernel_246/3964600744.py\u001b[0m in \u001b[0;36m<module>\u001b[0;34m\u001b[0m\n\u001b[0;32m----> 1\u001b[0;31m \u001b[0mdocs\u001b[0m\u001b[0;34m,\u001b[0m \u001b[0mdocs_label\u001b[0m \u001b[0;34m=\u001b[0m \u001b[0mshuffle\u001b[0m\u001b[0;34m(\u001b[0m\u001b[0mdocs\u001b[0m\u001b[0;34m,\u001b[0m \u001b[0mdocs_label\u001b[0m\u001b[0;34m,\u001b[0m \u001b[0mrandom_state\u001b[0m\u001b[0;34m=\u001b[0m\u001b[0;36m42\u001b[0m\u001b[0;34m)\u001b[0m\u001b[0;34m\u001b[0m\u001b[0;34m\u001b[0m\u001b[0m\n\u001b[0m",
      "\u001b[0;31mNameError\u001b[0m: name 'docs' is not defined"
     ]
    }
   ],
   "source": [
    "docs, docs_label = shuffle(docs, docs_label, random_state=42)"
   ]
  },
  {
   "cell_type": "code",
   "execution_count": 21,
   "id": "f7913bdb-5c93-4bbe-bdaa-f667e845860d",
   "metadata": {},
   "outputs": [],
   "source": [
    "from  collections import Counter"
   ]
  },
  {
   "cell_type": "code",
   "execution_count": 24,
   "id": "bb18a7fa-5a5c-4d20-bd5b-1639dc591b16",
   "metadata": {},
   "outputs": [
    {
     "data": {
      "text/plain": [
       "Counter({0: 33775, 1: 16225})"
      ]
     },
     "execution_count": 24,
     "metadata": {},
     "output_type": "execute_result"
    }
   ],
   "source": [
    "Counter(docs_label)"
   ]
  },
  {
   "cell_type": "code",
   "execution_count": 22,
   "id": "5f4edd15-2f2b-4634-9a06-75b25bb68b76",
   "metadata": {},
   "outputs": [],
   "source": [
    "l = docs.tolist()"
   ]
  },
  {
   "cell_type": "code",
   "execution_count": null,
   "id": "1f26b6cb-e7cc-4569-b643-761c9ba9a833",
   "metadata": {},
   "outputs": [],
   "source": [
    "[0-9]+(?:\\.[0-9]+){3}"
   ]
  },
  {
   "cell_type": "code",
   "execution_count": null,
   "id": "361ea5f0-aa01-4e87-bc51-c176b29e1e42",
   "metadata": {},
   "outputs": [],
   "source": []
  },
  {
   "cell_type": "code",
   "execution_count": null,
   "id": "9417c951-7003-4ce8-8dcc-812f752b7cae",
   "metadata": {},
   "outputs": [],
   "source": []
  },
  {
   "cell_type": "code",
   "execution_count": 23,
   "id": "2e7fa190-8525-4484-bea7-2eff20db0789",
   "metadata": {},
   "outputs": [],
   "source": [
    "text = \"Please note this is a mobile proxy IP address, and I believe it is fed through BIS, therefore it could potentially have half of Europe's BlackBerry connections through it . Please display a warning as necessary. 93.186.23.238\""
   ]
  },
  {
   "cell_type": "code",
   "execution_count": 24,
   "id": "4b77fec2-8569-4b0f-a667-a99c281d35e8",
   "metadata": {},
   "outputs": [
    {
     "data": {
      "text/plain": [
       "\"Please note this is a mobile proxy IP address, and I believe it is fed through BIS, therefore it could potentially have half of Europe's BlackBerry connections through it . Please display a warning as necessary. \""
      ]
     },
     "execution_count": 24,
     "metadata": {},
     "output_type": "execute_result"
    }
   ],
   "source": [
    "remove_IP(text)"
   ]
  },
  {
   "cell_type": "code",
   "execution_count": 23,
   "id": "0c117516-a5b2-4358-95e1-336cfbc836d9",
   "metadata": {},
   "outputs": [
    {
     "name": "stdout",
     "output_type": "stream",
     "text": [
      "Numbering tables \n",
      "\n",
      "The problem with manually numbering lists of bridges is that new bridges are constructed all the time.  There are several long bridges that are under constructions that will force a renumbering of the entire list.  Your method, while a little less confusing, takes more work to maintain.  Are you willing to take on maintaining the re-numbering whenever someone adds a missing bridge?  I'm not sure it is worth the effort.\n",
      "-----\n",
      "\"\n",
      "\n",
      " Oooo... \n",
      "\n",
      "Mr Administrator thinks he's all tough with his \"\"ZOMG-I-BLOCKS-YOU\"\" powers.\"\n",
      "-----\n",
      "Urdu Wikipedia \n",
      "\n",
      "Asalam-o-Alikum\n",
      "\n",
      "I request you to please contribute to Urdu wikipedia. We are trying hard to build this wiki. Current article count is 617. Your help in any way would be appreciated.(even if you understand basic level of urdu)\n",
      "-----\n",
      "Please note this is a mobile proxy IP address, and I believe it is fed through BIS, therefore it could potentially have half of Europe's BlackBerry connections through it . Please display a warning as necessary. 93.186.23.238\n",
      "-----\n",
      "hey retard. \n",
      "\n",
      "You don't get it. those two put warnings on my page for vandalising User:tommy2010/vandalise. they can putt odd things on my page, i can put weird things on theirs.\n",
      "-----\n",
      "Thanks for being an ass when I tried to help.  CFHS grad.\n",
      "-----\n",
      "My opinion. \n",
      "\n",
      "So, we have different POVs. Some of us are from countries that had fought with AK and unlike them. But that POV is not the only POV. We should compromise and consensus. Collaboration and attrocities are in article. Do not edit war over inclusion in lead, it is an undue place for that. Alden or  talk with Alden\n",
      "-----\n",
      "Resistance is a Killer App \n",
      "\n",
      "Many people, myself included, believe Resistance: Fall of Man is a killer application and does excel in many ways. These people haven't soley, but mainly, bought this system to play this game. If you will kindly go to the review of this game at ign.com you will see that they, too, believe it to be the first Playstation 3 killer application, and as you should know this is a respectable source of info. Bitch. Remember to go to the review of the game at ign.com. Bitch.\n",
      "-----\n",
      "lebron james got a triple double in the all star game in 2011, so jordan is the first not the only.\n",
      "-----\n",
      "If you dislike Mexicans, click these links\n",
      "-----\n"
     ]
    }
   ],
   "source": [
    "for i in range(10):\n",
    "    print(l[i])\n",
    "    print('-----')"
   ]
  },
  {
   "cell_type": "code",
   "execution_count": null,
   "id": "e1fab41f-3eae-4e7b-ab53-b62825a3ea20",
   "metadata": {},
   "outputs": [],
   "source": []
  },
  {
   "cell_type": "code",
   "execution_count": null,
   "id": "07ef44ba-f53d-41a3-84f9-2663c2b60188",
   "metadata": {},
   "outputs": [],
   "source": []
  },
  {
   "cell_type": "code",
   "execution_count": null,
   "id": "039b1438-3e12-4267-abfe-78da70be402d",
   "metadata": {},
   "outputs": [],
   "source": []
  },
  {
   "cell_type": "code",
   "execution_count": null,
   "id": "61d07fce-e5fa-4322-b866-9aca03b87d24",
   "metadata": {},
   "outputs": [],
   "source": []
  },
  {
   "cell_type": "code",
   "execution_count": null,
   "id": "6703f3d8-b7f6-4ec0-83f4-20f8b40b9fa2",
   "metadata": {},
   "outputs": [],
   "source": []
  },
  {
   "cell_type": "code",
   "execution_count": 59,
   "id": "ef69e001-c754-43fc-ade0-88abb9850428",
   "metadata": {},
   "outputs": [],
   "source": [
    "from sklearn.utils import shuffle\n",
    "import pandas as pd\n",
    "import re\n",
    "import numpy as np\n",
    "import os\n",
    "import unicodedata\n",
    "from sklearn.datasets import fetch_20newsgroups"
   ]
  },
  {
   "cell_type": "code",
   "execution_count": 64,
   "id": "29c004ee-1905-4345-a826-a5e5d2b86fcf",
   "metadata": {},
   "outputs": [],
   "source": [
    "def _load_20news_groups():\n",
    "    newsgroups_docs = fetch_20newsgroups(subset='all', shuffle=True, random_state=1)\n",
    "    \n",
    "    X = newsgroups_docs.data\n",
    "    y = newsgroups_docs.target\n",
    "    return X, y"
   ]
  },
  {
   "cell_type": "code",
   "execution_count": 65,
   "id": "907a6752-35cb-4ce7-8a21-43e8b8bd8ea2",
   "metadata": {},
   "outputs": [],
   "source": [
    "def remove_URL(text):\n",
    "    url = re.compile(r'https?://\\S+|www\\.\\S+')\n",
    "    return url.sub(r'',text)\n",
    "\n",
    "def remove_email(text):\n",
    "    url = re.compile(r'([A-Za-z0-9]*\\.)*[A-Za-z0-9]*@([A-Za-z]*\\.?[A-Za-z0-9]*)*')\n",
    "    return url.sub(r'',text)"
   ]
  },
  {
   "cell_type": "code",
   "execution_count": 66,
   "id": "ce82faf0-7076-47f0-9057-01fd963b5c11",
   "metadata": {},
   "outputs": [],
   "source": [
    "X, y = _load_20news_groups()"
   ]
  },
  {
   "cell_type": "code",
   "execution_count": 69,
   "id": "41585c30-a082-4e24-ae61-17433be74fa3",
   "metadata": {},
   "outputs": [],
   "source": [
    "for i in range(len(X)):\n",
    "            u = unicodedata.normalize('NFKD', X[i]).encode('ascii','ignore')\n",
    "            for character in [b\"\\n\", b\"|\", b\">\", b\"<\", b\"-\", b\"+\", b\"^\", b\"[\", b\"]\", b\"#\", b\"\\t\", b\"\\r\", b\"`\", b'_']:\n",
    "                u = u.replace(character, b\" \")\n",
    "                s = str(u, 'utf8')\n",
    "                s = remove_URL(s)\n",
    "                s = remove_email(s)\n",
    "                X[i] = s"
   ]
  },
  {
   "cell_type": "code",
   "execution_count": 71,
   "id": "9af2d126-1c6e-410c-939f-3aade5197eab",
   "metadata": {},
   "outputs": [
    {
     "data": {
      "text/plain": [
       "'From:  (Paul Harvey) Subject: Re: Clarification of personal position Organization: The Duck Pond public unix:  1 408 249 9630, log in as \\'guest\\'. Lines: 26  In article      (Paul Hudson Jr) writes:  In article      (Darius Lecointe) writes:   If it were a sin to violate Sunday no one could   ever be forgiven for that for Jesus never kept Sunday holy.  He only   recognized one day of the seven as holy.  Jesus also recognized other holy days, like the Passover.  Acts 15 says   that no more should be layed on the Gentiles than that which is necessary.  The sabbath is not in the list, nor do any of the epistles instruct people  to keep the 7th day, while Christians were living among people who did not  keep the 7th day.  It looks like that would have been a problem.  Instead, we have Scriptures telling us that all days can be esteemed alike  (Romans 14:5) and that no man should judge us in regard to what kind of  food we eat, Jewish holy days we keep, or  in regard to the sabbath. (Col. 2.)   The   question is \"On what authority do we proclaim that the requirements of the   fourth commandment are no longer relevant to modern Christians?\"  I don\\'t think that the Sabbath, or any other command of the law is totally  irrelevant to modern Christians, but what about Collosions 2, where it says  that we are not to be judged in regard to the keeping of the sabbath?  Why are you running away from the word of Jesus? Has somebody superseded the word of Jesus? If you don\\'t follow the morality of the Ten Commandments and the Law and the Prophets and the word of Jesus, whose morality do you follow? '"
      ]
     },
     "execution_count": 71,
     "metadata": {},
     "output_type": "execute_result"
    }
   ],
   "source": [
    "X[0]"
   ]
  },
  {
   "cell_type": "code",
   "execution_count": 21,
   "id": "3f6c1e45-6e16-463a-b540-f1f4ff22a01d",
   "metadata": {},
   "outputs": [],
   "source": [
    "from sklearn.datasets import fetch_20newsgroups\n",
    "newsgroups_docs = fetch_20newsgroups(subset='all', shuffle=True, random_state=1)"
   ]
  },
  {
   "cell_type": "code",
   "execution_count": 22,
   "id": "03550ad7-afbe-49c7-9a9f-a1c2bbbe78ba",
   "metadata": {},
   "outputs": [],
   "source": [
    "X = newsgroups_docs.data\n",
    "y = newsgroups_docs.target"
   ]
  },
  {
   "cell_type": "code",
   "execution_count": 27,
   "id": "726dcde2-27fc-41df-be23-8287eede0d44",
   "metadata": {},
   "outputs": [],
   "source": [
    "import unicodedata"
   ]
  },
  {
   "cell_type": "code",
   "execution_count": 29,
   "id": "096a0a21-4f50-47a4-85d4-7df41e1809a8",
   "metadata": {},
   "outputs": [],
   "source": [
    "u = unicodedata.normalize('NFKD', X[0]).encode('ascii','ignore')"
   ]
  },
  {
   "cell_type": "code",
   "execution_count": null,
   "id": "33221b1e-c643-428f-b898-81c7e315cbb9",
   "metadata": {},
   "outputs": [],
   "source": []
  },
  {
   "cell_type": "code",
   "execution_count": 37,
   "id": "bcb7e516-786e-4538-9878-48abda098037",
   "metadata": {},
   "outputs": [],
   "source": [
    "for character in [b\"\\n\", b\"|\", b\">\", b\"<\", b\"-\", b\"+\", b\"^\", b\"[\", b\"]\", b\"#\", b\"\\t\", b\"\\r\", b\"`\", b'_']:\n",
    "    u = u.replace(character, b\" \")"
   ]
  },
  {
   "cell_type": "code",
   "execution_count": 56,
   "id": "c2dd567b-f200-49c9-8ebb-f5c2321189b3",
   "metadata": {},
   "outputs": [],
   "source": [
    "import re\n",
    "# to remove URLs\n",
    "def remove_URL(text):\n",
    "    url = re.compile(r'https?://\\S+|www\\.\\S+')\n",
    "    return url.sub(r'',text)\n",
    "\n",
    "def remove_email(text):\n",
    "    url = re.compile(r'([A-Za-z0-9]*\\.)*[A-Za-z0-9]*@([A-Za-z]*\\.?[A-Za-z0-9]*)*')\n",
    "    return url.sub(r'',text)\n",
    "\n",
    "# to remove html tags\n",
    "def remove_html(text):\n",
    "    html=re.compile(r'<.*?>')\n",
    "    return html.sub(r'',text)"
   ]
  },
  {
   "cell_type": "code",
   "execution_count": 57,
   "id": "d5c97328-1999-4131-a76f-3cb94ead2668",
   "metadata": {},
   "outputs": [
    {
     "data": {
      "text/plain": [
       "'From: pharvey@quack.kfu.com (Paul Harvey) Subject: Re: Clarification of personal position Organization: The Duck Pond public unix:  1 408 249 9630, log in as \\'guest\\'. Lines: 26  In article  C5rBHt.Fw4@athena.cs.uga.edu   hudson@athena.cs.uga.edu (Paul Hudson Jr) writes:  In article  C5MuIw.AqC@mailer.cc.fsu.edu   dlecoint@garnet.acns.fsu.edu (Darius Lecointe) writes:   If it were a sin to violate Sunday no one could   ever be forgiven for that for Jesus never kept Sunday holy.  He only   recognized one day of the seven as holy.  Jesus also recognized other holy days, like the Passover.  Acts 15 says   that no more should be layed on the Gentiles than that which is necessary.  The sabbath is not in the list, nor do any of the epistles instruct people  to keep the 7th day, while Christians were living among people who did not  keep the 7th day.  It looks like that would have been a problem.  Instead, we have Scriptures telling us that all days can be esteemed alike  (Romans 14:5) and that no man should judge us in regard to what kind of  food we eat, Jewish holy days we keep, or  in regard to the sabbath. (Col. 2.)   The   question is \"On what authority do we proclaim that the requirements of the   fourth commandment are no longer relevant to modern Christians?\"  I don\\'t think that the Sabbath, or any other command of the law is totally  irrelevant to modern Christians, but what about Collosions 2, where it says  that we are not to be judged in regard to the keeping of the sabbath?  Why are you running away from the word of Jesus? Has somebody superseded the word of Jesus? If you don\\'t follow the morality of the Ten Commandments and the Law and the Prophets and the word of Jesus, whose morality do you follow? '"
      ]
     },
     "execution_count": 57,
     "metadata": {},
     "output_type": "execute_result"
    }
   ],
   "source": [
    "s = str(u, 'utf8')\n",
    "s"
   ]
  },
  {
   "cell_type": "code",
   "execution_count": 58,
   "id": "d1b42927-5f58-4d1c-894d-50d6f9033a72",
   "metadata": {},
   "outputs": [
    {
     "data": {
      "text/plain": [
       "'From:  (Paul Harvey) Subject: Re: Clarification of personal position Organization: The Duck Pond public unix:  1 408 249 9630, log in as \\'guest\\'. Lines: 26  In article      (Paul Hudson Jr) writes:  In article      (Darius Lecointe) writes:   If it were a sin to violate Sunday no one could   ever be forgiven for that for Jesus never kept Sunday holy.  He only   recognized one day of the seven as holy.  Jesus also recognized other holy days, like the Passover.  Acts 15 says   that no more should be layed on the Gentiles than that which is necessary.  The sabbath is not in the list, nor do any of the epistles instruct people  to keep the 7th day, while Christians were living among people who did not  keep the 7th day.  It looks like that would have been a problem.  Instead, we have Scriptures telling us that all days can be esteemed alike  (Romans 14:5) and that no man should judge us in regard to what kind of  food we eat, Jewish holy days we keep, or  in regard to the sabbath. (Col. 2.)   The   question is \"On what authority do we proclaim that the requirements of the   fourth commandment are no longer relevant to modern Christians?\"  I don\\'t think that the Sabbath, or any other command of the law is totally  irrelevant to modern Christians, but what about Collosions 2, where it says  that we are not to be judged in regard to the keeping of the sabbath?  Why are you running away from the word of Jesus? Has somebody superseded the word of Jesus? If you don\\'t follow the morality of the Ten Commandments and the Law and the Prophets and the word of Jesus, whose morality do you follow? '"
      ]
     },
     "execution_count": 58,
     "metadata": {},
     "output_type": "execute_result"
    }
   ],
   "source": [
    "remove_email(s)"
   ]
  },
  {
   "cell_type": "code",
   "execution_count": null,
   "id": "65566404-7852-44f8-b6d1-1bce71f15091",
   "metadata": {},
   "outputs": [],
   "source": []
  },
  {
   "cell_type": "code",
   "execution_count": null,
   "id": "daff1840-097f-459d-8483-41532cd70731",
   "metadata": {},
   "outputs": [],
   "source": []
  },
  {
   "cell_type": "code",
   "execution_count": null,
   "id": "0973caea-6a3d-4614-b729-d6b694bfbc0e",
   "metadata": {},
   "outputs": [],
   "source": []
  },
  {
   "cell_type": "code",
   "execution_count": null,
   "id": "9cda774f-5294-47eb-bcd6-09b7ccf42734",
   "metadata": {},
   "outputs": [],
   "source": []
  },
  {
   "cell_type": "code",
   "execution_count": null,
   "id": "7f05deb9-c71d-4e38-9301-34fda076408f",
   "metadata": {},
   "outputs": [],
   "source": []
  },
  {
   "cell_type": "code",
   "execution_count": 2,
   "id": "a0e70e95-7181-4baa-b909-036b3a049f18",
   "metadata": {},
   "outputs": [],
   "source": [
    "import pandas as pd\n",
    "import re\n",
    "import numpy as np\n",
    "import os"
   ]
  },
  {
   "cell_type": "code",
   "execution_count": 3,
   "id": "0f7e042d-0fa0-4c70-b521-c2864f289fc5",
   "metadata": {},
   "outputs": [],
   "source": [
    "def _load_app_store(data_dir = './dataset.csv'):\n",
    "    df = pd.read_csv(data_dir)\n",
    "    \n",
    "    df_en = df[(df.lang == 'en') & (df.source == 'app_review') & ~df['text'].isna()]\n",
    "    \n",
    "    X = df_en['text'].to_list()\n",
    "    y = df_en['category'].map({'inq': 0, 'pbr': 1, 'irr': 2}).to_list()\n",
    "    \n",
    "    return X, y"
   ]
  },
  {
   "cell_type": "code",
   "execution_count": 4,
   "id": "7a8d2313-51ce-4579-9be9-127b3e3fa8e9",
   "metadata": {},
   "outputs": [],
   "source": [
    "X, y = _load_app_store()"
   ]
  },
  {
   "cell_type": "code",
   "execution_count": null,
   "id": "e64644f9-9642-4eaa-81ad-213bd3f15504",
   "metadata": {},
   "outputs": [],
   "source": []
  },
  {
   "cell_type": "code",
   "execution_count": null,
   "id": "7924f185-fae5-4b3a-9081-055e0bc8be26",
   "metadata": {},
   "outputs": [],
   "source": []
  },
  {
   "cell_type": "code",
   "execution_count": 1,
   "id": "393f44f6-a0c4-489f-a358-08a06097351c",
   "metadata": {},
   "outputs": [],
   "source": [
    "## IMDB"
   ]
  },
  {
   "cell_type": "code",
   "execution_count": 11,
   "id": "01f5faf8-18d4-4ba6-8217-992f79995b1b",
   "metadata": {},
   "outputs": [],
   "source": [
    "import pandas as pd\n",
    "import re\n",
    "import numpy as np"
   ]
  },
  {
   "cell_type": "code",
   "execution_count": 12,
   "id": "32163cdc-9bee-4e2d-8731-39dce9abb085",
   "metadata": {},
   "outputs": [],
   "source": [
    "import os\n",
    "\n",
    "def _load_imdb(data_dir = '/home/jovyan/Active Learning/data/aclImdb/'):\n",
    "    X = []\n",
    "    y = []\n",
    "    for partition in [\"train\", \"test\"]:\n",
    "        for category  in [\"pos\", \"neg\"]:\n",
    "            lable = 0 if category  == \"neg\" else 1\n",
    "\n",
    "            path = os.path.join(data_dir, partition, category )\n",
    "            files = os.listdir(path)\n",
    "            for f_name in files:\n",
    "                with open(os.path.join(path, f_name), \"r\") as f:\n",
    "                    review = f.read()\n",
    "                    X.append(review)\n",
    "                    y.append(lable)\n",
    "\n",
    "    return X, y\n",
    "\n",
    "X, y = _load_imdb()"
   ]
  },
  {
   "cell_type": "code",
   "execution_count": 13,
   "id": "605a65d4-2a08-45c7-ab83-d60a40b9dc7a",
   "metadata": {},
   "outputs": [],
   "source": [
    "# to remove URLs\n",
    "def remove_URL(text):\n",
    "    url = re.compile(r'https?://\\S+|www\\.\\S+')\n",
    "    return url.sub(r'',text)\n",
    "\n",
    "# to remove html tags\n",
    "def remove_html(text):\n",
    "    html=re.compile(r'<.*?>')\n",
    "    return html.sub(r'',text)"
   ]
  },
  {
   "cell_type": "code",
   "execution_count": 14,
   "id": "e1353997-dc2f-41d6-8123-8d5897a9781c",
   "metadata": {},
   "outputs": [
    {
     "data": {
      "text/html": [
       "<div>\n",
       "<style scoped>\n",
       "    .dataframe tbody tr th:only-of-type {\n",
       "        vertical-align: middle;\n",
       "    }\n",
       "\n",
       "    .dataframe tbody tr th {\n",
       "        vertical-align: top;\n",
       "    }\n",
       "\n",
       "    .dataframe thead th {\n",
       "        text-align: right;\n",
       "    }\n",
       "</style>\n",
       "<table border=\"1\" class=\"dataframe\">\n",
       "  <thead>\n",
       "    <tr style=\"text-align: right;\">\n",
       "      <th></th>\n",
       "      <th>0</th>\n",
       "    </tr>\n",
       "  </thead>\n",
       "  <tbody>\n",
       "    <tr>\n",
       "      <th>0</th>\n",
       "      <td>Although I have not seen this mini-series in o...</td>\n",
       "    </tr>\n",
       "    <tr>\n",
       "      <th>1</th>\n",
       "      <td>In terms of visual beauty this movie is outsta...</td>\n",
       "    </tr>\n",
       "    <tr>\n",
       "      <th>2</th>\n",
       "      <td>Meatball Machine is an amazing splatter film, ...</td>\n",
       "    </tr>\n",
       "    <tr>\n",
       "      <th>3</th>\n",
       "      <td>I have watched this movie three times. The las...</td>\n",
       "    </tr>\n",
       "    <tr>\n",
       "      <th>4</th>\n",
       "      <td>Okay, so the first few seasons took a while to...</td>\n",
       "    </tr>\n",
       "  </tbody>\n",
       "</table>\n",
       "</div>"
      ],
      "text/plain": [
       "                                                   0\n",
       "0  Although I have not seen this mini-series in o...\n",
       "1  In terms of visual beauty this movie is outsta...\n",
       "2  Meatball Machine is an amazing splatter film, ...\n",
       "3  I have watched this movie three times. The las...\n",
       "4  Okay, so the first few seasons took a while to..."
      ]
     },
     "execution_count": 14,
     "metadata": {},
     "output_type": "execute_result"
    }
   ],
   "source": [
    "df = pd.DataFrame(data=(X))\n",
    "df.head()"
   ]
  },
  {
   "cell_type": "code",
   "execution_count": 15,
   "id": "2e0fe6e8-fcc9-441e-b7a0-37983b44de67",
   "metadata": {},
   "outputs": [],
   "source": [
    "df[0] = df[0].apply(remove_URL)\n",
    "df[0] = df[0].apply(remove_html)"
   ]
  },
  {
   "cell_type": "code",
   "execution_count": 16,
   "id": "ed73cca3-17db-47fa-8afd-ba2b4e3a3377",
   "metadata": {},
   "outputs": [],
   "source": [
    "np.save('imdb_X', df[0].tolist())"
   ]
  },
  {
   "cell_type": "code",
   "execution_count": 17,
   "id": "c69938ad-7ddc-4e6d-a1ca-58a91bf37cb7",
   "metadata": {},
   "outputs": [],
   "source": [
    "np.save('imdb_y', y)"
   ]
  },
  {
   "cell_type": "code",
   "execution_count": 19,
   "id": "744d8638-52c8-4e82-be6b-466eb1e2574a",
   "metadata": {},
   "outputs": [
    {
     "data": {
      "text/plain": [
       "True"
      ]
     },
     "execution_count": 19,
     "metadata": {},
     "output_type": "execute_result"
    }
   ],
   "source": [
    "import os.path\n",
    "os.path.isfile('./imdb_X.npy') "
   ]
  }
 ],
 "metadata": {
  "kernelspec": {
   "display_name": "Python 3 (ipykernel)",
   "language": "python",
   "name": "python3"
  },
  "language_info": {
   "codemirror_mode": {
    "name": "ipython",
    "version": 3
   },
   "file_extension": ".py",
   "mimetype": "text/x-python",
   "name": "python",
   "nbconvert_exporter": "python",
   "pygments_lexer": "ipython3",
   "version": "3.9.7"
  }
 },
 "nbformat": 4,
 "nbformat_minor": 5
}
