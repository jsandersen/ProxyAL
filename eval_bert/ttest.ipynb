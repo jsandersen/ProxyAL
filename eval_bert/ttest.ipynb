{
 "cells": [
  {
   "cell_type": "code",
   "execution_count": 1,
   "id": "c95bfa71-e0cc-4bcb-ac4a-15087db45351",
   "metadata": {},
   "outputs": [],
   "source": [
    "from scipy import stats\n",
    "import numpy as np\n",
    "\n",
    "rng = np.random.default_rng()"
   ]
  },
  {
   "cell_type": "code",
   "execution_count": null,
   "id": "7d37ab20-1e48-4427-aaf2-095b4072c2a7",
   "metadata": {},
   "outputs": [],
   "source": []
  },
  {
   "cell_type": "code",
   "execution_count": 2,
   "id": "a2fa7025-b363-45fb-b54a-86eeab6bb0d5",
   "metadata": {},
   "outputs": [],
   "source": [
    "import sys, os\n",
    "cwd = os.getcwd()\n",
    "sys.path.append(cwd + '/../.') \n",
    "\n",
    "import numpy as np\n",
    "from sklearn.metrics import f1_score"
   ]
  },
  {
   "cell_type": "code",
   "execution_count": 3,
   "id": "14795673-7165-4107-a7ea-e0a8e487d0e8",
   "metadata": {},
   "outputs": [],
   "source": [
    "\n",
    "al_steps=100\n",
    "sample_size_per_step=1\n",
    "save_and_repeat=5\n",
    "\n",
    "name_postfix = \"\""
   ]
  },
  {
   "cell_type": "code",
   "execution_count": 149,
   "id": "78e73d61-126e-45ee-873c-5c70a2f0f33f",
   "metadata": {},
   "outputs": [],
   "source": [
    "global rnd_micro \n",
    "rnd_micro = []\n",
    "global rnd_macro \n",
    "rnd_macro= []\n",
    "\n",
    "def print_f1_p(dataset, encoding, query_strategy, f1_micros_rnd=None,  f1_macros_rnd=None, index=-1):\n",
    "    \n",
    "    index_postfix = ''\n",
    "    if index != -1:\n",
    "        index_postfix = f'_{index}'\n",
    "    \n",
    "    name_postfix = ''\n",
    "    if query_strategy == 'rnd':\n",
    "        name_postfix = \"_rnd\"\n",
    "        query_strategy = 'unc'\n",
    "    load_dir = f'./res/{dataset}_{encoding}_{str(query_strategy)}_{name}{name_postfix}_{sample_size_per_step}_{al_steps}_{save_and_repeat}{index_postfix}'\n",
    "    load_dir2 = f'../eval_proxy/res/{dataset}_{encoding}_{str(query_strategy)}_{name}{name_postfix}_{sample_size_per_step}_{al_steps}_{save_and_repeat}'\n",
    "\n",
    "    f1_micros = [] \n",
    "    f1_macros = []\n",
    "    \n",
    "    for i in range(5):\n",
    "        y_pred = np.load(f'{load_dir}/y_pred_{i}.npy')\n",
    "        y_true = np.load(f'{load_dir}/y_true_{i}.npy')\n",
    "        f1_micros.append(f1_score(y_true, y_pred, average='micro'))\n",
    "        f1_macros.append(f1_score(y_true, y_pred, average='macro'))\n",
    "        \n",
    "    f1_micros = np.array(f1_micros)\n",
    "    f1_macros = np.array(f1_macros)\n",
    "    \n",
    "    \n",
    "    f1_mic_list = np.load('%s/f1_micro.npy' % load_dir2)\n",
    "    f1_mac_list = np.load('%s/f1_macro.npy' % load_dir2)\n",
    "    f1_mic_list = np.array(f1_mic_list).mean(axis=0)\n",
    "    f1_mac_list = np.array(f1_mac_list).mean(axis=0)\n",
    "    \n",
    "    \n",
    "    print(encoding, '|' , round(f1_micros.mean(), 4), round(f1_micros.std(), 4), '|' ,round(f1_macros.mean(), 4), round(f1_macros.std(), 4))\n",
    "\n",
    "    if name_postfix == \"_rnd\":\n",
    "        f1_micros_rnd = f1_micros \n",
    "        f1_macros_rnd = f1_macros\n",
    "    \n",
    "    print(stats.ttest_ind(f1_micros_rnd, f1_micros ,equal_var=True), stats.ttest_ind(f1_macros_rnd, f1_macros ,equal_var=True))\n",
    "    print('Diff',  round((f1_micros.mean() - f1_mic_list[-1] )/f1_mic_list[-1]*100, 2), round((f1_macros.mean()- f1_mac_list[-1])/f1_mac_list[-1]*100, 2))\n",
    "    print('BERT(RND) -> BERT(Proxy)',  round((f1_micros.mean()  - f1_micros_rnd.mean() )/f1_micros_rnd.mean() *100, 2), round((f1_macros.mean() - f1_macros_rnd.mean() )/f1_macros_rnd.mean() *100, 2))\n",
    "    \n",
    "    if name_postfix == \"_rnd\":\n",
    "        return f1_micros,  f1_macros\n",
    "    \n",
    "    print()"
   ]
  },
  {
   "cell_type": "code",
   "execution_count": 156,
   "id": "72398183-7b91-4112-bd9e-0064a68af218",
   "metadata": {},
   "outputs": [
    {
     "name": "stdout",
     "output_type": "stream",
     "text": [
      "bert | 0.9206 0.0138 | 0.7601 0.0514\n",
      "Ttest_indResult(statistic=0.0, pvalue=1.0) Ttest_indResult(statistic=0.0, pvalue=1.0)\n",
      "Diff 4.21 -0.44\n",
      "BERT(RND) -> BERT(Proxy) 0.0 0.0\n",
      "___\n",
      "unc bert | 0.9523 0.0072 | 0.8989 0.0362\n",
      "Ttest_indResult(statistic=-4.086503492638495, pvalue=0.0035024864256706944) Ttest_indResult(statistic=-4.415435604580121, pvalue=0.002240092622170134)\n",
      "Diff 4.33 5.2\n",
      "BERT(RND) -> BERT(Proxy) 3.45 18.26\n",
      "\n",
      "unc_density bert | 0.9599 0.0019 | 0.923 0.005\n",
      "Ttest_indResult(statistic=-5.654265379439844, pvalue=0.00047904909784594673) Ttest_indResult(statistic=-6.306641831672955, pvalue=0.0002311276381488142)\n",
      "Diff 4.75 7.7\n",
      "BERT(RND) -> BERT(Proxy) 4.27 21.43\n",
      "\n",
      "isli bert | 0.9561 0.0071 | 0.9073 0.0334\n",
      "Ttest_indResult(statistic=-4.584448760427659, pvalue=0.0017915384443756553) Ttest_indResult(statistic=-4.801416652499865, pvalue=0.0013530844419242212)\n",
      "Diff 4.56 6.21\n",
      "BERT(RND) -> BERT(Proxy) 3.86 19.37\n",
      "\n",
      "isli_density bert | 0.9551 0.0049 | 0.9099 0.0149\n",
      "Ttest_indResult(statistic=-4.712587167573286, pvalue=0.001516601166608164) Ttest_indResult(statistic=-5.596433547562515, pvalue=0.0005123729969255075)\n",
      "Diff 4.44 6.79\n",
      "BERT(RND) -> BERT(Proxy) 3.74 19.7\n",
      "\n",
      "isls bert | 0.9539 0.0048 | 0.9039 0.0267\n",
      "Ttest_indResult(statistic=-4.561509459016044, pvalue=0.0018462460722593014) Ttest_indResult(statistic=-4.963354254407032, pvalue=0.0011022487845006679)\n",
      "Diff 4.4 5.51\n",
      "BERT(RND) -> BERT(Proxy) 3.62 18.91\n",
      "\n",
      "isls_density bert | 0.9505 0.007 | 0.8844 0.0394\n",
      "Ttest_indResult(statistic=-3.8716074002105905, pvalue=0.004730578829419057) Ttest_indResult(statistic=-3.839335165450823, pvalue=0.004951858449923859)\n",
      "Diff 3.88 3.38\n",
      "BERT(RND) -> BERT(Proxy) 3.25 16.36\n",
      "\n"
     ]
    }
   ],
   "source": [
    "name='final'\n",
    "data_set = 'reuters'\n",
    "encoding = 'bert'\n",
    "\n",
    "f1_micros,  f1_macros = print_f1_p(data_set, encoding, 'rnd')\n",
    "print('___')\n",
    "\n",
    "strategy = ['unc', 'unc_density', 'isli', 'isli_density', 'isls', 'isls_density']\n",
    "for i in strategy:\n",
    "    print(i, '', end='')\n",
    "    print_f1_p(data_set, encoding, i, f1_micros_rnd=f1_micros,  f1_macros_rnd=f1_macros)"
   ]
  },
  {
   "cell_type": "code",
   "execution_count": null,
   "id": "87fef83c-a81f-4423-8bdb-20f41bbe661e",
   "metadata": {},
   "outputs": [],
   "source": []
  },
  {
   "cell_type": "code",
   "execution_count": 13,
   "id": "77d54153-7cf0-49cf-9531-75a004b66fff",
   "metadata": {},
   "outputs": [],
   "source": [
    "def ttest(root_dir):\n",
    "    f1_mic_list = np.load('%s/f1_micro.npy' % root_dir)\n",
    "    f1_mac_list = np.load('%s/f1_macro.npy' % root_dir)\n",
    "    print(-1)"
   ]
  },
  {
   "cell_type": "code",
   "execution_count": 14,
   "id": "f83675d2-11f3-4e1b-bcc5-a0e48273d419",
   "metadata": {},
   "outputs": [
    {
     "ename": "FileNotFoundError",
     "evalue": "[Errno 2] No such file or directory: './res/app_store_sbert_unc_test_1_100_5/f1_micro.npy'",
     "output_type": "error",
     "traceback": [
      "\u001b[0;31m---------------------------------------------------------------------------\u001b[0m",
      "\u001b[0;31mFileNotFoundError\u001b[0m                         Traceback (most recent call last)",
      "\u001b[0;32m/tmp/ipykernel_368/3779673286.py\u001b[0m in \u001b[0;36m<module>\u001b[0;34m\u001b[0m\n\u001b[0;32m----> 1\u001b[0;31m \u001b[0mttest\u001b[0m\u001b[0;34m(\u001b[0m\u001b[0mdirs\u001b[0m\u001b[0;34m[\u001b[0m\u001b[0;36m0\u001b[0m\u001b[0;34m]\u001b[0m\u001b[0;34m)\u001b[0m\u001b[0;34m\u001b[0m\u001b[0;34m\u001b[0m\u001b[0m\n\u001b[0m",
      "\u001b[0;32m/tmp/ipykernel_368/676382976.py\u001b[0m in \u001b[0;36mttest\u001b[0;34m(root_dir)\u001b[0m\n\u001b[1;32m      1\u001b[0m \u001b[0;32mdef\u001b[0m \u001b[0mttest\u001b[0m\u001b[0;34m(\u001b[0m\u001b[0mroot_dir\u001b[0m\u001b[0;34m)\u001b[0m\u001b[0;34m:\u001b[0m\u001b[0;34m\u001b[0m\u001b[0;34m\u001b[0m\u001b[0m\n\u001b[0;32m----> 2\u001b[0;31m     \u001b[0mf1_mic_list\u001b[0m \u001b[0;34m=\u001b[0m \u001b[0mnp\u001b[0m\u001b[0;34m.\u001b[0m\u001b[0mload\u001b[0m\u001b[0;34m(\u001b[0m\u001b[0;34m'%s/f1_micro.npy'\u001b[0m \u001b[0;34m%\u001b[0m \u001b[0mroot_dir\u001b[0m\u001b[0;34m)\u001b[0m\u001b[0;34m\u001b[0m\u001b[0;34m\u001b[0m\u001b[0m\n\u001b[0m\u001b[1;32m      3\u001b[0m     \u001b[0mf1_mac_list\u001b[0m \u001b[0;34m=\u001b[0m \u001b[0mnp\u001b[0m\u001b[0;34m.\u001b[0m\u001b[0mload\u001b[0m\u001b[0;34m(\u001b[0m\u001b[0;34m'%s/f1_macro.npy'\u001b[0m \u001b[0;34m%\u001b[0m \u001b[0mroot_dir\u001b[0m\u001b[0;34m)\u001b[0m\u001b[0;34m\u001b[0m\u001b[0;34m\u001b[0m\u001b[0m\n\u001b[1;32m      4\u001b[0m     \u001b[0mprint\u001b[0m\u001b[0;34m(\u001b[0m\u001b[0;34m-\u001b[0m\u001b[0;36m1\u001b[0m\u001b[0;34m)\u001b[0m\u001b[0;34m\u001b[0m\u001b[0;34m\u001b[0m\u001b[0m\n",
      "\u001b[0;32m/opt/conda/lib/python3.9/site-packages/numpy/lib/npyio.py\u001b[0m in \u001b[0;36mload\u001b[0;34m(file, mmap_mode, allow_pickle, fix_imports, encoding)\u001b[0m\n\u001b[1;32m    414\u001b[0m             \u001b[0mown_fid\u001b[0m \u001b[0;34m=\u001b[0m \u001b[0;32mFalse\u001b[0m\u001b[0;34m\u001b[0m\u001b[0;34m\u001b[0m\u001b[0m\n\u001b[1;32m    415\u001b[0m         \u001b[0;32melse\u001b[0m\u001b[0;34m:\u001b[0m\u001b[0;34m\u001b[0m\u001b[0;34m\u001b[0m\u001b[0m\n\u001b[0;32m--> 416\u001b[0;31m             \u001b[0mfid\u001b[0m \u001b[0;34m=\u001b[0m \u001b[0mstack\u001b[0m\u001b[0;34m.\u001b[0m\u001b[0menter_context\u001b[0m\u001b[0;34m(\u001b[0m\u001b[0mopen\u001b[0m\u001b[0;34m(\u001b[0m\u001b[0mos_fspath\u001b[0m\u001b[0;34m(\u001b[0m\u001b[0mfile\u001b[0m\u001b[0;34m)\u001b[0m\u001b[0;34m,\u001b[0m \u001b[0;34m\"rb\"\u001b[0m\u001b[0;34m)\u001b[0m\u001b[0;34m)\u001b[0m\u001b[0;34m\u001b[0m\u001b[0;34m\u001b[0m\u001b[0m\n\u001b[0m\u001b[1;32m    417\u001b[0m             \u001b[0mown_fid\u001b[0m \u001b[0;34m=\u001b[0m \u001b[0;32mTrue\u001b[0m\u001b[0;34m\u001b[0m\u001b[0;34m\u001b[0m\u001b[0m\n\u001b[1;32m    418\u001b[0m \u001b[0;34m\u001b[0m\u001b[0m\n",
      "\u001b[0;31mFileNotFoundError\u001b[0m: [Errno 2] No such file or directory: './res/app_store_sbert_unc_test_1_100_5/f1_micro.npy'"
     ]
    }
   ],
   "source": [
    "ttest(dirs[0])"
   ]
  },
  {
   "cell_type": "code",
   "execution_count": 6,
   "id": "47e59afc-d100-4340-a047-fb6cac50580f",
   "metadata": {},
   "outputs": [],
   "source": [
    "a = [0.5443,\n",
    "0.2629,\n",
    "0.2629,\n",
    "0.4615,\n",
    "0.2435,\n",
    "0.2398,\n",
    "0.2098,\n",
    "0.206,\n",
    "0.2036,\n",
    "]\n",
    "\n",
    "b = [0.4259,\n",
    "0.2059,\n",
    "0.2076,\n",
    "0.3174,\n",
    "0.146,\n",
    "0.1464,\n",
    "0.1592,\n",
    "0.1542,\n",
    "0.1513]\n"
   ]
  },
  {
   "cell_type": "code",
   "execution_count": 8,
   "id": "4fbf7712-9359-4bfe-8d36-f05c1e19f4a7",
   "metadata": {},
   "outputs": [
    {
     "data": {
      "text/plain": [
       "Ttest_indResult(statistic=1.5321758209957235, pvalue=0.14501165733864146)"
      ]
     },
     "execution_count": 8,
     "metadata": {},
     "output_type": "execute_result"
    }
   ],
   "source": [
    "rvs1 = stats.norm.rvs(loc=5, scale=10, size=500, random_state=rng)\n",
    "\n",
    "rvs2 = stats.norm.rvs(loc=5, scale=10, size=500, random_state=rng)\n",
    "\n",
    "stats.ttest_ind(a, b,equal_var=True)"
   ]
  },
  {
   "cell_type": "code",
   "execution_count": null,
   "id": "7931d2e8-20c2-40f1-bf56-3c9fcd35b228",
   "metadata": {},
   "outputs": [],
   "source": []
  }
 ],
 "metadata": {
  "kernelspec": {
   "display_name": "Python 3 (ipykernel)",
   "language": "python",
   "name": "python3"
  },
  "language_info": {
   "codemirror_mode": {
    "name": "ipython",
    "version": 3
   },
   "file_extension": ".py",
   "mimetype": "text/x-python",
   "name": "python",
   "nbconvert_exporter": "python",
   "pygments_lexer": "ipython3",
   "version": "3.9.7"
  }
 },
 "nbformat": 4,
 "nbformat_minor": 5
}
