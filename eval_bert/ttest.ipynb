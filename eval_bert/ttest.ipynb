{
 "cells": [
  {
   "cell_type": "code",
   "execution_count": 6,
   "id": "c95bfa71-e0cc-4bcb-ac4a-15087db45351",
   "metadata": {},
   "outputs": [],
   "source": [
    "from scipy import stats\n",
    "import numpy as np\n",
    "\n",
    "rng = np.random.default_rng()"
   ]
  },
  {
   "cell_type": "code",
   "execution_count": null,
   "id": "7d37ab20-1e48-4427-aaf2-095b4072c2a7",
   "metadata": {},
   "outputs": [],
   "source": []
  },
  {
   "cell_type": "code",
   "execution_count": 7,
   "id": "a2fa7025-b363-45fb-b54a-86eeab6bb0d5",
   "metadata": {},
   "outputs": [],
   "source": [
    "import sys, os\n",
    "cwd = os.getcwd()\n",
    "sys.path.append(cwd + '/../.') \n",
    "\n",
    "import numpy as np\n",
    "from sklearn.metrics import f1_score"
   ]
  },
  {
   "cell_type": "code",
   "execution_count": 8,
   "id": "14795673-7165-4107-a7ea-e0a8e487d0e8",
   "metadata": {},
   "outputs": [],
   "source": [
    "\n",
    "al_steps=100\n",
    "sample_size_per_step=1\n",
    "save_and_repeat=5\n",
    "\n",
    "name_postfix = \"\""
   ]
  },
  {
   "cell_type": "code",
   "execution_count": 126,
   "id": "78e73d61-126e-45ee-873c-5c70a2f0f33f",
   "metadata": {},
   "outputs": [],
   "source": [
    "global rnd_micro \n",
    "rnd_micro = []\n",
    "global rnd_macro \n",
    "rnd_macro= []\n",
    "\n",
    "def print_f1_p(dataset, encoding, query_strategy, f1_micros_rnd=None,  f1_macros_rnd=None, index=-1):\n",
    "    \n",
    "    index_postfix = ''\n",
    "    if index != -1:\n",
    "        index_postfix = f'_{index}'\n",
    "    \n",
    "    name_postfix = ''\n",
    "    if query_strategy == 'rnd':\n",
    "        name_postfix = \"_rnd\"\n",
    "        query_strategy = 'unc'\n",
    "    load_dir = f'./res4/{dataset}_{encoding}_{str(query_strategy)}_{name}{name_postfix}_{sample_size_per_step}_{al_steps}_{save_and_repeat}{index_postfix}'\n",
    "    load_dir2 = f'../eval_proxy/res/{dataset}_{encoding}_{str(query_strategy)}_{name}{name_postfix}_{sample_size_per_step}_{al_steps}_{save_and_repeat}'\n",
    "\n",
    "    f1_micros = [] \n",
    "    f1_macros = []\n",
    "    \n",
    "    # BERT \n",
    "    for i in range(5):\n",
    "        y_pred = np.load(f'{load_dir}/y_pred_{i}.npy')\n",
    "        y_true = np.load(f'{load_dir}/y_true_{i}.npy')\n",
    "        f1_micros.append(f1_score(y_true, y_pred, average='micro'))\n",
    "        f1_macros.append(f1_score(y_true, y_pred, average='macro'))\n",
    "        \n",
    "    f1_micros = np.array(f1_micros)\n",
    "    f1_macros = np.array(f1_macros)\n",
    "    \n",
    "    # Proxy\n",
    "    f1_mic_list = np.load('%s/f1_micro.npy' % load_dir2)\n",
    "    f1_mac_list = np.load('%s/f1_macro.npy' % load_dir2)\n",
    "    f1_mic_list = np.array(f1_mic_list).mean(axis=0)\n",
    "    f1_mac_list = np.array(f1_mac_list).mean(axis=0)\n",
    "    \n",
    "    \n",
    "    print(encoding, '|' , round(f1_micros.mean(), 4), round(f1_micros.std(), 4), '|' ,round(f1_macros.mean(), 4), round(f1_macros.std(), 4))\n",
    "\n",
    "    if name_postfix == \"_rnd\":\n",
    "        f1_micros_rnd = f1_micros \n",
    "        f1_macros_rnd = f1_macros\n",
    "    \n",
    "    \n",
    "    #print('##', f1_mic_list[:-200])\n",
    "    #print('##', f1_micros.shape)\n",
    "    \n",
    "    mode = -1\n",
    "    if index == '-1':\n",
    "        pass\n",
    "    if index == '-3':\n",
    "        #f1_mic_list = f1_mic_list[:300]\n",
    "        #f1_mac_list = f1_mac_list[:300]\n",
    "        mode = -200\n",
    "    \n",
    "    \n",
    "    print(stats.ttest_ind(f1_micros_rnd, f1_micros ,equal_var=True), stats.ttest_ind(f1_macros_rnd, f1_macros ,equal_var=True))\n",
    "    print('BERT ', f1_micros.mean() , 'Proxy ', f1_mic_list[mode])\n",
    "    s = (f1_micros.mean() - f1_mic_list[mode] )/f1_mic_list[mode]*100\n",
    "    s2 = (f1_macros.mean()- f1_mac_list[mode])/f1_mac_list[mode]*100\n",
    "    print('Diff',  round(s, 2), round(s2, 2))\n",
    "    print('BERT(RND) -> BERT(Proxy)',  round((f1_micros.mean()  - f1_micros_rnd.mean() )/f1_micros_rnd.mean() *100, 2), round((f1_macros.mean() - f1_macros_rnd.mean() )/f1_macros_rnd.mean() *100, 2))\n",
    "    \n",
    "    if name_postfix == \"_rnd\":\n",
    "        pass\n",
    "    else:\n",
    "        mean_lis.append(f1_macros.mean())\n",
    "    \n",
    "    if name_postfix == \"_rnd\":\n",
    "        return f1_micros,  f1_macros\n",
    "    \n",
    "    print()"
   ]
  },
  {
   "cell_type": "code",
   "execution_count": 135,
   "id": "72398183-7b91-4112-bd9e-0064a68af218",
   "metadata": {},
   "outputs": [
    {
     "name": "stdout",
     "output_type": "stream",
     "text": [
      "elmo | 0.8885 0.0196 | 0.6717 0.0766\n",
      "Ttest_indResult(statistic=0.0, pvalue=1.0) Ttest_indResult(statistic=0.0, pvalue=1.0)\n",
      "BERT  0.8884931506849314 Proxy  0.90187\n",
      "Diff -1.48 -16.02\n",
      "BERT(RND) -> BERT(Proxy) 0.0 0.0\n",
      "___\n",
      "unc elmo | 0.9143 0.0167 | 0.7925 0.0321\n",
      "Ttest_indResult(statistic=-2.0012008614048127, pvalue=0.08036658194235903) Ttest_indResult(statistic=-2.9095868133362344, pvalue=0.01960151063857148)\n",
      "BERT  0.9142922374429224 Proxy  0.935528\n",
      "Diff -2.27 -9.24\n",
      "BERT(RND) -> BERT(Proxy) 2.9 17.98\n",
      "\n",
      "unc_density elmo | 0.9233 0.0112 | 0.7971 0.0337\n",
      "Ttest_indResult(statistic=-3.082621128901817, pvalue=0.015056971166505116) Ttest_indResult(statistic=-2.9961257174393916, pvalue=0.0171727963394611)\n",
      "BERT  0.9232876712328766 Proxy  0.9348380000000001\n",
      "Diff -1.24 -9.14\n",
      "BERT(RND) -> BERT(Proxy) 3.92 18.67\n",
      "\n",
      "isli elmo | 0.9059 0.009 | 0.7237 0.0185\n",
      "Ttest_indResult(statistic=-1.610090735913048, pvalue=0.14604404580025926) Ttest_indResult(statistic=-1.317900624908024, pvalue=0.22402239291679504)\n",
      "BERT  0.905890410958904 Proxy  0.934474\n",
      "Diff -3.06 -16.59\n",
      "BERT(RND) -> BERT(Proxy) 1.96 7.73\n",
      "\n",
      "isli_density elmo | 0.9262 0.0126 | 0.7974 0.0655\n",
      "Ttest_indResult(statistic=-3.2320165928132054, pvalue=0.012020590557039603) Ttest_indResult(statistic=-2.4941320400538958, pvalue=0.03728138277419342)\n",
      "BERT  0.9262100456621004 Proxy  0.9332860000000001\n",
      "Diff -0.76 -8.74\n",
      "BERT(RND) -> BERT(Proxy) 4.25 18.71\n",
      "\n",
      "isls elmo | 0.9114 0.0201 | 0.7952 0.0486\n",
      "Ttest_indResult(statistic=-1.6328635767070547, pvalue=0.14114074581690922) Ttest_indResult(statistic=-2.7221534581390103, pvalue=0.0261614106707698)\n",
      "BERT  0.911415525114155 Proxy  0.936208\n",
      "Diff -2.65 -9.14\n",
      "BERT(RND) -> BERT(Proxy) 2.58 18.38\n",
      "\n",
      "isls_density elmo | 0.9154 0.01 | 0.8 0.0461\n",
      "Ttest_indResult(statistic=-2.4451455836555365, pvalue=0.040240245035377056) Ttest_indResult(statistic=-2.8704359655038534, pvalue=0.020814985853940163)\n",
      "BERT  0.915433789954338 Proxy  0.934248\n",
      "Diff -2.01 -8.09\n",
      "BERT(RND) -> BERT(Proxy) 3.03 19.1\n",
      "\n",
      "__\n",
      "[0.79254194 0.7971175  0.72366107 0.79740798 0.79522241 0.80000555]\n",
      "78.43\n"
     ]
    }
   ],
   "source": [
    "name='final'\n",
    "data_set = 'reuters'\n",
    "encoding = 'elmo'\n",
    "index = '-3'\n",
    "\n",
    "\n",
    "f1_micros,  f1_macros = print_f1_p(data_set, encoding, 'rnd', index=index)\n",
    "print('___')\n",
    "\n",
    "mean_lis = [] \n",
    "\n",
    "strategy = ['unc', 'unc_density', 'isli', 'isli_density', 'isls', 'isls_density']\n",
    "for i in strategy:\n",
    "    print(i, '', end='')\n",
    "    print_f1_p(data_set, encoding, i, f1_micros_rnd=f1_micros,  f1_macros_rnd=f1_macros, index=index)\n",
    "\n",
    "print('__')\n",
    "print(np.array(mean_lis))\n",
    "print(round(np.array(mean_lis).mean()*100, 2))"
   ]
  },
  {
   "cell_type": "code",
   "execution_count": 137,
   "id": "5e24f13d-d5be-40f2-9d11-8406212a5028",
   "metadata": {},
   "outputs": [
    {
     "name": "stdout",
     "output_type": "stream",
     "text": [
      "elmo | 0.8476 0.0066 | 0.8048 0.0107\n",
      "Ttest_indResult(statistic=0.0, pvalue=1.0) Ttest_indResult(statistic=0.0, pvalue=1.0)\n",
      "BERT  0.8476220275344181 Proxy  0.8161459999999998\n",
      "Diff 3.86 5.15\n",
      "BERT(RND) -> BERT(Proxy) 0.0 0.0\n",
      "___\n",
      "unc elmo | 0.8623 0.0044 | 0.8241 0.0041\n",
      "Ttest_indResult(statistic=-3.69495028410094, pvalue=0.006086672297706773) Ttest_indResult(statistic=-3.382259012291987, pvalue=0.009609450853359241)\n",
      "BERT  0.8623279098873592 Proxy  0.8319139999999999\n",
      "Diff 3.66 4.63\n",
      "BERT(RND) -> BERT(Proxy) 1.73 2.4\n",
      "\n",
      "unc_density elmo | 0.8608 0.0053 | 0.8211 0.0043\n",
      "Ttest_indResult(statistic=-3.1056288696349275, pvalue=0.014541348379922327) Ttest_indResult(statistic=-2.8249420236388048, pvalue=0.02232335466351084)\n",
      "BERT  0.8608260325406759 Proxy  0.8303499999999999\n",
      "Diff 3.67 4.49\n",
      "BERT(RND) -> BERT(Proxy) 1.56 2.02\n",
      "\n",
      "isli elmo | 0.8631 0.0058 | 0.8266 0.0073\n",
      "Ttest_indResult(statistic=-3.5155208387675208, pvalue=0.007897497229823129) Ttest_indResult(statistic=-3.378081395512822, pvalue=0.009669093566335564)\n",
      "BERT  0.8631414267834794 Proxy  0.8337920000000001\n",
      "Diff 3.52 4.95\n",
      "BERT(RND) -> BERT(Proxy) 1.83 2.71\n",
      "\n",
      "isli_density elmo | 0.8506 0.0101 | 0.8087 0.014\n",
      "Ttest_indResult(statistic=-0.49596675756442865, pvalue=0.6332549938841016) Ttest_indResult(statistic=-0.44832302512543815, pvalue=0.6658135212929062)\n",
      "BERT  0.8506257822277847 Proxy  0.8338560000000002\n",
      "Diff 2.01 2.55\n",
      "BERT(RND) -> BERT(Proxy) 0.35 0.49\n",
      "\n",
      "isls elmo | 0.8564 0.0051 | 0.8183 0.0086\n",
      "Ttest_indResult(statistic=-2.0975106832189523, pvalue=0.06920497180711467) Ttest_indResult(statistic=-1.970716971630827, pvalue=0.08425016232134609)\n",
      "BERT  0.8563829787234042 Proxy  0.8337920000000001\n",
      "Diff 2.71 3.67\n",
      "BERT(RND) -> BERT(Proxy) 1.03 1.68\n",
      "\n",
      "isls_density elmo | 0.8566 0.0062 | 0.8161 0.0085\n",
      "Ttest_indResult(statistic=-1.9810782786201337, pvalue=0.08291023850737654) Ttest_indResult(statistic=-1.660978492527428, pvalue=0.13529573850330529)\n",
      "BERT  0.8566332916145181 Proxy  0.8333539999999999\n",
      "Diff 2.79 3.95\n",
      "BERT(RND) -> BERT(Proxy) 1.06 1.41\n",
      "\n",
      "__\n",
      "[0.82412006 0.82105411 0.82662577 0.80873956 0.81830341 0.81611177]\n",
      "81.92\n"
     ]
    }
   ],
   "source": [
    "name='final'\n",
    "data_set = 'app_store'\n",
    "encoding = 'elmo'\n",
    "\n",
    "\n",
    "f1_micros,  f1_macros = print_f1_p(data_set, encoding, 'rnd')\n",
    "print('___')\n",
    "\n",
    "mean_lis = [] \n",
    "\n",
    "strategy = ['unc', 'unc_density', 'isli', 'isli_density', 'isls', 'isls_density']\n",
    "for i in strategy:\n",
    "    print(i, '', end='')\n",
    "    print_f1_p(data_set, encoding, i, f1_micros_rnd=f1_micros,  f1_macros_rnd=f1_macros)\n",
    "\n",
    "print('__')\n",
    "print(np.array(mean_lis))\n",
    "print(round(np.array(mean_lis).mean()*100, 2))"
   ]
  },
  {
   "cell_type": "code",
   "execution_count": null,
   "id": "00f17958-3a02-4efe-80c6-9e28462c6cf9",
   "metadata": {},
   "outputs": [],
   "source": [
    "\\multirow{-9}{*}{\\begin{sideways}$0\\%$ human noise\\end{sideways}}\\\\"
   ]
  },
  {
   "cell_type": "code",
   "execution_count": null,
   "id": "7b74e498-4629-4d20-a397-20465d6dbd4e",
   "metadata": {},
   "outputs": [],
   "source": []
  },
  {
   "cell_type": "code",
   "execution_count": 19,
   "id": "87fef83c-a81f-4423-8bdb-20f41bbe661e",
   "metadata": {},
   "outputs": [
    {
     "name": "stdout",
     "output_type": "stream",
     "text": [
      "elmo | 0.925 0.0091 | 0.7575 0.0314\n",
      "Ttest_indResult(statistic=0.0, pvalue=1.0) Ttest_indResult(statistic=0.0, pvalue=1.0)\n",
      "Diff 1.28 -8.52\n",
      "BERT(RND) -> BERT(Proxy) 0.0 0.0\n",
      "___\n",
      "unc "
     ]
    },
    {
     "ename": "FileNotFoundError",
     "evalue": "[Errno 2] No such file or directory: '../eval_proxy/res/reuters_elmo_unc_final_1_100_5_-3/f1_micro.npy'",
     "output_type": "error",
     "traceback": [
      "\u001b[0;31m---------------------------------------------------------------------------\u001b[0m",
      "\u001b[0;31mFileNotFoundError\u001b[0m                         Traceback (most recent call last)",
      "\u001b[0;32m/tmp/ipykernel_42615/3732831635.py\u001b[0m in \u001b[0;36m<module>\u001b[0;34m\u001b[0m\n\u001b[1;32m     13\u001b[0m \u001b[0;32mfor\u001b[0m \u001b[0mi\u001b[0m \u001b[0;32min\u001b[0m \u001b[0mstrategy\u001b[0m\u001b[0;34m:\u001b[0m\u001b[0;34m\u001b[0m\u001b[0;34m\u001b[0m\u001b[0m\n\u001b[1;32m     14\u001b[0m     \u001b[0mprint\u001b[0m\u001b[0;34m(\u001b[0m\u001b[0mi\u001b[0m\u001b[0;34m,\u001b[0m \u001b[0;34m''\u001b[0m\u001b[0;34m,\u001b[0m \u001b[0mend\u001b[0m\u001b[0;34m=\u001b[0m\u001b[0;34m''\u001b[0m\u001b[0;34m)\u001b[0m\u001b[0;34m\u001b[0m\u001b[0;34m\u001b[0m\u001b[0m\n\u001b[0;32m---> 15\u001b[0;31m     \u001b[0mprint_f1_p\u001b[0m\u001b[0;34m(\u001b[0m\u001b[0mdata_set\u001b[0m\u001b[0;34m,\u001b[0m \u001b[0mencoding\u001b[0m\u001b[0;34m,\u001b[0m \u001b[0mi\u001b[0m\u001b[0;34m,\u001b[0m \u001b[0mf1_micros_rnd\u001b[0m\u001b[0;34m=\u001b[0m\u001b[0mf1_micros\u001b[0m\u001b[0;34m,\u001b[0m  \u001b[0mf1_macros_rnd\u001b[0m\u001b[0;34m=\u001b[0m\u001b[0mf1_macros\u001b[0m\u001b[0;34m,\u001b[0m \u001b[0mindex\u001b[0m\u001b[0;34m=\u001b[0m\u001b[0mindex\u001b[0m\u001b[0;34m)\u001b[0m\u001b[0;34m\u001b[0m\u001b[0;34m\u001b[0m\u001b[0m\n\u001b[0m\u001b[1;32m     16\u001b[0m \u001b[0;34m\u001b[0m\u001b[0m\n\u001b[1;32m     17\u001b[0m \u001b[0mprint\u001b[0m\u001b[0;34m(\u001b[0m\u001b[0;34m'__'\u001b[0m\u001b[0;34m)\u001b[0m\u001b[0;34m\u001b[0m\u001b[0;34m\u001b[0m\u001b[0m\n",
      "\u001b[0;32m/tmp/ipykernel_42615/618865594.py\u001b[0m in \u001b[0;36mprint_f1_p\u001b[0;34m(dataset, encoding, query_strategy, f1_micros_rnd, f1_macros_rnd, index)\u001b[0m\n\u001b[1;32m     29\u001b[0m     \u001b[0mf1_macros\u001b[0m \u001b[0;34m=\u001b[0m \u001b[0mnp\u001b[0m\u001b[0;34m.\u001b[0m\u001b[0marray\u001b[0m\u001b[0;34m(\u001b[0m\u001b[0mf1_macros\u001b[0m\u001b[0;34m)\u001b[0m\u001b[0;34m\u001b[0m\u001b[0;34m\u001b[0m\u001b[0m\n\u001b[1;32m     30\u001b[0m \u001b[0;34m\u001b[0m\u001b[0m\n\u001b[0;32m---> 31\u001b[0;31m     \u001b[0mf1_mic_list\u001b[0m \u001b[0;34m=\u001b[0m \u001b[0mnp\u001b[0m\u001b[0;34m.\u001b[0m\u001b[0mload\u001b[0m\u001b[0;34m(\u001b[0m\u001b[0;34m'%s/f1_micro.npy'\u001b[0m \u001b[0;34m%\u001b[0m \u001b[0mload_dir2\u001b[0m\u001b[0;34m)\u001b[0m\u001b[0;34m\u001b[0m\u001b[0;34m\u001b[0m\u001b[0m\n\u001b[0m\u001b[1;32m     32\u001b[0m     \u001b[0mf1_mac_list\u001b[0m \u001b[0;34m=\u001b[0m \u001b[0mnp\u001b[0m\u001b[0;34m.\u001b[0m\u001b[0mload\u001b[0m\u001b[0;34m(\u001b[0m\u001b[0;34m'%s/f1_macro.npy'\u001b[0m \u001b[0;34m%\u001b[0m \u001b[0mload_dir2\u001b[0m\u001b[0;34m)\u001b[0m\u001b[0;34m\u001b[0m\u001b[0;34m\u001b[0m\u001b[0m\n\u001b[1;32m     33\u001b[0m     \u001b[0mf1_mic_list\u001b[0m \u001b[0;34m=\u001b[0m \u001b[0mnp\u001b[0m\u001b[0;34m.\u001b[0m\u001b[0marray\u001b[0m\u001b[0;34m(\u001b[0m\u001b[0mf1_mic_list\u001b[0m\u001b[0;34m)\u001b[0m\u001b[0;34m.\u001b[0m\u001b[0mmean\u001b[0m\u001b[0;34m(\u001b[0m\u001b[0maxis\u001b[0m\u001b[0;34m=\u001b[0m\u001b[0;36m0\u001b[0m\u001b[0;34m)\u001b[0m\u001b[0;34m\u001b[0m\u001b[0;34m\u001b[0m\u001b[0m\n",
      "\u001b[0;32m/opt/conda/lib/python3.9/site-packages/numpy/lib/npyio.py\u001b[0m in \u001b[0;36mload\u001b[0;34m(file, mmap_mode, allow_pickle, fix_imports, encoding)\u001b[0m\n\u001b[1;32m    414\u001b[0m             \u001b[0mown_fid\u001b[0m \u001b[0;34m=\u001b[0m \u001b[0;32mFalse\u001b[0m\u001b[0;34m\u001b[0m\u001b[0;34m\u001b[0m\u001b[0m\n\u001b[1;32m    415\u001b[0m         \u001b[0;32melse\u001b[0m\u001b[0;34m:\u001b[0m\u001b[0;34m\u001b[0m\u001b[0;34m\u001b[0m\u001b[0m\n\u001b[0;32m--> 416\u001b[0;31m             \u001b[0mfid\u001b[0m \u001b[0;34m=\u001b[0m \u001b[0mstack\u001b[0m\u001b[0;34m.\u001b[0m\u001b[0menter_context\u001b[0m\u001b[0;34m(\u001b[0m\u001b[0mopen\u001b[0m\u001b[0;34m(\u001b[0m\u001b[0mos_fspath\u001b[0m\u001b[0;34m(\u001b[0m\u001b[0mfile\u001b[0m\u001b[0;34m)\u001b[0m\u001b[0;34m,\u001b[0m \u001b[0;34m\"rb\"\u001b[0m\u001b[0;34m)\u001b[0m\u001b[0;34m)\u001b[0m\u001b[0;34m\u001b[0m\u001b[0;34m\u001b[0m\u001b[0m\n\u001b[0m\u001b[1;32m    417\u001b[0m             \u001b[0mown_fid\u001b[0m \u001b[0;34m=\u001b[0m \u001b[0;32mTrue\u001b[0m\u001b[0;34m\u001b[0m\u001b[0;34m\u001b[0m\u001b[0m\n\u001b[1;32m    418\u001b[0m \u001b[0;34m\u001b[0m\u001b[0m\n",
      "\u001b[0;31mFileNotFoundError\u001b[0m: [Errno 2] No such file or directory: '../eval_proxy/res/reuters_elmo_unc_final_1_100_5_-3/f1_micro.npy'"
     ]
    }
   ],
   "source": [
    "name='final'\n",
    "data_set = 'reuters'\n",
    "encoding = 'elmo'\n",
    "index = '-3'\n",
    "\n",
    "\n",
    "f1_micros,  f1_macros = print_f1_p(data_set, encoding, 'rnd')\n",
    "print('___')\n",
    "\n",
    "mean_lis = [] \n",
    "\n",
    "strategy = ['unc', 'unc_density', 'isli', 'isli_density', 'isls', 'isls_density']\n",
    "for i in strategy:\n",
    "    print(i, '', end='')\n",
    "    print_f1_p(data_set, encoding, i, f1_micros_rnd=f1_micros,  f1_macros_rnd=f1_macros, index=index)\n",
    "\n",
    "print('__')\n",
    "print(np.array(mean_lis))\n",
    "print(round(np.array(mean_lis).mean(), 2))"
   ]
  },
  {
   "cell_type": "code",
   "execution_count": 13,
   "id": "77d54153-7cf0-49cf-9531-75a004b66fff",
   "metadata": {},
   "outputs": [],
   "source": [
    "def ttest(root_dir):\n",
    "    f1_mic_list = np.load('%s/f1_micro.npy' % root_dir)\n",
    "    f1_mac_list = np.load('%s/f1_macro.npy' % root_dir)\n",
    "    print(-1)"
   ]
  },
  {
   "cell_type": "code",
   "execution_count": 14,
   "id": "f83675d2-11f3-4e1b-bcc5-a0e48273d419",
   "metadata": {},
   "outputs": [
    {
     "ename": "FileNotFoundError",
     "evalue": "[Errno 2] No such file or directory: './res/app_store_sbert_unc_test_1_100_5/f1_micro.npy'",
     "output_type": "error",
     "traceback": [
      "\u001b[0;31m---------------------------------------------------------------------------\u001b[0m",
      "\u001b[0;31mFileNotFoundError\u001b[0m                         Traceback (most recent call last)",
      "\u001b[0;32m/tmp/ipykernel_368/3779673286.py\u001b[0m in \u001b[0;36m<module>\u001b[0;34m\u001b[0m\n\u001b[0;32m----> 1\u001b[0;31m \u001b[0mttest\u001b[0m\u001b[0;34m(\u001b[0m\u001b[0mdirs\u001b[0m\u001b[0;34m[\u001b[0m\u001b[0;36m0\u001b[0m\u001b[0;34m]\u001b[0m\u001b[0;34m)\u001b[0m\u001b[0;34m\u001b[0m\u001b[0;34m\u001b[0m\u001b[0m\n\u001b[0m",
      "\u001b[0;32m/tmp/ipykernel_368/676382976.py\u001b[0m in \u001b[0;36mttest\u001b[0;34m(root_dir)\u001b[0m\n\u001b[1;32m      1\u001b[0m \u001b[0;32mdef\u001b[0m \u001b[0mttest\u001b[0m\u001b[0;34m(\u001b[0m\u001b[0mroot_dir\u001b[0m\u001b[0;34m)\u001b[0m\u001b[0;34m:\u001b[0m\u001b[0;34m\u001b[0m\u001b[0;34m\u001b[0m\u001b[0m\n\u001b[0;32m----> 2\u001b[0;31m     \u001b[0mf1_mic_list\u001b[0m \u001b[0;34m=\u001b[0m \u001b[0mnp\u001b[0m\u001b[0;34m.\u001b[0m\u001b[0mload\u001b[0m\u001b[0;34m(\u001b[0m\u001b[0;34m'%s/f1_micro.npy'\u001b[0m \u001b[0;34m%\u001b[0m \u001b[0mroot_dir\u001b[0m\u001b[0;34m)\u001b[0m\u001b[0;34m\u001b[0m\u001b[0;34m\u001b[0m\u001b[0m\n\u001b[0m\u001b[1;32m      3\u001b[0m     \u001b[0mf1_mac_list\u001b[0m \u001b[0;34m=\u001b[0m \u001b[0mnp\u001b[0m\u001b[0;34m.\u001b[0m\u001b[0mload\u001b[0m\u001b[0;34m(\u001b[0m\u001b[0;34m'%s/f1_macro.npy'\u001b[0m \u001b[0;34m%\u001b[0m \u001b[0mroot_dir\u001b[0m\u001b[0;34m)\u001b[0m\u001b[0;34m\u001b[0m\u001b[0;34m\u001b[0m\u001b[0m\n\u001b[1;32m      4\u001b[0m     \u001b[0mprint\u001b[0m\u001b[0;34m(\u001b[0m\u001b[0;34m-\u001b[0m\u001b[0;36m1\u001b[0m\u001b[0;34m)\u001b[0m\u001b[0;34m\u001b[0m\u001b[0;34m\u001b[0m\u001b[0m\n",
      "\u001b[0;32m/opt/conda/lib/python3.9/site-packages/numpy/lib/npyio.py\u001b[0m in \u001b[0;36mload\u001b[0;34m(file, mmap_mode, allow_pickle, fix_imports, encoding)\u001b[0m\n\u001b[1;32m    414\u001b[0m             \u001b[0mown_fid\u001b[0m \u001b[0;34m=\u001b[0m \u001b[0;32mFalse\u001b[0m\u001b[0;34m\u001b[0m\u001b[0;34m\u001b[0m\u001b[0m\n\u001b[1;32m    415\u001b[0m         \u001b[0;32melse\u001b[0m\u001b[0;34m:\u001b[0m\u001b[0;34m\u001b[0m\u001b[0;34m\u001b[0m\u001b[0m\n\u001b[0;32m--> 416\u001b[0;31m             \u001b[0mfid\u001b[0m \u001b[0;34m=\u001b[0m \u001b[0mstack\u001b[0m\u001b[0;34m.\u001b[0m\u001b[0menter_context\u001b[0m\u001b[0;34m(\u001b[0m\u001b[0mopen\u001b[0m\u001b[0;34m(\u001b[0m\u001b[0mos_fspath\u001b[0m\u001b[0;34m(\u001b[0m\u001b[0mfile\u001b[0m\u001b[0;34m)\u001b[0m\u001b[0;34m,\u001b[0m \u001b[0;34m\"rb\"\u001b[0m\u001b[0;34m)\u001b[0m\u001b[0;34m)\u001b[0m\u001b[0;34m\u001b[0m\u001b[0;34m\u001b[0m\u001b[0m\n\u001b[0m\u001b[1;32m    417\u001b[0m             \u001b[0mown_fid\u001b[0m \u001b[0;34m=\u001b[0m \u001b[0;32mTrue\u001b[0m\u001b[0;34m\u001b[0m\u001b[0;34m\u001b[0m\u001b[0m\n\u001b[1;32m    418\u001b[0m \u001b[0;34m\u001b[0m\u001b[0m\n",
      "\u001b[0;31mFileNotFoundError\u001b[0m: [Errno 2] No such file or directory: './res/app_store_sbert_unc_test_1_100_5/f1_micro.npy'"
     ]
    }
   ],
   "source": [
    "ttest(dirs[0])"
   ]
  },
  {
   "cell_type": "code",
   "execution_count": 6,
   "id": "47e59afc-d100-4340-a047-fb6cac50580f",
   "metadata": {},
   "outputs": [],
   "source": [
    "a = [0.5443,\n",
    "0.2629,\n",
    "0.2629,\n",
    "0.4615,\n",
    "0.2435,\n",
    "0.2398,\n",
    "0.2098,\n",
    "0.206,\n",
    "0.2036,\n",
    "]\n",
    "\n",
    "b = [0.4259,\n",
    "0.2059,\n",
    "0.2076,\n",
    "0.3174,\n",
    "0.146,\n",
    "0.1464,\n",
    "0.1592,\n",
    "0.1542,\n",
    "0.1513]\n"
   ]
  },
  {
   "cell_type": "code",
   "execution_count": 8,
   "id": "4fbf7712-9359-4bfe-8d36-f05c1e19f4a7",
   "metadata": {},
   "outputs": [
    {
     "data": {
      "text/plain": [
       "Ttest_indResult(statistic=1.5321758209957235, pvalue=0.14501165733864146)"
      ]
     },
     "execution_count": 8,
     "metadata": {},
     "output_type": "execute_result"
    }
   ],
   "source": [
    "rvs1 = stats.norm.rvs(loc=5, scale=10, size=500, random_state=rng)\n",
    "\n",
    "rvs2 = stats.norm.rvs(loc=5, scale=10, size=500, random_state=rng)\n",
    "\n",
    "stats.ttest_ind(a, b,equal_var=True)"
   ]
  },
  {
   "cell_type": "code",
   "execution_count": null,
   "id": "7931d2e8-20c2-40f1-bf56-3c9fcd35b228",
   "metadata": {},
   "outputs": [],
   "source": []
  }
 ],
 "metadata": {
  "kernelspec": {
   "display_name": "Python 3 (ipykernel)",
   "language": "python",
   "name": "python3"
  },
  "language_info": {
   "codemirror_mode": {
    "name": "ipython",
    "version": 3
   },
   "file_extension": ".py",
   "mimetype": "text/x-python",
   "name": "python",
   "nbconvert_exporter": "python",
   "pygments_lexer": "ipython3",
   "version": "3.9.7"
  }
 },
 "nbformat": 4,
 "nbformat_minor": 5
}
