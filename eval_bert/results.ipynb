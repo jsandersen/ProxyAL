{
 "cells": [
  {
   "cell_type": "code",
   "execution_count": 2,
   "id": "dc6baff5-a37d-40cb-9107-6e6909ff6782",
   "metadata": {},
   "outputs": [],
   "source": [
    "import sys, os\n",
    "cwd = os.getcwd()\n",
    "sys.path.append(cwd + '/../.') \n",
    "\n",
    "#from src.EvaluationLoop import EvaluationLoop\n",
    "#from src.training_loop2 import QueryStrategy"
   ]
  },
  {
   "cell_type": "code",
   "execution_count": 3,
   "id": "f6b3045e-6a92-49e9-897e-2c055553e093",
   "metadata": {},
   "outputs": [],
   "source": [
    "import numpy as np\n",
    "from sklearn.metrics import f1_score"
   ]
  },
  {
   "cell_type": "code",
   "execution_count": 4,
   "id": "0b052326-6d66-4666-9685-0d326a8e3754",
   "metadata": {},
   "outputs": [],
   "source": [
    "name='final'\n",
    "dataset='reuters'\n",
    "encoding='bert'\n",
    "al_steps=100\n",
    "sample_size_per_step=1\n",
    "save_and_repeat=5\n",
    "query_strategy='unc'\n",
    "random=False\n",
    "\n",
    "name_postfix = \"\"\n",
    "    \n",
    "if random:\n",
    "    print('Random query strategy is used. Selection is ignored.')\n",
    "    name_postfix = \"_rnd\"\n",
    "    query_strategy = QueryStrategy.unc"
   ]
  },
  {
   "cell_type": "code",
   "execution_count": 17,
   "id": "c95af3d6-e41b-4685-8fcd-843e45a78e0d",
   "metadata": {},
   "outputs": [],
   "source": [
    "def print_f1_scores(dataset, encoding, query_strategy, index=-1):\n",
    "    \n",
    "    index_postfix = ''\n",
    "    if index != -1:\n",
    "        index_postfix = f'_{index}'\n",
    "    \n",
    "    name_postfix = ''\n",
    "    if query_strategy == 'rnd':\n",
    "        name_postfix = \"_rnd\"\n",
    "        query_strategy = 'unc'\n",
    "    load_dir = f'./res/{dataset}_{encoding}_{str(query_strategy)}_{name}{name_postfix}_{sample_size_per_step}_{al_steps}_{save_and_repeat}{index_postfix}'\n",
    "\n",
    "    f1_micros = [] \n",
    "    f1_macros = []\n",
    "    \n",
    "    for i in range(5):\n",
    "        y_pred = np.load(f'{load_dir}/y_pred_{i}.npy')\n",
    "        y_true = np.load(f'{load_dir}/y_true_{i}.npy')\n",
    "        f1_micros.append(f1_score(y_true, y_pred, average='micro'))\n",
    "        f1_macros.append(f1_score(y_true, y_pred, average='macro'))\n",
    "\n",
    "    f1_micros = np.array(f1_micros)\n",
    "    f1_macros = np.array(f1_macros)\n",
    "    print(encoding, round(f1_micros.mean(), 4), round(f1_micros.std(), 4), round(f1_macros.mean(), 4), round(f1_macros.std(), 4))"
   ]
  },
  {
   "cell_type": "code",
   "execution_count": 21,
   "id": "b7865980-6134-4895-a56b-9fc2f2812230",
   "metadata": {},
   "outputs": [
    {
     "name": "stdout",
     "output_type": "stream",
     "text": [
      "unc sbert 0.7455 0.0165 0.6653 0.033\n"
     ]
    }
   ],
   "source": [
    "strategy = ['unc']\n",
    "for i in strategy:\n",
    "    print(i, '', end='')\n",
    "    print_f1_scores('app_store', 'sbert', i, -5)"
   ]
  },
  {
   "cell_type": "code",
   "execution_count": null,
   "id": "99dd52d3-89a1-40cf-b040-efb78ddb7738",
   "metadata": {},
   "outputs": [],
   "source": []
  },
  {
   "cell_type": "code",
   "execution_count": null,
   "id": "1e49aa0a-4fb8-4b9b-8b01-d4b5be9bf454",
   "metadata": {},
   "outputs": [],
   "source": []
  },
  {
   "cell_type": "code",
   "execution_count": 7,
   "id": "e9c77a49-de70-49e5-8d56-a029648d9733",
   "metadata": {},
   "outputs": [
    {
     "name": "stdout",
     "output_type": "stream",
     "text": [
      "unc sbert 0.9772 0.0022 0.9519 0.0073\n",
      "rnd sbert 0.9568 0.0127 0.859 0.0847\n"
     ]
    }
   ],
   "source": [
    "strategy = ['unc', 'rnd']\n",
    "for i in strategy:\n",
    "    print(i, '', end='')\n",
    "    print_f1_scores('reuters', 'sbert', i)"
   ]
  },
  {
   "cell_type": "code",
   "execution_count": 112,
   "id": "c53f0656-b6e1-41a3-bad9-b1e5a90f36e7",
   "metadata": {},
   "outputs": [
    {
     "name": "stdout",
     "output_type": "stream",
     "text": [
      "unc sbert 0.958 0.0052 0.922 0.0099\n",
      "rnd sbert 0.9222 0.0148 0.7663 0.0504\n"
     ]
    }
   ],
   "source": [
    "strategy = ['unc', 'rnd']\n",
    "name='final'\n",
    "for i in strategy:\n",
    "    print(i, '', end='')\n",
    "    print_f1_scores('reuters', 'sbert', i)"
   ]
  },
  {
   "cell_type": "code",
   "execution_count": 48,
   "id": "9e2d82b2-0c51-4874-a9ba-f1d1420fc43e",
   "metadata": {},
   "outputs": [
    {
     "name": "stdout",
     "output_type": "stream",
     "text": [
      "unc bert 0.9441 0.005 0.8959 0.0108\n",
      "isli bert 0.9454 0.0034 0.8996 0.0083\n",
      "isli_density bert 0.9488 0.0029 0.9068 0.0053\n",
      "isls bert 0.945 0.0023 0.9004 0.0059\n",
      "isls_density bert 0.949 0.0053 0.9077 0.0097\n",
      "rnd bert 0.935 0.0064 0.8805 0.014\n"
     ]
    }
   ],
   "source": [
    "strategy = ['unc', 'isli', 'isli_density', 'isls', 'isls_density', 'rnd']\n",
    "for i in strategy:\n",
    "    print(i, '', end='')\n",
    "    print_f1_scores('toxic', 'bert', i)"
   ]
  },
  {
   "cell_type": "code",
   "execution_count": 45,
   "id": "1e7e5d62-90aa-4092-8406-f90eca27c8c0",
   "metadata": {},
   "outputs": [
    {
     "name": "stdout",
     "output_type": "stream",
     "text": [
      "unc sif 0.94 0.0044 0.8925 0.0071\n",
      "isli sif 0.9392 0.0055 0.8874 0.0114\n",
      "isli_density sif 0.9423 0.0039 0.8976 0.0059\n",
      "isls sif 0.9383 0.0032 0.8881 0.0041\n",
      "isls_density sif 0.9424 0.0022 0.8995 0.0059\n",
      "rnd sif 0.9323 0.0061 0.8738 0.0136\n"
     ]
    }
   ],
   "source": [
    "strategy = ['unc', 'isli', 'isli_density', 'isls', 'isls_density', 'rnd']\n",
    "for i in strategy:\n",
    "    print(i, '', end='')\n",
    "    print_f1_scores('toxic', 'sif', i)"
   ]
  },
  {
   "cell_type": "code",
   "execution_count": 5,
   "id": "6e280d44-bba3-42fa-8ba5-e3223e9ce5c6",
   "metadata": {},
   "outputs": [
    {
     "name": "stdout",
     "output_type": "stream",
     "text": [
      "sbert 0.9772 0.0022 0.9519 0.0073\n",
      "sbert 0.9758 0.0025 0.9491 0.006\n",
      "sbert 0.9785 0.0027 0.9542 0.0079\n",
      "sbert 0.9801 0.0018 0.956 0.0027\n",
      "sbert 0.9789 0.004 0.954 0.0071\n",
      "sbert 0.9568 0.0127 0.859 0.0847\n"
     ]
    }
   ],
   "source": [
    "strategy = ['unc', 'isli', 'isli_density', 'isls', 'isls_density', 'rnd']\n",
    "for i in strategy:\n",
    "    print_f1_scores('reuters', 'sbert', i)"
   ]
  },
  {
   "cell_type": "code",
   "execution_count": 6,
   "id": "49aa03bc-48e5-429b-b5d3-a336f1aae441",
   "metadata": {},
   "outputs": [
    {
     "ename": "FileNotFoundError",
     "evalue": "[Errno 2] No such file or directory: './res/hate_speech_bert_unc_test_1_100_5/y_pred_0.npy'",
     "output_type": "error",
     "traceback": [
      "\u001b[0;31m---------------------------------------------------------------------------\u001b[0m",
      "\u001b[0;31mFileNotFoundError\u001b[0m                         Traceback (most recent call last)",
      "\u001b[0;32m/tmp/ipykernel_11129/1323134754.py\u001b[0m in \u001b[0;36m<module>\u001b[0;34m\u001b[0m\n\u001b[1;32m      1\u001b[0m \u001b[0mstrategy\u001b[0m \u001b[0;34m=\u001b[0m \u001b[0;34m[\u001b[0m\u001b[0;34m'unc'\u001b[0m\u001b[0;34m,\u001b[0m \u001b[0;34m'rnd'\u001b[0m\u001b[0;34m]\u001b[0m\u001b[0;34m\u001b[0m\u001b[0;34m\u001b[0m\u001b[0m\n\u001b[1;32m      2\u001b[0m \u001b[0;32mfor\u001b[0m \u001b[0mi\u001b[0m \u001b[0;32min\u001b[0m \u001b[0mstrategy\u001b[0m\u001b[0;34m:\u001b[0m\u001b[0;34m\u001b[0m\u001b[0;34m\u001b[0m\u001b[0m\n\u001b[0;32m----> 3\u001b[0;31m     \u001b[0mprint_f1_scores\u001b[0m\u001b[0;34m(\u001b[0m\u001b[0;34m'hate_speech'\u001b[0m\u001b[0;34m,\u001b[0m \u001b[0;34m'bert'\u001b[0m\u001b[0;34m,\u001b[0m \u001b[0mi\u001b[0m\u001b[0;34m)\u001b[0m\u001b[0;34m\u001b[0m\u001b[0;34m\u001b[0m\u001b[0m\n\u001b[0m",
      "\u001b[0;32m/tmp/ipykernel_11129/47558000.py\u001b[0m in \u001b[0;36mprint_f1_scores\u001b[0;34m(dataset, encoding, query_strategy)\u001b[0m\n\u001b[1;32m     11\u001b[0m \u001b[0;34m\u001b[0m\u001b[0m\n\u001b[1;32m     12\u001b[0m     \u001b[0;32mfor\u001b[0m \u001b[0mi\u001b[0m \u001b[0;32min\u001b[0m \u001b[0mrange\u001b[0m\u001b[0;34m(\u001b[0m\u001b[0;36m5\u001b[0m\u001b[0;34m)\u001b[0m\u001b[0;34m:\u001b[0m\u001b[0;34m\u001b[0m\u001b[0;34m\u001b[0m\u001b[0m\n\u001b[0;32m---> 13\u001b[0;31m         \u001b[0my_pred\u001b[0m \u001b[0;34m=\u001b[0m \u001b[0mnp\u001b[0m\u001b[0;34m.\u001b[0m\u001b[0mload\u001b[0m\u001b[0;34m(\u001b[0m\u001b[0;34mf'{load_dir}/y_pred_{i}.npy'\u001b[0m\u001b[0;34m)\u001b[0m\u001b[0;34m\u001b[0m\u001b[0;34m\u001b[0m\u001b[0m\n\u001b[0m\u001b[1;32m     14\u001b[0m         \u001b[0my_true\u001b[0m \u001b[0;34m=\u001b[0m \u001b[0mnp\u001b[0m\u001b[0;34m.\u001b[0m\u001b[0mload\u001b[0m\u001b[0;34m(\u001b[0m\u001b[0;34mf'{load_dir}/y_true_{i}.npy'\u001b[0m\u001b[0;34m)\u001b[0m\u001b[0;34m\u001b[0m\u001b[0;34m\u001b[0m\u001b[0m\n\u001b[1;32m     15\u001b[0m         \u001b[0mf1_micros\u001b[0m\u001b[0;34m.\u001b[0m\u001b[0mappend\u001b[0m\u001b[0;34m(\u001b[0m\u001b[0mf1_score\u001b[0m\u001b[0;34m(\u001b[0m\u001b[0my_true\u001b[0m\u001b[0;34m,\u001b[0m \u001b[0my_pred\u001b[0m\u001b[0;34m,\u001b[0m \u001b[0maverage\u001b[0m\u001b[0;34m=\u001b[0m\u001b[0;34m'micro'\u001b[0m\u001b[0;34m)\u001b[0m\u001b[0;34m)\u001b[0m\u001b[0;34m\u001b[0m\u001b[0;34m\u001b[0m\u001b[0m\n",
      "\u001b[0;32m/opt/conda/lib/python3.9/site-packages/numpy/lib/npyio.py\u001b[0m in \u001b[0;36mload\u001b[0;34m(file, mmap_mode, allow_pickle, fix_imports, encoding)\u001b[0m\n\u001b[1;32m    414\u001b[0m             \u001b[0mown_fid\u001b[0m \u001b[0;34m=\u001b[0m \u001b[0;32mFalse\u001b[0m\u001b[0;34m\u001b[0m\u001b[0;34m\u001b[0m\u001b[0m\n\u001b[1;32m    415\u001b[0m         \u001b[0;32melse\u001b[0m\u001b[0;34m:\u001b[0m\u001b[0;34m\u001b[0m\u001b[0;34m\u001b[0m\u001b[0m\n\u001b[0;32m--> 416\u001b[0;31m             \u001b[0mfid\u001b[0m \u001b[0;34m=\u001b[0m \u001b[0mstack\u001b[0m\u001b[0;34m.\u001b[0m\u001b[0menter_context\u001b[0m\u001b[0;34m(\u001b[0m\u001b[0mopen\u001b[0m\u001b[0;34m(\u001b[0m\u001b[0mos_fspath\u001b[0m\u001b[0;34m(\u001b[0m\u001b[0mfile\u001b[0m\u001b[0;34m)\u001b[0m\u001b[0;34m,\u001b[0m \u001b[0;34m\"rb\"\u001b[0m\u001b[0;34m)\u001b[0m\u001b[0;34m)\u001b[0m\u001b[0;34m\u001b[0m\u001b[0;34m\u001b[0m\u001b[0m\n\u001b[0m\u001b[1;32m    417\u001b[0m             \u001b[0mown_fid\u001b[0m \u001b[0;34m=\u001b[0m \u001b[0;32mTrue\u001b[0m\u001b[0;34m\u001b[0m\u001b[0;34m\u001b[0m\u001b[0m\n\u001b[1;32m    418\u001b[0m \u001b[0;34m\u001b[0m\u001b[0m\n",
      "\u001b[0;31mFileNotFoundError\u001b[0m: [Errno 2] No such file or directory: './res/hate_speech_bert_unc_test_1_100_5/y_pred_0.npy'"
     ]
    }
   ],
   "source": [
    "strategy = ['unc', 'rnd']\n",
    "for i in strategy:\n",
    "    print_f1_scores('hate_speech', 'bert', i)"
   ]
  },
  {
   "cell_type": "code",
   "execution_count": 20,
   "id": "3508980c-7089-456c-bee5-08b2da2d73d7",
   "metadata": {},
   "outputs": [
    {
     "name": "stdout",
     "output_type": "stream",
     "text": [
      "bert 0.8598 0.0058 0.822 0.0077\n",
      "bert 0.8605 0.0064 0.823 0.0086\n",
      "bert 0.8583 0.0031 0.8199 0.0045\n",
      "bert 0.8643 0.0075 0.8279 0.0088\n",
      "bert 0.8623 0.0074 0.8263 0.0084\n",
      "bert 0.8478 0.0087 0.8049 0.0115\n"
     ]
    }
   ],
   "source": [
    "strategy = ['unc', 'isli', 'isli_density', 'isls', 'isls_density', 'rnd']\n",
    "for i in strategy:\n",
    "    print_f1_scores('app_store', 'bert', i)"
   ]
  },
  {
   "cell_type": "code",
   "execution_count": 21,
   "id": "a8f7c2dd-2af2-43d2-bf59-a6b4fd14fa9b",
   "metadata": {},
   "outputs": [
    {
     "name": "stdout",
     "output_type": "stream",
     "text": [
      "elmo 0.8612 0.0024 0.8235 0.0035\n",
      "elmo 0.8603 0.0064 0.823 0.008\n",
      "elmo 0.8618 0.0045 0.8222 0.0048\n",
      "elmo 0.8604 0.0069 0.8223 0.0082\n",
      "elmo 0.8562 0.0037 0.8169 0.0073\n",
      "elmo 0.8443 0.0066 0.7988 0.0081\n"
     ]
    }
   ],
   "source": [
    "strategy = ['unc', 'isli', 'isli_density', 'isls', 'isls_density', 'rnd']\n",
    "for i in strategy:\n",
    "    print_f1_scores('app_store', 'elmo', i)"
   ]
  },
  {
   "cell_type": "code",
   "execution_count": 22,
   "id": "6108afec-ed5e-4bd6-ac23-581bbd97618e",
   "metadata": {},
   "outputs": [
    {
     "name": "stdout",
     "output_type": "stream",
     "text": [
      "sif 0.8547 0.0086 0.817 0.0092\n",
      "sif 0.8499 0.0072 0.8116 0.0086\n",
      "sif 0.8555 0.0042 0.8185 0.0031\n",
      "sif 0.8539 0.0049 0.8157 0.0072\n",
      "sif 0.8579 0.0065 0.8213 0.0078\n",
      "sif 0.8489 0.0075 0.8059 0.0116\n"
     ]
    }
   ],
   "source": [
    "strategy = ['unc', 'isli', 'isli_density', 'isls', 'isls_density', 'rnd']\n",
    "for i in strategy:\n",
    "    print_f1_scores('app_store', 'sif', i)"
   ]
  },
  {
   "cell_type": "code",
   "execution_count": 23,
   "id": "4b66d483-1b36-4fd7-8566-b1f5f981a3e8",
   "metadata": {},
   "outputs": [
    {
     "name": "stdout",
     "output_type": "stream",
     "text": [
      "sbert 0.8777 0.0105 0.8776 0.0105\n",
      "sbert 0.8845 0.0076 0.8844 0.0077\n",
      "sbert 0.8778 0.0033 0.8776 0.0034\n",
      "sbert 0.8752 0.0075 0.8751 0.0076\n",
      "sbert 0.886 0.0037 0.886 0.0037\n",
      "sbert 0.8936 0.0039 0.8935 0.004\n"
     ]
    }
   ],
   "source": [
    "strategy = ['unc', 'isli', 'isli_density', 'isls', 'isls_density', 'rnd']\n",
    "for i in strategy:\n",
    "    print_f1_scores('imdb', 'sbert', i)"
   ]
  },
  {
   "cell_type": "code",
   "execution_count": 30,
   "id": "23096d25-87c6-45b2-9199-ae6239d18f21",
   "metadata": {},
   "outputs": [
    {
     "name": "stdout",
     "output_type": "stream",
     "text": [
      "bert 0.8837 0.0141 0.8836 0.0142\n",
      "bert 0.8871 0.0067 0.887 0.0067\n",
      "bert 0.8879 0.0138 0.8878 0.014\n",
      "bert 0.8875 0.0076 0.8875 0.0076\n",
      "bert 0.8843 0.0072 0.8842 0.0072\n",
      "bert 0.8914 0.005 0.8913 0.005\n"
     ]
    }
   ],
   "source": [
    "strategy = ['unc', 'isli', 'isli_density', 'isls', 'isls_density', 'rnd']\n",
    "for i in strategy:\n",
    "    print_f1_scores('imdb', 'bert', i)"
   ]
  },
  {
   "cell_type": "code",
   "execution_count": 25,
   "id": "dfac6e24-4892-4ea2-b474-cfafb64c0048",
   "metadata": {},
   "outputs": [
    {
     "name": "stdout",
     "output_type": "stream",
     "text": [
      "elmo 0.8808 0.0058 0.8806 0.0059\n",
      "elmo 0.8893 0.0033 0.8893 0.0033\n",
      "elmo 0.8873 0.0057 0.8872 0.0058\n",
      "elmo 0.8883 0.0071 0.8883 0.0071\n",
      "elmo 0.8874 0.0061 0.8874 0.0061\n",
      "elmo 0.8913 0.0048 0.8913 0.0048\n"
     ]
    }
   ],
   "source": [
    "strategy = ['unc', 'isli', 'isli_density', 'isls', 'isls_density', 'rnd']\n",
    "for i in strategy:\n",
    "    print_f1_scores('imdb', 'elmo', i)"
   ]
  },
  {
   "cell_type": "code",
   "execution_count": 66,
   "id": "3d7cff9b-076e-4ad6-933a-52e8e18cda9f",
   "metadata": {},
   "outputs": [
    {
     "name": "stdout",
     "output_type": "stream",
     "text": [
      "sif 0.8962 0.0044 0.8961 0.0044\n",
      "sif 0.8811 0.0064 0.881 0.0065\n",
      "sif 0.8815 0.0038 0.8814 0.0039\n",
      "sif 0.8843 0.0114 0.884 0.0118\n",
      "sif 0.8871 0.0059 0.887 0.0059\n",
      "sif 0.8917 0.0055 0.8916 0.0055\n"
     ]
    }
   ],
   "source": [
    "strategy = ['unc', 'isli', 'isli_density', 'isls', 'isls_density', 'rnd']\n",
    "for i in strategy:\n",
    "    print_f1_scores('imdb', 'sif', i)"
   ]
  },
  {
   "cell_type": "code",
   "execution_count": 27,
   "id": "d123f325-af23-4b98-ac20-d27dde3ad0fb",
   "metadata": {},
   "outputs": [
    {
     "data": {
      "text/plain": [
       "(0.8530037546933669, 0.8128177430187004)"
      ]
     },
     "execution_count": 27,
     "metadata": {},
     "output_type": "execute_result"
    }
   ],
   "source": [
    "f1_micros.mean(), f1_macros.mean()"
   ]
  },
  {
   "cell_type": "code",
   "execution_count": 31,
   "id": "ae2e5198-118d-4c44-9b8e-40033e344a41",
   "metadata": {},
   "outputs": [
    {
     "data": {
      "text/plain": [
       "(0.852127659574468, 0.8108969124740218)"
      ]
     },
     "execution_count": 31,
     "metadata": {},
     "output_type": "execute_result"
    }
   ],
   "source": [
    "f1_micros.mean(), f1_macros.mean()"
   ]
  },
  {
   "cell_type": "code",
   "execution_count": null,
   "id": "e773cb83-1415-4616-8e5e-f3e00757a007",
   "metadata": {},
   "outputs": [],
   "source": []
  }
 ],
 "metadata": {
  "kernelspec": {
   "display_name": "Python 3 (ipykernel)",
   "language": "python",
   "name": "python3"
  },
  "language_info": {
   "codemirror_mode": {
    "name": "ipython",
    "version": 3
   },
   "file_extension": ".py",
   "mimetype": "text/x-python",
   "name": "python",
   "nbconvert_exporter": "python",
   "pygments_lexer": "ipython3",
   "version": "3.9.7"
  }
 },
 "nbformat": 4,
 "nbformat_minor": 5
}
