{
 "cells": [
  {
   "cell_type": "code",
   "execution_count": 1,
   "id": "55b0498c-3279-42e0-9593-309d2eecc32f",
   "metadata": {},
   "outputs": [],
   "source": [
    "#https://stackoverflow.com/questions/69025750/how-to-fine-tune-huggingface-bert-model-for-text-classification"
   ]
  },
  {
   "cell_type": "code",
   "execution_count": 2,
   "id": "86372a2b-cd39-4659-bb46-0d692c895642",
   "metadata": {},
   "outputs": [
    {
     "name": "stderr",
     "output_type": "stream",
     "text": [
      "<>:10: SyntaxWarning: \"is\" with a literal. Did you mean \"==\"?\n",
      "<>:10: SyntaxWarning: \"is\" with a literal. Did you mean \"==\"?\n",
      "/tmp/ipykernel_716/627383030.py:10: SyntaxWarning: \"is\" with a literal. Did you mean \"==\"?\n",
      "  labels.append(0 if label_dir is \"neg\" else 1)\n"
     ]
    }
   ],
   "source": [
    "from pathlib import Path\n",
    "\n",
    "def read_imdb_split(split_dir):\n",
    "    split_dir = Path(split_dir)\n",
    "    texts = []\n",
    "    labels = []\n",
    "    for label_dir in [\"pos\", \"neg\"]:\n",
    "        for text_file in (split_dir/label_dir).iterdir():\n",
    "            texts.append(text_file.read_text())\n",
    "            labels.append(0 if label_dir is \"neg\" else 1)\n",
    "\n",
    "    return texts, labels\n",
    "\n",
    "train_texts, train_labels = read_imdb_split('./../data/datasets/aclImdb/train')\n",
    "test_texts, test_labels = read_imdb_split('./../data/datasets/aclImdb/test')"
   ]
  },
  {
   "cell_type": "code",
   "execution_count": 3,
   "id": "b37bc210-e441-4dec-87e5-b54969f2ed70",
   "metadata": {},
   "outputs": [],
   "source": [
    "from sklearn.model_selection import train_test_split\n",
    "train_texts, val_texts, train_labels, val_labels = train_test_split(train_texts, train_labels, test_size=.2)"
   ]
  },
  {
   "cell_type": "code",
   "execution_count": 32,
   "id": "95083ad9-d0d9-40c2-b9d5-b408f3f6381e",
   "metadata": {},
   "outputs": [
    {
     "data": {
      "text/plain": [
       "5000"
      ]
     },
     "execution_count": 32,
     "metadata": {},
     "output_type": "execute_result"
    }
   ],
   "source": [
    "len(val_texts)"
   ]
  },
  {
   "cell_type": "code",
   "execution_count": 24,
   "id": "0f71adc3-af55-4cb0-afdb-3026ea637266",
   "metadata": {},
   "outputs": [],
   "source": [
    "from transformers import DistilBertTokenizerFast\n",
    "tokenizer = DistilBertTokenizerFast.from_pretrained('distilbert-base-uncased', max_length=100)"
   ]
  },
  {
   "cell_type": "code",
   "execution_count": 25,
   "id": "82bfe14a-1f98-4328-b6a6-e8eff8668291",
   "metadata": {},
   "outputs": [],
   "source": [
    "val_encodings = tokenizer(val_texts, truncation=True, padding=True)"
   ]
  },
  {
   "cell_type": "code",
   "execution_count": 49,
   "id": "883a59d6-e36f-40db-87aa-d160597f517a",
   "metadata": {},
   "outputs": [
    {
     "name": "stderr",
     "output_type": "stream",
     "text": [
      "Some layers from the model checkpoint at distilbert-base-uncased were not used when initializing TFDistilBertForSequenceClassification: ['vocab_projector', 'vocab_layer_norm', 'vocab_transform', 'activation_13']\n",
      "- This IS expected if you are initializing TFDistilBertForSequenceClassification from the checkpoint of a model trained on another task or with another architecture (e.g. initializing a BertForSequenceClassification model from a BertForPreTraining model).\n",
      "- This IS NOT expected if you are initializing TFDistilBertForSequenceClassification from the checkpoint of a model that you expect to be exactly identical (initializing a BertForSequenceClassification model from a BertForSequenceClassification model).\n",
      "Some layers of TFDistilBertForSequenceClassification were not initialized from the model checkpoint at distilbert-base-uncased and are newly initialized: ['classifier', 'dropout_133', 'pre_classifier']\n",
      "You should probably TRAIN this model on a down-stream task to be able to use it for predictions and inference.\n"
     ]
    }
   ],
   "source": [
    "from transformers import BertTokenizer, TFBertForSequenceClassification, TFDistilBertModel, TFDistilBertForSequenceClassification\n",
    "transformer_model = TFDistilBertForSequenceClassification.from_pretrained('distilbert-base-uncased', output_hidden_states=True, num_labels=2)"
   ]
  },
  {
   "cell_type": "code",
   "execution_count": 50,
   "id": "9736f12f-3ae7-49e0-83e2-cbcf3fd243cb",
   "metadata": {},
   "outputs": [
    {
     "name": "stdout",
     "output_type": "stream",
     "text": [
      "WARNING:tensorflow:The parameters `output_attentions`, `output_hidden_states` and `use_cache` cannot be updated when calling a model.They have to be set to True/False in the config object (i.e.: `config=XConfig.from_pretrained('name', output_attentions=True)`).\n",
      "WARNING:tensorflow:The parameter `return_dict` cannot be set in graph mode and will always be set to `True`.\n"
     ]
    }
   ],
   "source": [
    "import tensorflow as tf\n",
    "input_ids = tf.keras.Input(shape=(768, ),dtype='int32', name='input_ids')\n",
    "attention_mask = tf.keras.Input(shape=(768, ), dtype='int32', name='attention_mask')\n",
    "\n",
    "transformer = transformer_model([input_ids, attention_mask])    \n",
    "hidden_states = transformer[1] # get output_hidden_states\n",
    "\n",
    "hidden_states_size = 4 # count of the last states \n",
    "hiddes_states_ind = list(range(-hidden_states_size, 0, 1))\n",
    "\n",
    "selected_hiddes_states = tf.keras.layers.concatenate(tuple([hidden_states[i] for i in hiddes_states_ind]))"
   ]
  },
  {
   "cell_type": "code",
   "execution_count": 51,
   "id": "9c665cbd-537b-4c76-8b35-e22f403f1743",
   "metadata": {},
   "outputs": [],
   "source": [
    "model = tf.keras.models.Model(inputs = [input_ids, attention_mask], outputs = selected_hiddes_states)"
   ]
  },
  {
   "cell_type": "code",
   "execution_count": 52,
   "id": "15ec574e-8e02-4ff2-8384-8eeadc9ba5ac",
   "metadata": {},
   "outputs": [
    {
     "name": "stdout",
     "output_type": "stream",
     "text": [
      "Model: \"model_3\"\n",
      "__________________________________________________________________________________________________\n",
      "Layer (type)                    Output Shape         Param #     Connected to                     \n",
      "==================================================================================================\n",
      "input_ids (InputLayer)          [(None, 768)]        0                                            \n",
      "__________________________________________________________________________________________________\n",
      "attention_mask (InputLayer)     [(None, 768)]        0                                            \n",
      "__________________________________________________________________________________________________\n",
      "tf_distil_bert_for_sequence_cla TFSequenceClassifier 66955010    input_ids[0][0]                  \n",
      "                                                                 attention_mask[0][0]             \n",
      "__________________________________________________________________________________________________\n",
      "concatenate_3 (Concatenate)     (None, 768, 3072)    0           tf_distil_bert_for_sequence_class\n",
      "                                                                 tf_distil_bert_for_sequence_class\n",
      "                                                                 tf_distil_bert_for_sequence_class\n",
      "                                                                 tf_distil_bert_for_sequence_class\n",
      "==================================================================================================\n",
      "Total params: 66,955,010\n",
      "Trainable params: 66,955,010\n",
      "Non-trainable params: 0\n",
      "__________________________________________________________________________________________________\n"
     ]
    }
   ],
   "source": [
    "model.summary()"
   ]
  },
  {
   "cell_type": "code",
   "execution_count": 53,
   "id": "44bc88b1-86a4-4446-b195-66c6c2b45ac9",
   "metadata": {},
   "outputs": [],
   "source": [
    "def tokenize(sentences, max_length=768, padding='max_length'):\n",
    "    \"\"\"Tokenize using the Huggingface tokenizer\n",
    "    Args:\n",
    "        sentences: String or list of string to tokenize\n",
    "        padding: Padding method ['do_not_pad'|'longest'|'max_length']\n",
    "    \"\"\"\n",
    "    return tokenizer(\n",
    "        sentences,\n",
    "        truncation=True,\n",
    "        padding=padding,\n",
    "        max_length=max_length,\n",
    "        return_tensors=\"tf\"\n",
    "    )"
   ]
  },
  {
   "cell_type": "code",
   "execution_count": 54,
   "id": "5600b681-fa8e-4359-8612-b8b2b16416c3",
   "metadata": {},
   "outputs": [],
   "source": [
    "X = dict(tokenize(val_texts[:2]))"
   ]
  },
  {
   "cell_type": "code",
   "execution_count": 55,
   "id": "719c577c-15db-424d-85e9-4425d06f7f2d",
   "metadata": {},
   "outputs": [],
   "source": [
    "x = model(X)"
   ]
  },
  {
   "cell_type": "code",
   "execution_count": 56,
   "id": "2148d91c-14c3-461e-9888-0cc3ba0ed4c2",
   "metadata": {},
   "outputs": [
    {
     "data": {
      "text/plain": [
       "TensorShape([2, 768, 3072])"
      ]
     },
     "execution_count": 56,
     "metadata": {},
     "output_type": "execute_result"
    }
   ],
   "source": [
    "x.shape"
   ]
  },
  {
   "cell_type": "code",
   "execution_count": null,
   "id": "63dc7123-bbe1-45bc-ae2f-4394203c297a",
   "metadata": {},
   "outputs": [],
   "source": []
  }
 ],
 "metadata": {
  "kernelspec": {
   "display_name": "Python 3 (ipykernel)",
   "language": "python",
   "name": "python3"
  },
  "language_info": {
   "codemirror_mode": {
    "name": "ipython",
    "version": 3
   },
   "file_extension": ".py",
   "mimetype": "text/x-python",
   "name": "python",
   "nbconvert_exporter": "python",
   "pygments_lexer": "ipython3",
   "version": "3.9.7"
  }
 },
 "nbformat": 4,
 "nbformat_minor": 5
}
