{
 "cells": [
  {
   "cell_type": "code",
   "execution_count": null,
   "id": "38c5ae65-0b02-4f27-ac02-70be34729b85",
   "metadata": {},
   "outputs": [],
   "source": [
    "# https://mccormickml.com/2019/05/14/BERT-word-embeddings-tutorial/"
   ]
  },
  {
   "cell_type": "code",
   "execution_count": 10,
   "id": "e235ced2-3582-4ea3-9c30-4fde490dfe60",
   "metadata": {},
   "outputs": [],
   "source": [
    "#https://stackoverflow.com/questions/63201036/add-additional-layers-to-the-huggingface-transformers"
   ]
  },
  {
   "cell_type": "code",
   "execution_count": 1,
   "id": "37ddbd7d-a9f4-41f4-84a3-1a34d53eba8e",
   "metadata": {},
   "outputs": [],
   "source": [
    "#!pip install transformers"
   ]
  },
  {
   "cell_type": "code",
   "execution_count": null,
   "id": "5c3240ee-4a34-41e9-ada1-0c357c7de331",
   "metadata": {},
   "outputs": [
    {
     "name": "stderr",
     "output_type": "stream",
     "text": [
      "2021-11-01 08:06:18.118264: I tensorflow/stream_executor/cuda/cuda_gpu_executor.cc:937] successful NUMA node read from SysFS had negative value (-1), but there must be at least one NUMA node, so returning NUMA node zero\n",
      "2021-11-01 08:06:18.131671: I tensorflow/stream_executor/cuda/cuda_gpu_executor.cc:937] successful NUMA node read from SysFS had negative value (-1), but there must be at least one NUMA node, so returning NUMA node zero\n",
      "2021-11-01 08:06:18.132333: I tensorflow/stream_executor/cuda/cuda_gpu_executor.cc:937] successful NUMA node read from SysFS had negative value (-1), but there must be at least one NUMA node, so returning NUMA node zero\n",
      "2021-11-01 08:06:18.133575: I tensorflow/core/platform/cpu_feature_guard.cc:142] This TensorFlow binary is optimized with oneAPI Deep Neural Network Library (oneDNN) to use the following CPU instructions in performance-critical operations:  AVX2 AVX512F FMA\n",
      "To enable them in other operations, rebuild TensorFlow with the appropriate compiler flags.\n",
      "2021-11-01 08:06:18.135377: I tensorflow/stream_executor/cuda/cuda_gpu_executor.cc:937] successful NUMA node read from SysFS had negative value (-1), but there must be at least one NUMA node, so returning NUMA node zero\n",
      "2021-11-01 08:06:18.135809: I tensorflow/stream_executor/cuda/cuda_gpu_executor.cc:937] successful NUMA node read from SysFS had negative value (-1), but there must be at least one NUMA node, so returning NUMA node zero\n",
      "2021-11-01 08:06:18.136273: I tensorflow/stream_executor/cuda/cuda_gpu_executor.cc:937] successful NUMA node read from SysFS had negative value (-1), but there must be at least one NUMA node, so returning NUMA node zero\n",
      "2021-11-01 08:06:22.890057: I tensorflow/stream_executor/cuda/cuda_gpu_executor.cc:937] successful NUMA node read from SysFS had negative value (-1), but there must be at least one NUMA node, so returning NUMA node zero\n",
      "2021-11-01 08:06:22.890489: I tensorflow/stream_executor/cuda/cuda_gpu_executor.cc:937] successful NUMA node read from SysFS had negative value (-1), but there must be at least one NUMA node, so returning NUMA node zero\n",
      "2021-11-01 08:06:22.890799: I tensorflow/stream_executor/cuda/cuda_gpu_executor.cc:937] successful NUMA node read from SysFS had negative value (-1), but there must be at least one NUMA node, so returning NUMA node zero\n",
      "2021-11-01 08:06:22.891147: I tensorflow/core/common_runtime/gpu/gpu_device.cc:1510] Created device /job:localhost/replica:0/task:0/device:GPU:0 with 27914 MB memory:  -> device: 0, name: GRID V100S-32Q, pci bus id: 0000:06:00.0, compute capability: 7.0\n",
      "Some layers from the model checkpoint at bert-base-uncased were not used when initializing TFBertModel: ['nsp___cls', 'mlm___cls']\n",
      "- This IS expected if you are initializing TFBertModel from the checkpoint of a model trained on another task or with another architecture (e.g. initializing a BertForSequenceClassification model from a BertForPreTraining model).\n",
      "- This IS NOT expected if you are initializing TFBertModel from the checkpoint of a model that you expect to be exactly identical (initializing a BertForSequenceClassification model from a BertForSequenceClassification model).\n",
      "All the layers of TFBertModel were initialized from the model checkpoint at bert-base-uncased.\n",
      "If your task is similar to the task the model of the checkpoint was trained on, you can already use TFBertModel for predictions without further training.\n"
     ]
    }
   ],
   "source": [
    "from transformers import BertTokenizer, TFBertModel\n",
    "tokenizer = BertTokenizer.from_pretrained('bert-base-uncased')\n",
    "transformer_model = TFBertModel.from_pretrained('bert-base-uncased', output_hidden_states=False)"
   ]
  },
  {
   "cell_type": "code",
   "execution_count": null,
   "id": "7d705b66-99b8-4221-9db6-9ee0a97560ae",
   "metadata": {},
   "outputs": [],
   "source": []
  },
  {
   "cell_type": "code",
   "execution_count": 2,
   "id": "cdf198db-1c7e-4a86-b0a2-39f335b2ddf4",
   "metadata": {},
   "outputs": [
    {
     "name": "stdout",
     "output_type": "stream",
     "text": [
      "WARNING:tensorflow:The parameters `output_attentions`, `output_hidden_states` and `use_cache` cannot be updated when calling a model.They have to be set to True/False in the config object (i.e.: `config=XConfig.from_pretrained('name', output_attentions=True)`).\n",
      "WARNING:tensorflow:AutoGraph could not transform <bound method Socket.send of <zmq.Socket(zmq.PUSH) at 0x7fc752b36e20>> and will run it as-is.\n",
      "Please report this to the TensorFlow team. When filing the bug, set the verbosity to 10 (on Linux, `export AUTOGRAPH_VERBOSITY=10`) and attach the full output.\n",
      "Cause: module, class, method, function, traceback, frame, or code object was expected, got cython_function_or_method\n",
      "To silence this warning, decorate the function with @tf.autograph.experimental.do_not_convert\n",
      "WARNING: AutoGraph could not transform <bound method Socket.send of <zmq.Socket(zmq.PUSH) at 0x7fc752b36e20>> and will run it as-is.\n",
      "Please report this to the TensorFlow team. When filing the bug, set the verbosity to 10 (on Linux, `export AUTOGRAPH_VERBOSITY=10`) and attach the full output.\n",
      "Cause: module, class, method, function, traceback, frame, or code object was expected, got cython_function_or_method\n",
      "To silence this warning, decorate the function with @tf.autograph.experimental.do_not_convert\n",
      "WARNING:tensorflow:The parameter `return_dict` cannot be set in graph mode and will always be set to `True`.\n"
     ]
    }
   ],
   "source": [
    "import tensorflow as tf\n",
    "input_ids = tf.keras.Input(shape=(768,), name='input_token', dtype='int32')\n",
    "attention_mask = tf.keras.Input(shape=(768,), name='masked_token', dtype='int32')\n",
    "\n",
    "embedding_layer = transformer_model([input_ids, attention_mask])[0]\n",
    "cls_token = embedding_layer[:,0,:]\n",
    "\n",
    "bert_encoder = tf.keras.models.Model(inputs = {\"input_ids\": input_ids, \"attention_mask\": attention_mask}, outputs = cls_token)"
   ]
  },
  {
   "cell_type": "code",
   "execution_count": 3,
   "id": "fc5be3a4-2616-47b9-a960-4718c5392a43",
   "metadata": {},
   "outputs": [],
   "source": [
    "from transformers import AutoTokenizer\n",
    "tokenizer = AutoTokenizer.from_pretrained('bert-base-uncased')"
   ]
  },
  {
   "cell_type": "code",
   "execution_count": 4,
   "id": "4307d433-d20c-4cfa-a58d-da63ba19694c",
   "metadata": {},
   "outputs": [],
   "source": [
    "def tokenize(sentences, max_length=768, padding='max_length'):\n",
    "    \"\"\"Tokenize using the Huggingface tokenizer\n",
    "    Args:\n",
    "        sentences: String or list of string to tokenize\n",
    "        padding: Padding method ['do_not_pad'|'longest'|'max_length']\n",
    "    \"\"\"\n",
    "    return tokenizer(\n",
    "        sentences,\n",
    "        truncation=True,\n",
    "        padding=padding,\n",
    "        max_length=max_length,\n",
    "        return_tensors=\"tf\"\n",
    "    )"
   ]
  },
  {
   "cell_type": "code",
   "execution_count": 5,
   "id": "8c82dc62-e53b-4573-9cbc-4929c6c0f50d",
   "metadata": {},
   "outputs": [],
   "source": [
    "batch_sentences = [\"Hello I'm a single sentence\", \"And another sentence\", \"And the very very last one\"]"
   ]
  },
  {
   "cell_type": "code",
   "execution_count": 6,
   "id": "f5a0cb59-675b-4c3e-b95a-38671d1fa208",
   "metadata": {},
   "outputs": [],
   "source": [
    "X = dict(tokenize(batch_sentences))"
   ]
  },
  {
   "cell_type": "code",
   "execution_count": 7,
   "id": "530c2c89-18ac-4a5f-a413-244ba5b40242",
   "metadata": {},
   "outputs": [
    {
     "name": "stderr",
     "output_type": "stream",
     "text": [
      "/opt/conda/lib/python3.9/site-packages/keras/engine/functional.py:582: UserWarning: Input dict contained keys ['token_type_ids'] which did not match any model input. They will be ignored by the model.\n",
      "  warnings.warn(\n"
     ]
    },
    {
     "data": {
      "text/plain": [
       "TensorShape([3, 768])"
      ]
     },
     "execution_count": 7,
     "metadata": {},
     "output_type": "execute_result"
    }
   ],
   "source": [
    "bert_encoder(X).shape"
   ]
  },
  {
   "cell_type": "code",
   "execution_count": null,
   "id": "d34e8f02-034d-4798-857b-8804c3c2bead",
   "metadata": {},
   "outputs": [],
   "source": []
  },
  {
   "cell_type": "code",
   "execution_count": 24,
   "id": "dda9b77a-7b7a-43c6-8407-2c7fa91cf69f",
   "metadata": {},
   "outputs": [],
   "source": [
    "###"
   ]
  },
  {
   "cell_type": "code",
   "execution_count": 11,
   "id": "ed8338a5-41be-4d71-a7b5-4c5dfeca40b8",
   "metadata": {},
   "outputs": [
    {
     "name": "stdout",
     "output_type": "stream",
     "text": [
      "Starting to embedd app_store data set ...\n"
     ]
    }
   ],
   "source": [
    "data_set = 'app_store'\n",
    "\n",
    "print('Starting to embedd %s data set ...' % data_set)"
   ]
  },
  {
   "cell_type": "code",
   "execution_count": 12,
   "id": "8b28fcae-7ee8-4e07-b689-aa3012f6dee1",
   "metadata": {},
   "outputs": [
    {
     "name": "stdout",
     "output_type": "stream",
     "text": [
      "Load app_store data set ...\n"
     ]
    }
   ],
   "source": [
    "import numpy as np\n",
    "print('Load %s data set ...' % data_set)\n",
    "data_X = np.load('./../data/datasets/%s_X.npy' % data_set)"
   ]
  },
  {
   "cell_type": "code",
   "execution_count": 13,
   "id": "de849ba6-f900-4db9-902c-a8abcd34d6f1",
   "metadata": {},
   "outputs": [],
   "source": [
    "dat_X_tok= tokenize(data_X.tolist())"
   ]
  },
  {
   "cell_type": "code",
   "execution_count": 17,
   "id": "ff6a696a-e469-497e-838c-046ccf211d71",
   "metadata": {},
   "outputs": [
    {
     "data": {
      "text/plain": [
       "[Encoding(num_tokens=768, attributes=[ids, type_ids, tokens, offsets, attention_mask, special_tokens_mask, overflowing]),\n",
       " Encoding(num_tokens=768, attributes=[ids, type_ids, tokens, offsets, attention_mask, special_tokens_mask, overflowing]),\n",
       " Encoding(num_tokens=768, attributes=[ids, type_ids, tokens, offsets, attention_mask, special_tokens_mask, overflowing]),\n",
       " Encoding(num_tokens=768, attributes=[ids, type_ids, tokens, offsets, attention_mask, special_tokens_mask, overflowing]),\n",
       " Encoding(num_tokens=768, attributes=[ids, type_ids, tokens, offsets, attention_mask, special_tokens_mask, overflowing])]"
      ]
     },
     "execution_count": 17,
     "metadata": {},
     "output_type": "execute_result"
    }
   ],
   "source": [
    "dat_X_tok[i:i+5]"
   ]
  },
  {
   "cell_type": "code",
   "execution_count": 14,
   "id": "ced481f6-2b22-4610-8d92-1a7801dce714",
   "metadata": {},
   "outputs": [],
   "source": [
    "from tqdm import tqdm"
   ]
  },
  {
   "cell_type": "code",
   "execution_count": 20,
   "id": "d195e2ac-cb11-4f2a-982c-9746640a12e7",
   "metadata": {},
   "outputs": [
    {
     "name": "stderr",
     "output_type": "stream",
     "text": [
      "100%|██████████| 64/64 [02:01<00:00,  1.90s/it]\n"
     ]
    }
   ],
   "source": [
    "embeddings = []\n",
    "for i in tqdm(range(0, len(data_X), 100)):\n",
    "    X = dict(tokenize(data_X[i:i+100].tolist()))\n",
    "    embed = bert_encoder(X).numpy().tolist()\n",
    "    embeddings.extend(embed)"
   ]
  },
  {
   "cell_type": "code",
   "execution_count": null,
   "id": "29b92e1d-f9f5-408d-8737-a6a4b60762b1",
   "metadata": {},
   "outputs": [],
   "source": []
  },
  {
   "cell_type": "code",
   "execution_count": 32,
   "id": "f95a9e62-e548-4a83-977e-bb84406a4333",
   "metadata": {},
   "outputs": [
    {
     "name": "stderr",
     "output_type": "stream",
     "text": [
      "2021-11-01 08:01:39.529919: W tensorflow/core/common_runtime/bfc_allocator.cc:457] Allocator (GPU_0_bfc) ran out of memory trying to allocate 14.04GiB (rounded to 15080620032)requested by op Tile\n",
      "If the cause is memory fragmentation maybe the environment variable 'TF_GPU_ALLOCATOR=cuda_malloc_async' will improve the situation. \n",
      "Current allocation summary follows.\n",
      "Current allocation summary follows.\n",
      "2021-11-01 08:01:39.530021: I tensorflow/core/common_runtime/bfc_allocator.cc:1004] BFCAllocator dump for GPU_0_bfc\n",
      "2021-11-01 08:01:39.530079: I tensorflow/core/common_runtime/bfc_allocator.cc:1011] Bin (256): \tTotal Chunks: 13, Chunks in use: 11. 3.2KiB allocated for chunks. 2.8KiB in use in bin. 48B client-requested in use in bin.\n",
      "2021-11-01 08:01:39.530090: I tensorflow/core/common_runtime/bfc_allocator.cc:1011] Bin (512): \tTotal Chunks: 0, Chunks in use: 0. 0B allocated for chunks. 0B in use in bin. 0B client-requested in use in bin.\n",
      "2021-11-01 08:01:39.530099: I tensorflow/core/common_runtime/bfc_allocator.cc:1011] Bin (1024): \tTotal Chunks: 1, Chunks in use: 1. 1.2KiB allocated for chunks. 1.2KiB in use in bin. 1.0KiB client-requested in use in bin.\n",
      "2021-11-01 08:01:39.530110: I tensorflow/core/common_runtime/bfc_allocator.cc:1011] Bin (2048): \tTotal Chunks: 111, Chunks in use: 111. 333.2KiB allocated for chunks. 333.2KiB in use in bin. 333.0KiB client-requested in use in bin.\n",
      "2021-11-01 08:01:39.530119: I tensorflow/core/common_runtime/bfc_allocator.cc:1011] Bin (4096): \tTotal Chunks: 2, Chunks in use: 2. 11.8KiB allocated for chunks. 11.8KiB in use in bin. 9.0KiB client-requested in use in bin.\n",
      "2021-11-01 08:01:39.530127: I tensorflow/core/common_runtime/bfc_allocator.cc:1011] Bin (8192): \tTotal Chunks: 10, Chunks in use: 10. 123.0KiB allocated for chunks. 123.0KiB in use in bin. 117.0KiB client-requested in use in bin.\n",
      "2021-11-01 08:01:39.530136: I tensorflow/core/common_runtime/bfc_allocator.cc:1011] Bin (16384): \tTotal Chunks: 4, Chunks in use: 3. 84.8KiB allocated for chunks. 63.8KiB in use in bin. 36.0KiB client-requested in use in bin.\n",
      "2021-11-01 08:01:39.530144: I tensorflow/core/common_runtime/bfc_allocator.cc:1011] Bin (32768): \tTotal Chunks: 0, Chunks in use: 0. 0B allocated for chunks. 0B in use in bin. 0B client-requested in use in bin.\n",
      "2021-11-01 08:01:39.530152: I tensorflow/core/common_runtime/bfc_allocator.cc:1011] Bin (65536): \tTotal Chunks: 0, Chunks in use: 0. 0B allocated for chunks. 0B in use in bin. 0B client-requested in use in bin.\n",
      "2021-11-01 08:01:39.530159: I tensorflow/core/common_runtime/bfc_allocator.cc:1011] Bin (131072): \tTotal Chunks: 0, Chunks in use: 0. 0B allocated for chunks. 0B in use in bin. 0B client-requested in use in bin.\n",
      "2021-11-01 08:01:39.530167: I tensorflow/core/common_runtime/bfc_allocator.cc:1011] Bin (262144): \tTotal Chunks: 0, Chunks in use: 0. 0B allocated for chunks. 0B in use in bin. 0B client-requested in use in bin.\n",
      "2021-11-01 08:01:39.530174: I tensorflow/core/common_runtime/bfc_allocator.cc:1011] Bin (524288): \tTotal Chunks: 0, Chunks in use: 0. 0B allocated for chunks. 0B in use in bin. 0B client-requested in use in bin.\n",
      "2021-11-01 08:01:39.530182: I tensorflow/core/common_runtime/bfc_allocator.cc:1011] Bin (1048576): \tTotal Chunks: 0, Chunks in use: 0. 0B allocated for chunks. 0B in use in bin. 0B client-requested in use in bin.\n",
      "2021-11-01 08:01:39.530191: I tensorflow/core/common_runtime/bfc_allocator.cc:1011] Bin (2097152): \tTotal Chunks: 50, Chunks in use: 49. 112.46MiB allocated for chunks. 110.25MiB in use in bin. 109.50MiB client-requested in use in bin.\n",
      "2021-11-01 08:01:39.530200: I tensorflow/core/common_runtime/bfc_allocator.cc:1011] Bin (4194304): \tTotal Chunks: 3, Chunks in use: 2. 13.02MiB allocated for chunks. 8.52MiB in use in bin. 4.50MiB client-requested in use in bin.\n",
      "2021-11-01 08:01:39.530208: I tensorflow/core/common_runtime/bfc_allocator.cc:1011] Bin (8388608): \tTotal Chunks: 25, Chunks in use: 24. 225.00MiB allocated for chunks. 216.00MiB in use in bin. 216.00MiB client-requested in use in bin.\n",
      "2021-11-01 08:01:39.530217: I tensorflow/core/common_runtime/bfc_allocator.cc:1011] Bin (16777216): \tTotal Chunks: 2, Chunks in use: 1. 44.42MiB allocated for chunks. 18.73MiB in use in bin. 18.73MiB client-requested in use in bin.\n",
      "2021-11-01 08:01:39.530230: I tensorflow/core/common_runtime/bfc_allocator.cc:1011] Bin (33554432): \tTotal Chunks: 0, Chunks in use: 0. 0B allocated for chunks. 0B in use in bin. 0B client-requested in use in bin.\n",
      "2021-11-01 08:01:39.530240: I tensorflow/core/common_runtime/bfc_allocator.cc:1011] Bin (67108864): \tTotal Chunks: 1, Chunks in use: 1. 89.42MiB allocated for chunks. 89.42MiB in use in bin. 89.42MiB client-requested in use in bin.\n",
      "2021-11-01 08:01:39.530248: I tensorflow/core/common_runtime/bfc_allocator.cc:1011] Bin (134217728): \tTotal Chunks: 1, Chunks in use: 0. 142.24MiB allocated for chunks. 0B in use in bin. 0B client-requested in use in bin.\n",
      "2021-11-01 08:01:39.530257: I tensorflow/core/common_runtime/bfc_allocator.cc:1011] Bin (268435456): \tTotal Chunks: 2, Chunks in use: 1. 26.65GiB allocated for chunks. 14.04GiB in use in bin. 14.04GiB client-requested in use in bin.\n",
      "2021-11-01 08:01:39.530273: I tensorflow/core/common_runtime/bfc_allocator.cc:1027] Bin for 14.04GiB was 256.00MiB, Chunk State: \n",
      "2021-11-01 08:01:39.530287: I tensorflow/core/common_runtime/bfc_allocator.cc:1033]   Size: 12.60GiB | Requested Size: 9.0KiB | in_use: 0 | bin_num: 20, prev:   Size: 14.04GiB | Requested Size: 14.04GiB | in_use: 1 | bin_num: -1\n",
      "2021-11-01 08:01:39.530294: I tensorflow/core/common_runtime/bfc_allocator.cc:1040] Next region of size 29270781952\n",
      "2021-11-01 08:01:39.530308: I tensorflow/core/common_runtime/bfc_allocator.cc:1060] InUse at 1006a000000 of size 256 next 1\n",
      "2021-11-01 08:01:39.530315: I tensorflow/core/common_runtime/bfc_allocator.cc:1060] InUse at 1006a000100 of size 1280 next 2\n",
      "2021-11-01 08:01:39.530322: I tensorflow/core/common_runtime/bfc_allocator.cc:1060] InUse at 1006a000600 of size 256 next 3\n",
      "2021-11-01 08:01:39.530329: I tensorflow/core/common_runtime/bfc_allocator.cc:1060] InUse at 1006a000700 of size 256 next 4\n",
      "2021-11-01 08:01:39.530336: I tensorflow/core/common_runtime/bfc_allocator.cc:1060] Free  at 1006a000800 of size 256 next 5\n",
      "2021-11-01 08:01:39.530342: I tensorflow/core/common_runtime/bfc_allocator.cc:1060] InUse at 1006a000900 of size 256 next 13\n",
      "2021-11-01 08:01:39.530349: I tensorflow/core/common_runtime/bfc_allocator.cc:1060] Free  at 1006a000a00 of size 256 next 16\n",
      "2021-11-01 08:01:39.530356: I tensorflow/core/common_runtime/bfc_allocator.cc:1060] InUse at 1006a000b00 of size 256 next 20\n",
      "2021-11-01 08:01:39.530363: I tensorflow/core/common_runtime/bfc_allocator.cc:1060] InUse at 1006a000c00 of size 3072 next 21\n",
      "2021-11-01 08:01:39.530369: I tensorflow/core/common_runtime/bfc_allocator.cc:1060] InUse at 1006a001800 of size 256 next 22\n",
      "2021-11-01 08:01:39.530376: I tensorflow/core/common_runtime/bfc_allocator.cc:1060] InUse at 1006a001900 of size 3072 next 23\n",
      "2021-11-01 08:01:39.530383: I tensorflow/core/common_runtime/bfc_allocator.cc:1060] InUse at 1006a002500 of size 256 next 15\n",
      "2021-11-01 08:01:39.530389: I tensorflow/core/common_runtime/bfc_allocator.cc:1060] InUse at 1006a002600 of size 256 next 25\n",
      "2021-11-01 08:01:39.530396: I tensorflow/core/common_runtime/bfc_allocator.cc:1060] InUse at 1006a002700 of size 256 next 26\n",
      "2021-11-01 08:01:39.530402: I tensorflow/core/common_runtime/bfc_allocator.cc:1060] InUse at 1006a002800 of size 256 next 17\n",
      "2021-11-01 08:01:39.530409: I tensorflow/core/common_runtime/bfc_allocator.cc:1060] InUse at 1006a002900 of size 3072 next 30\n",
      "2021-11-01 08:01:39.530415: I tensorflow/core/common_runtime/bfc_allocator.cc:1060] InUse at 1006a003500 of size 3072 next 11\n",
      "2021-11-01 08:01:39.530422: I tensorflow/core/common_runtime/bfc_allocator.cc:1060] InUse at 1006a004100 of size 22272 next 39\n",
      "2021-11-01 08:01:39.530429: I tensorflow/core/common_runtime/bfc_allocator.cc:1060] InUse at 1006a009800 of size 256 next 44\n",
      "2021-11-01 08:01:39.530438: I tensorflow/core/common_runtime/bfc_allocator.cc:1060] InUse at 1006a009900 of size 3072 next 19\n",
      "2021-11-01 08:01:39.530448: I tensorflow/core/common_runtime/bfc_allocator.cc:1060] InUse at 1006a00a500 of size 3072 next 48\n",
      "2021-11-01 08:01:39.530457: I tensorflow/core/common_runtime/bfc_allocator.cc:1060] InUse at 1006a00b100 of size 3072 next 49\n",
      "2021-11-01 08:01:39.530466: I tensorflow/core/common_runtime/bfc_allocator.cc:1060] InUse at 1006a00bd00 of size 3072 next 46\n",
      "2021-11-01 08:01:39.530475: I tensorflow/core/common_runtime/bfc_allocator.cc:1060] InUse at 1006a00c900 of size 3072 next 50\n",
      "2021-11-01 08:01:39.530485: I tensorflow/core/common_runtime/bfc_allocator.cc:1060] InUse at 1006a00d500 of size 3072 next 53\n",
      "2021-11-01 08:01:39.530494: I tensorflow/core/common_runtime/bfc_allocator.cc:1060] InUse at 1006a00e100 of size 3072 next 58\n",
      "2021-11-01 08:01:39.530503: I tensorflow/core/common_runtime/bfc_allocator.cc:1060] InUse at 1006a00ed00 of size 3072 next 55\n",
      "2021-11-01 08:01:39.530513: I tensorflow/core/common_runtime/bfc_allocator.cc:1060] InUse at 1006a00f900 of size 3072 next 43\n",
      "2021-11-01 08:01:39.530524: I tensorflow/core/common_runtime/bfc_allocator.cc:1060] InUse at 1006a010500 of size 5888 next 35\n",
      "2021-11-01 08:01:39.530534: I tensorflow/core/common_runtime/bfc_allocator.cc:1060] InUse at 1006a011c00 of size 3072 next 24\n",
      "2021-11-01 08:01:39.530543: I tensorflow/core/common_runtime/bfc_allocator.cc:1060] InUse at 1006a012800 of size 3072 next 31\n",
      "2021-11-01 08:01:39.530552: I tensorflow/core/common_runtime/bfc_allocator.cc:1060] InUse at 1006a013400 of size 3072 next 56\n",
      "2021-11-01 08:01:39.530562: I tensorflow/core/common_runtime/bfc_allocator.cc:1060] InUse at 1006a014000 of size 3072 next 65\n",
      "2021-11-01 08:01:39.530571: I tensorflow/core/common_runtime/bfc_allocator.cc:1060] InUse at 1006a014c00 of size 3072 next 36\n",
      "2021-11-01 08:01:39.530580: I tensorflow/core/common_runtime/bfc_allocator.cc:1060] InUse at 1006a015800 of size 3072 next 63\n",
      "2021-11-01 08:01:39.530589: I tensorflow/core/common_runtime/bfc_allocator.cc:1060] InUse at 1006a016400 of size 3072 next 28\n",
      "2021-11-01 08:01:39.530600: I tensorflow/core/common_runtime/bfc_allocator.cc:1060] InUse at 1006a017000 of size 3072 next 66\n",
      "2021-11-01 08:01:39.530626: I tensorflow/core/common_runtime/bfc_allocator.cc:1060] InUse at 1006a017c00 of size 3072 next 67\n",
      "2021-11-01 08:01:39.530636: I tensorflow/core/common_runtime/bfc_allocator.cc:1060] InUse at 1006a018800 of size 3072 next 74\n",
      "2021-11-01 08:01:39.530645: I tensorflow/core/common_runtime/bfc_allocator.cc:1060] InUse at 1006a019400 of size 3072 next 61\n",
      "2021-11-01 08:01:39.530654: I tensorflow/core/common_runtime/bfc_allocator.cc:1060] InUse at 1006a01a000 of size 3072 next 82\n",
      "2021-11-01 08:01:39.530664: I tensorflow/core/common_runtime/bfc_allocator.cc:1060] InUse at 1006a01ac00 of size 3072 next 91\n",
      "2021-11-01 08:01:39.530673: I tensorflow/core/common_runtime/bfc_allocator.cc:1060] InUse at 1006a01b800 of size 3072 next 81\n",
      "2021-11-01 08:01:39.530683: I tensorflow/core/common_runtime/bfc_allocator.cc:1060] InUse at 1006a01c400 of size 3072 next 83\n",
      "2021-11-01 08:01:39.530698: I tensorflow/core/common_runtime/bfc_allocator.cc:1060] InUse at 1006a01d000 of size 21504 next 99\n",
      "2021-11-01 08:01:39.530709: I tensorflow/core/common_runtime/bfc_allocator.cc:1060] InUse at 1006a022400 of size 3072 next 207\n",
      "2021-11-01 08:01:39.530719: I tensorflow/core/common_runtime/bfc_allocator.cc:1060] InUse at 1006a023000 of size 3072 next 211\n",
      "2021-11-01 08:01:39.530729: I tensorflow/core/common_runtime/bfc_allocator.cc:1060] InUse at 1006a023c00 of size 3072 next 213\n",
      "2021-11-01 08:01:39.530739: I tensorflow/core/common_runtime/bfc_allocator.cc:1060] InUse at 1006a024800 of size 3072 next 217\n",
      "2021-11-01 08:01:39.530749: I tensorflow/core/common_runtime/bfc_allocator.cc:1060] InUse at 1006a025400 of size 3072 next 214\n",
      "2021-11-01 08:01:39.530756: I tensorflow/core/common_runtime/bfc_allocator.cc:1060] InUse at 1006a026000 of size 3072 next 225\n",
      "2021-11-01 08:01:39.530763: I tensorflow/core/common_runtime/bfc_allocator.cc:1060] InUse at 1006a026c00 of size 3072 next 226\n",
      "2021-11-01 08:01:39.530772: I tensorflow/core/common_runtime/bfc_allocator.cc:1060] Free  at 1006a027800 of size 21504 next 223\n",
      "2021-11-01 08:01:39.530781: I tensorflow/core/common_runtime/bfc_allocator.cc:1060] InUse at 1006a02cc00 of size 3072 next 189\n",
      "2021-11-01 08:01:39.530791: I tensorflow/core/common_runtime/bfc_allocator.cc:1060] InUse at 1006a02d800 of size 3072 next 200\n",
      "2021-11-01 08:01:39.530801: I tensorflow/core/common_runtime/bfc_allocator.cc:1060] InUse at 1006a02e400 of size 3072 next 216\n",
      "2021-11-01 08:01:39.530811: I tensorflow/core/common_runtime/bfc_allocator.cc:1060] InUse at 1006a02f000 of size 3072 next 218\n",
      "2021-11-01 08:01:39.530822: I tensorflow/core/common_runtime/bfc_allocator.cc:1060] InUse at 1006a02fc00 of size 3072 next 202\n",
      "2021-11-01 08:01:39.530832: I tensorflow/core/common_runtime/bfc_allocator.cc:1060] InUse at 1006a030800 of size 3072 next 14\n",
      "2021-11-01 08:01:39.530842: I tensorflow/core/common_runtime/bfc_allocator.cc:1060] InUse at 1006a031400 of size 3072 next 6\n",
      "2021-11-01 08:01:39.530852: I tensorflow/core/common_runtime/bfc_allocator.cc:1060] InUse at 1006a032000 of size 6144 next 212\n",
      "2021-11-01 08:01:39.530862: I tensorflow/core/common_runtime/bfc_allocator.cc:1060] InUse at 1006a033800 of size 12288 next 8\n",
      "2021-11-01 08:01:39.530873: I tensorflow/core/common_runtime/bfc_allocator.cc:1060] InUse at 1006a036800 of size 3072 next 73\n",
      "2021-11-01 08:01:39.530883: I tensorflow/core/common_runtime/bfc_allocator.cc:1060] InUse at 1006a037400 of size 12288 next 72\n",
      "2021-11-01 08:01:39.530893: I tensorflow/core/common_runtime/bfc_allocator.cc:1060] InUse at 1006a03a400 of size 4521984 next 70\n",
      "2021-11-01 08:01:39.530902: I tensorflow/core/common_runtime/bfc_allocator.cc:1060] InUse at 1006a48a400 of size 3072 next 71\n",
      "2021-11-01 08:01:39.530909: I tensorflow/core/common_runtime/bfc_allocator.cc:1060] InUse at 1006a48b000 of size 3072 next 79\n",
      "2021-11-01 08:01:39.530917: I tensorflow/core/common_runtime/bfc_allocator.cc:1060] InUse at 1006a48bc00 of size 3072 next 85\n",
      "2021-11-01 08:01:39.530927: I tensorflow/core/common_runtime/bfc_allocator.cc:1060] InUse at 1006a48c800 of size 3072 next 118\n",
      "2021-11-01 08:01:39.530938: I tensorflow/core/common_runtime/bfc_allocator.cc:1060] InUse at 1006a48d400 of size 3072 next 125\n",
      "2021-11-01 08:01:39.530948: I tensorflow/core/common_runtime/bfc_allocator.cc:1060] InUse at 1006a48e000 of size 3072 next 111\n",
      "2021-11-01 08:01:39.530958: I tensorflow/core/common_runtime/bfc_allocator.cc:1060] InUse at 1006a48ec00 of size 3072 next 129\n",
      "2021-11-01 08:01:39.530968: I tensorflow/core/common_runtime/bfc_allocator.cc:1060] InUse at 1006a48f800 of size 3072 next 130\n",
      "2021-11-01 08:01:39.530978: I tensorflow/core/common_runtime/bfc_allocator.cc:1060] InUse at 1006a490400 of size 3072 next 127\n",
      "2021-11-01 08:01:39.530988: I tensorflow/core/common_runtime/bfc_allocator.cc:1060] InUse at 1006a491000 of size 3072 next 131\n",
      "2021-11-01 08:01:39.530999: I tensorflow/core/common_runtime/bfc_allocator.cc:1060] InUse at 1006a491c00 of size 3072 next 135\n",
      "2021-11-01 08:01:39.531019: I tensorflow/core/common_runtime/bfc_allocator.cc:1060] InUse at 1006a492800 of size 3072 next 137\n",
      "2021-11-01 08:01:39.531031: I tensorflow/core/common_runtime/bfc_allocator.cc:1060] InUse at 1006a493400 of size 15360 next 136\n",
      "2021-11-01 08:01:39.531059: I tensorflow/core/common_runtime/bfc_allocator.cc:1060] InUse at 1006a497000 of size 3072 next 143\n",
      "2021-11-01 08:01:39.531071: I tensorflow/core/common_runtime/bfc_allocator.cc:1060] InUse at 1006a497c00 of size 3072 next 123\n",
      "2021-11-01 08:01:39.531081: I tensorflow/core/common_runtime/bfc_allocator.cc:1060] InUse at 1006a498800 of size 3072 next 121\n",
      "2021-11-01 08:01:39.531091: I tensorflow/core/common_runtime/bfc_allocator.cc:1060] InUse at 1006a499400 of size 3072 next 119\n",
      "2021-11-01 08:01:39.531101: I tensorflow/core/common_runtime/bfc_allocator.cc:1060] InUse at 1006a49a000 of size 3072 next 168\n",
      "2021-11-01 08:01:39.531111: I tensorflow/core/common_runtime/bfc_allocator.cc:1060] InUse at 1006a49ac00 of size 3072 next 169\n",
      "2021-11-01 08:01:39.531122: I tensorflow/core/common_runtime/bfc_allocator.cc:1060] InUse at 1006a49b800 of size 3072 next 175\n",
      "2021-11-01 08:01:39.531132: I tensorflow/core/common_runtime/bfc_allocator.cc:1060] InUse at 1006a49c400 of size 3072 next 179\n",
      "2021-11-01 08:01:39.531142: I tensorflow/core/common_runtime/bfc_allocator.cc:1060] InUse at 1006a49d000 of size 3072 next 176\n",
      "2021-11-01 08:01:39.531153: I tensorflow/core/common_runtime/bfc_allocator.cc:1060] InUse at 1006a49dc00 of size 3072 next 174\n",
      "2021-11-01 08:01:39.531162: I tensorflow/core/common_runtime/bfc_allocator.cc:1060] InUse at 1006a49e800 of size 3072 next 181\n",
      "2021-11-01 08:01:39.531173: I tensorflow/core/common_runtime/bfc_allocator.cc:1060] InUse at 1006a49f400 of size 3072 next 185\n",
      "2021-11-01 08:01:39.531183: I tensorflow/core/common_runtime/bfc_allocator.cc:1060] InUse at 1006a4a0000 of size 21504 next 158\n",
      "2021-11-01 08:01:39.531195: I tensorflow/core/common_runtime/bfc_allocator.cc:1060] InUse at 1006a4a5400 of size 3072 next 160\n",
      "2021-11-01 08:01:39.531209: I tensorflow/core/common_runtime/bfc_allocator.cc:1060] InUse at 1006a4a6000 of size 3072 next 165\n",
      "2021-11-01 08:01:39.531219: I tensorflow/core/common_runtime/bfc_allocator.cc:1060] InUse at 1006a4a6c00 of size 3072 next 177\n",
      "2021-11-01 08:01:39.531230: I tensorflow/core/common_runtime/bfc_allocator.cc:1060] InUse at 1006a4a7800 of size 3072 next 183\n",
      "2021-11-01 08:01:39.531240: I tensorflow/core/common_runtime/bfc_allocator.cc:1060] InUse at 1006a4a8400 of size 3072 next 193\n",
      "2021-11-01 08:01:39.531250: I tensorflow/core/common_runtime/bfc_allocator.cc:1060] InUse at 1006a4a9000 of size 3072 next 194\n",
      "2021-11-01 08:01:39.531258: I tensorflow/core/common_runtime/bfc_allocator.cc:1060] InUse at 1006a4a9c00 of size 3072 next 190\n",
      "2021-11-01 08:01:39.531266: I tensorflow/core/common_runtime/bfc_allocator.cc:1060] InUse at 1006a4aa800 of size 3072 next 195\n",
      "2021-11-01 08:01:39.531273: I tensorflow/core/common_runtime/bfc_allocator.cc:1060] InUse at 1006a4ab400 of size 3072 next 199\n",
      "2021-11-01 08:01:39.531280: I tensorflow/core/common_runtime/bfc_allocator.cc:1060] InUse at 1006a4ac000 of size 3072 next 201\n",
      "2021-11-01 08:01:39.531287: I tensorflow/core/common_runtime/bfc_allocator.cc:1060] InUse at 1006a4acc00 of size 15360 next 198\n",
      "2021-11-01 08:01:39.531294: I tensorflow/core/common_runtime/bfc_allocator.cc:1060] InUse at 1006a4b0800 of size 3072 next 205\n",
      "2021-11-01 08:01:39.531301: I tensorflow/core/common_runtime/bfc_allocator.cc:1060] InUse at 1006a4b1400 of size 3072 next 209\n",
      "2021-11-01 08:01:39.531309: I tensorflow/core/common_runtime/bfc_allocator.cc:1060] InUse at 1006a4b2000 of size 3328 next 86\n",
      "2021-11-01 08:01:39.531316: I tensorflow/core/common_runtime/bfc_allocator.cc:1060] InUse at 1006a4b2d00 of size 3072 next 96\n",
      "2021-11-01 08:01:39.531323: I tensorflow/core/common_runtime/bfc_allocator.cc:1060] InUse at 1006a4b3900 of size 3072 next 97\n",
      "2021-11-01 08:01:39.531329: I tensorflow/core/common_runtime/bfc_allocator.cc:1060] InUse at 1006a4b4500 of size 3072 next 104\n",
      "2021-11-01 08:01:39.531337: I tensorflow/core/common_runtime/bfc_allocator.cc:1060] InUse at 1006a4b5100 of size 3072 next 106\n",
      "2021-11-01 08:01:39.531344: I tensorflow/core/common_runtime/bfc_allocator.cc:1060] InUse at 1006a4b5d00 of size 3072 next 105\n",
      "2021-11-01 08:01:39.531350: I tensorflow/core/common_runtime/bfc_allocator.cc:1060] InUse at 1006a4b6900 of size 3072 next 94\n",
      "2021-11-01 08:01:39.531357: I tensorflow/core/common_runtime/bfc_allocator.cc:1060] InUse at 1006a4b7500 of size 3072 next 107\n",
      "2021-11-01 08:01:39.531364: I tensorflow/core/common_runtime/bfc_allocator.cc:1060] InUse at 1006a4b8100 of size 3072 next 110\n",
      "2021-11-01 08:01:39.531371: I tensorflow/core/common_runtime/bfc_allocator.cc:1060] InUse at 1006a4b8d00 of size 3072 next 114\n",
      "2021-11-01 08:01:39.531378: I tensorflow/core/common_runtime/bfc_allocator.cc:1060] InUse at 1006a4b9900 of size 3072 next 115\n",
      "2021-11-01 08:01:39.531384: I tensorflow/core/common_runtime/bfc_allocator.cc:1060] InUse at 1006a4ba500 of size 3072 next 112\n",
      "2021-11-01 08:01:39.531392: I tensorflow/core/common_runtime/bfc_allocator.cc:1060] InUse at 1006a4bb100 of size 12288 next 87\n",
      "2021-11-01 08:01:39.531399: I tensorflow/core/common_runtime/bfc_allocator.cc:1060] InUse at 1006a4be100 of size 3072 next 90\n",
      "2021-11-01 08:01:39.531406: I tensorflow/core/common_runtime/bfc_allocator.cc:1060] InUse at 1006a4bed00 of size 3072 next 88\n",
      "2021-11-01 08:01:39.531413: I tensorflow/core/common_runtime/bfc_allocator.cc:1060] InUse at 1006a4bf900 of size 3072 next 80\n",
      "2021-11-01 08:01:39.531419: I tensorflow/core/common_runtime/bfc_allocator.cc:1060] InUse at 1006a4c0500 of size 3072 next 124\n",
      "2021-11-01 08:01:39.531426: I tensorflow/core/common_runtime/bfc_allocator.cc:1060] InUse at 1006a4c1100 of size 3072 next 100\n",
      "2021-11-01 08:01:39.531433: I tensorflow/core/common_runtime/bfc_allocator.cc:1060] InUse at 1006a4c1d00 of size 3072 next 142\n",
      "2021-11-01 08:01:39.531440: I tensorflow/core/common_runtime/bfc_allocator.cc:1060] InUse at 1006a4c2900 of size 3072 next 145\n",
      "2021-11-01 08:01:39.531447: I tensorflow/core/common_runtime/bfc_allocator.cc:1060] InUse at 1006a4c3500 of size 3072 next 149\n",
      "2021-11-01 08:01:39.531453: I tensorflow/core/common_runtime/bfc_allocator.cc:1060] InUse at 1006a4c4100 of size 3072 next 151\n",
      "2021-11-01 08:01:39.531460: I tensorflow/core/common_runtime/bfc_allocator.cc:1060] InUse at 1006a4c4d00 of size 3072 next 153\n",
      "2021-11-01 08:01:39.531467: I tensorflow/core/common_runtime/bfc_allocator.cc:1060] InUse at 1006a4c5900 of size 12288 next 152\n",
      "2021-11-01 08:01:39.531474: I tensorflow/core/common_runtime/bfc_allocator.cc:1060] InUse at 1006a4c8900 of size 3072 next 144\n",
      "2021-11-01 08:01:39.531480: I tensorflow/core/common_runtime/bfc_allocator.cc:1060] InUse at 1006a4c9500 of size 3072 next 166\n",
      "2021-11-01 08:01:39.531487: I tensorflow/core/common_runtime/bfc_allocator.cc:1060] InUse at 1006a4ca100 of size 3072 next 167\n",
      "2021-11-01 08:01:39.531494: I tensorflow/core/common_runtime/bfc_allocator.cc:1060] InUse at 1006a4cad00 of size 3072 next 117\n",
      "2021-11-01 08:01:39.531501: I tensorflow/core/common_runtime/bfc_allocator.cc:1060] InUse at 1006a4cb900 of size 3072 next 122\n",
      "2021-11-01 08:01:39.531518: I tensorflow/core/common_runtime/bfc_allocator.cc:1060] InUse at 1006a4cc500 of size 3072 next 157\n",
      "2021-11-01 08:01:39.531524: I tensorflow/core/common_runtime/bfc_allocator.cc:1060] InUse at 1006a4cd100 of size 3072 next 161\n",
      "2021-11-01 08:01:39.531531: I tensorflow/core/common_runtime/bfc_allocator.cc:1060] InUse at 1006a4cdd00 of size 3072 next 162\n",
      "2021-11-01 08:01:39.531538: I tensorflow/core/common_runtime/bfc_allocator.cc:1060] InUse at 1006a4ce900 of size 3072 next 159\n",
      "2021-11-01 08:01:39.531545: I tensorflow/core/common_runtime/bfc_allocator.cc:1060] InUse at 1006a4cf500 of size 3072 next 184\n",
      "2021-11-01 08:01:39.531552: I tensorflow/core/common_runtime/bfc_allocator.cc:1060] InUse at 1006a4d0100 of size 4411136 next 18\n",
      "2021-11-01 08:01:39.531559: I tensorflow/core/common_runtime/bfc_allocator.cc:1060] InUse at 1006a905000 of size 2359296 next 29\n",
      "2021-11-01 08:01:39.531566: I tensorflow/core/common_runtime/bfc_allocator.cc:1060] InUse at 1006ab45000 of size 2359296 next 33\n",
      "2021-11-01 08:01:39.531573: I tensorflow/core/common_runtime/bfc_allocator.cc:1060] InUse at 1006ad85000 of size 2359296 next 37\n",
      "2021-11-01 08:01:39.531579: I tensorflow/core/common_runtime/bfc_allocator.cc:1060] InUse at 1006afc5000 of size 2359296 next 38\n",
      "2021-11-01 08:01:39.531586: I tensorflow/core/common_runtime/bfc_allocator.cc:1060] InUse at 1006b205000 of size 2359296 next 45\n",
      "2021-11-01 08:01:39.531593: I tensorflow/core/common_runtime/bfc_allocator.cc:1060] InUse at 1006b445000 of size 2359296 next 47\n",
      "2021-11-01 08:01:39.531599: I tensorflow/core/common_runtime/bfc_allocator.cc:1060] InUse at 1006b685000 of size 2359296 next 54\n",
      "2021-11-01 08:01:39.531606: I tensorflow/core/common_runtime/bfc_allocator.cc:1060] InUse at 1006b8c5000 of size 2359296 next 57\n",
      "2021-11-01 08:01:39.531613: I tensorflow/core/common_runtime/bfc_allocator.cc:1060] InUse at 1006bb05000 of size 2359296 next 51\n",
      "2021-11-01 08:01:39.531621: I tensorflow/core/common_runtime/bfc_allocator.cc:1060] InUse at 1006bd45000 of size 2359296 next 41\n",
      "2021-11-01 08:01:39.531628: I tensorflow/core/common_runtime/bfc_allocator.cc:1060] InUse at 1006bf85000 of size 2359296 next 68\n",
      "2021-11-01 08:01:39.531635: I tensorflow/core/common_runtime/bfc_allocator.cc:1060] InUse at 1006c1c5000 of size 2359296 next 40\n",
      "2021-11-01 08:01:39.531644: I tensorflow/core/common_runtime/bfc_allocator.cc:1060] InUse at 1006c405000 of size 9437184 next 32\n",
      "2021-11-01 08:01:39.531651: I tensorflow/core/common_runtime/bfc_allocator.cc:1060] InUse at 1006cd05000 of size 9437184 next 42\n",
      "2021-11-01 08:01:39.531658: I tensorflow/core/common_runtime/bfc_allocator.cc:1060] InUse at 1006d605000 of size 2359296 next 69\n",
      "2021-11-01 08:01:39.531664: I tensorflow/core/common_runtime/bfc_allocator.cc:1060] InUse at 1006d845000 of size 2359296 next 77\n",
      "2021-11-01 08:01:39.531671: I tensorflow/core/common_runtime/bfc_allocator.cc:1060] InUse at 1006da85000 of size 2359296 next 84\n",
      "2021-11-01 08:01:39.531678: I tensorflow/core/common_runtime/bfc_allocator.cc:1060] InUse at 1006dcc5000 of size 12288 next 10\n",
      "2021-11-01 08:01:39.531685: I tensorflow/core/common_runtime/bfc_allocator.cc:1060] InUse at 1006dcc8000 of size 12288 next 163\n",
      "2021-11-01 08:01:39.531691: I tensorflow/core/common_runtime/bfc_allocator.cc:1060] InUse at 1006dccb000 of size 12288 next 62\n",
      "2021-11-01 08:01:39.531698: I tensorflow/core/common_runtime/bfc_allocator.cc:1060] InUse at 1006dcce000 of size 9216 next 34\n",
      "2021-11-01 08:01:39.531705: I tensorflow/core/common_runtime/bfc_allocator.cc:1060] Free  at 1006dcd0400 of size 2313216 next 59\n",
      "2021-11-01 08:01:39.531712: I tensorflow/core/common_runtime/bfc_allocator.cc:1060] InUse at 1006df05000 of size 9437184 next 60\n",
      "2021-11-01 08:01:39.531719: I tensorflow/core/common_runtime/bfc_allocator.cc:1060] InUse at 1006e805000 of size 9437184 next 52\n",
      "2021-11-01 08:01:39.531726: I tensorflow/core/common_runtime/bfc_allocator.cc:1060] InUse at 1006f105000 of size 2359296 next 78\n",
      "2021-11-01 08:01:39.531732: I tensorflow/core/common_runtime/bfc_allocator.cc:1060] InUse at 1006f345000 of size 2359296 next 95\n",
      "2021-11-01 08:01:39.531739: I tensorflow/core/common_runtime/bfc_allocator.cc:1060] InUse at 1006f585000 of size 2359296 next 102\n",
      "2021-11-01 08:01:39.531746: I tensorflow/core/common_runtime/bfc_allocator.cc:1060] InUse at 1006f7c5000 of size 2359296 next 75\n",
      "2021-11-01 08:01:39.531752: I tensorflow/core/common_runtime/bfc_allocator.cc:1060] InUse at 1006fa05000 of size 9437184 next 76\n",
      "2021-11-01 08:01:39.531759: I tensorflow/core/common_runtime/bfc_allocator.cc:1060] InUse at 10070305000 of size 9437184 next 64\n",
      "2021-11-01 08:01:39.531766: I tensorflow/core/common_runtime/bfc_allocator.cc:1060] InUse at 10070c05000 of size 2359296 next 101\n",
      "2021-11-01 08:01:39.531773: I tensorflow/core/common_runtime/bfc_allocator.cc:1060] InUse at 10070e45000 of size 2359296 next 113\n",
      "2021-11-01 08:01:39.531780: I tensorflow/core/common_runtime/bfc_allocator.cc:1060] InUse at 10071085000 of size 2359296 next 116\n",
      "2021-11-01 08:01:39.531786: I tensorflow/core/common_runtime/bfc_allocator.cc:1060] InUse at 100712c5000 of size 2359296 next 92\n",
      "2021-11-01 08:01:39.531793: I tensorflow/core/common_runtime/bfc_allocator.cc:1060] InUse at 10071505000 of size 9437184 next 93\n",
      "2021-11-01 08:01:39.531800: I tensorflow/core/common_runtime/bfc_allocator.cc:1060] InUse at 10071e05000 of size 9437184 next 89\n",
      "2021-11-01 08:01:39.531807: I tensorflow/core/common_runtime/bfc_allocator.cc:1060] InUse at 10072705000 of size 2359296 next 120\n",
      "2021-11-01 08:01:39.531813: I tensorflow/core/common_runtime/bfc_allocator.cc:1060] InUse at 10072945000 of size 2359296 next 128\n",
      "2021-11-01 08:01:39.531820: I tensorflow/core/common_runtime/bfc_allocator.cc:1060] InUse at 10072b85000 of size 2359296 next 133\n",
      "2021-11-01 08:01:39.531827: I tensorflow/core/common_runtime/bfc_allocator.cc:1060] InUse at 10072dc5000 of size 2359296 next 108\n",
      "2021-11-01 08:01:39.531834: I tensorflow/core/common_runtime/bfc_allocator.cc:1060] InUse at 10073005000 of size 9437184 next 109\n",
      "2021-11-01 08:01:39.531841: I tensorflow/core/common_runtime/bfc_allocator.cc:1060] Free  at 10073905000 of size 149151744 next 139\n",
      "2021-11-01 08:01:39.531848: I tensorflow/core/common_runtime/bfc_allocator.cc:1060] InUse at 1007c743000 of size 9437184 next 140\n",
      "2021-11-01 08:01:39.531855: I tensorflow/core/common_runtime/bfc_allocator.cc:1060] InUse at 1007d043000 of size 2359296 next 147\n",
      "2021-11-01 08:01:39.531862: I tensorflow/core/common_runtime/bfc_allocator.cc:1060] InUse at 1007d283000 of size 2359296 next 134\n",
      "2021-11-01 08:01:39.531869: I tensorflow/core/common_runtime/bfc_allocator.cc:1060] InUse at 1007d4c3000 of size 2359296 next 141\n",
      "2021-11-01 08:01:39.531876: I tensorflow/core/common_runtime/bfc_allocator.cc:1060] InUse at 1007d703000 of size 2359296 next 132\n",
      "2021-11-01 08:01:39.531883: I tensorflow/core/common_runtime/bfc_allocator.cc:1060] InUse at 1007d943000 of size 2359296 next 126\n",
      "2021-11-01 08:01:39.531889: I tensorflow/core/common_runtime/bfc_allocator.cc:1060] InUse at 1007db83000 of size 2359296 next 178\n",
      "2021-11-01 08:01:39.531896: I tensorflow/core/common_runtime/bfc_allocator.cc:1060] Free  at 1007ddc3000 of size 4718592 next 155\n",
      "2021-11-01 08:01:39.531903: I tensorflow/core/common_runtime/bfc_allocator.cc:1060] InUse at 1007e243000 of size 9437184 next 156\n",
      "2021-11-01 08:01:39.531910: I tensorflow/core/common_runtime/bfc_allocator.cc:1060] InUse at 1007eb43000 of size 9437184 next 150\n",
      "2021-11-01 08:01:39.531916: I tensorflow/core/common_runtime/bfc_allocator.cc:1060] InUse at 1007f443000 of size 2359296 next 148\n",
      "2021-11-01 08:01:39.531923: I tensorflow/core/common_runtime/bfc_allocator.cc:1060] InUse at 1007f683000 of size 2359296 next 173\n",
      "2021-11-01 08:01:39.531930: I tensorflow/core/common_runtime/bfc_allocator.cc:1060] InUse at 1007f8c3000 of size 2359296 next 180\n",
      "2021-11-01 08:01:39.531937: I tensorflow/core/common_runtime/bfc_allocator.cc:1060] InUse at 1007fb03000 of size 2359296 next 170\n",
      "2021-11-01 08:01:39.531943: I tensorflow/core/common_runtime/bfc_allocator.cc:1060] InUse at 1007fd43000 of size 9437184 next 171\n",
      "2021-11-01 08:01:39.531950: I tensorflow/core/common_runtime/bfc_allocator.cc:1060] InUse at 10080643000 of size 9437184 next 172\n",
      "2021-11-01 08:01:39.531957: I tensorflow/core/common_runtime/bfc_allocator.cc:1060] InUse at 10080f43000 of size 2359296 next 164\n",
      "2021-11-01 08:01:39.531964: I tensorflow/core/common_runtime/bfc_allocator.cc:1060] InUse at 10081183000 of size 2359296 next 192\n",
      "2021-11-01 08:01:39.531970: I tensorflow/core/common_runtime/bfc_allocator.cc:1060] InUse at 100813c3000 of size 2359296 next 197\n",
      "2021-11-01 08:01:39.531977: I tensorflow/core/common_runtime/bfc_allocator.cc:1060] InUse at 10081603000 of size 2359296 next 186\n",
      "2021-11-01 08:01:39.531984: I tensorflow/core/common_runtime/bfc_allocator.cc:1060] InUse at 10081843000 of size 9437184 next 187\n",
      "2021-11-01 08:01:39.531991: I tensorflow/core/common_runtime/bfc_allocator.cc:1060] InUse at 10082143000 of size 9437184 next 188\n",
      "2021-11-01 08:01:39.531998: I tensorflow/core/common_runtime/bfc_allocator.cc:1060] InUse at 10082a43000 of size 2359296 next 196\n",
      "2021-11-01 08:01:39.532011: I tensorflow/core/common_runtime/bfc_allocator.cc:1060] InUse at 10082c83000 of size 2359296 next 208\n",
      "2021-11-01 08:01:39.532018: I tensorflow/core/common_runtime/bfc_allocator.cc:1060] InUse at 10082ec3000 of size 2359296 next 210\n",
      "2021-11-01 08:01:39.532025: I tensorflow/core/common_runtime/bfc_allocator.cc:1060] InUse at 10083103000 of size 2359296 next 203\n",
      "2021-11-01 08:01:39.532032: I tensorflow/core/common_runtime/bfc_allocator.cc:1060] InUse at 10083343000 of size 9437184 next 204\n",
      "2021-11-01 08:01:39.532039: I tensorflow/core/common_runtime/bfc_allocator.cc:1060] InUse at 10083c43000 of size 9437184 next 191\n",
      "2021-11-01 08:01:39.532058: I tensorflow/core/common_runtime/bfc_allocator.cc:1060] InUse at 10084543000 of size 2359296 next 182\n",
      "2021-11-01 08:01:39.532066: I tensorflow/core/common_runtime/bfc_allocator.cc:1060] InUse at 10084783000 of size 2359296 next 98\n",
      "2021-11-01 08:01:39.532073: I tensorflow/core/common_runtime/bfc_allocator.cc:1060] InUse at 100849c3000 of size 2359296 next 146\n",
      "2021-11-01 08:01:39.532080: I tensorflow/core/common_runtime/bfc_allocator.cc:1060] InUse at 10084c03000 of size 2359296 next 219\n",
      "2021-11-01 08:01:39.532087: I tensorflow/core/common_runtime/bfc_allocator.cc:1060] InUse at 10084e43000 of size 9437184 next 220\n",
      "2021-11-01 08:01:39.532094: I tensorflow/core/common_runtime/bfc_allocator.cc:1060] Free  at 10085743000 of size 9437184 next 206\n",
      "2021-11-01 08:01:39.532101: I tensorflow/core/common_runtime/bfc_allocator.cc:1060] InUse at 10086043000 of size 9437184 next 9\n",
      "2021-11-01 08:01:39.532108: I tensorflow/core/common_runtime/bfc_allocator.cc:1060] InUse at 10086943000 of size 9437184 next 103\n",
      "2021-11-01 08:01:39.532114: I tensorflow/core/common_runtime/bfc_allocator.cc:1060] InUse at 10087243000 of size 9437184 next 7\n",
      "2021-11-01 08:01:39.532121: I tensorflow/core/common_runtime/bfc_allocator.cc:1060] InUse at 10087b43000 of size 9437184 next 138\n",
      "2021-11-01 08:01:39.532128: I tensorflow/core/common_runtime/bfc_allocator.cc:1060] InUse at 10088443000 of size 9437184 next 154\n",
      "2021-11-01 08:01:39.532135: I tensorflow/core/common_runtime/bfc_allocator.cc:1060] InUse at 10088d43000 of size 19636224 next 228\n",
      "2021-11-01 08:01:39.532142: I tensorflow/core/common_runtime/bfc_allocator.cc:1060] Free  at 10089ffd000 of size 26941440 next 215\n",
      "2021-11-01 08:01:39.532149: I tensorflow/core/common_runtime/bfc_allocator.cc:1060] InUse at 1008b9ae800 of size 93763584 next 222\n",
      "2021-11-01 08:01:39.532157: I tensorflow/core/common_runtime/bfc_allocator.cc:1060] InUse at 1009131a000 of size 15080620032 next 231\n",
      "2021-11-01 08:01:39.532164: I tensorflow/core/common_runtime/bfc_allocator.cc:1060] Free  at 1041411a000 of size 13532598272 next 18446744073709551615\n",
      "2021-11-01 08:01:39.532171: I tensorflow/core/common_runtime/bfc_allocator.cc:1065]      Summary of in-use Chunks by size: \n",
      "2021-11-01 08:01:39.532194: I tensorflow/core/common_runtime/bfc_allocator.cc:1068] 11 Chunks of size 256 totalling 2.8KiB\n",
      "2021-11-01 08:01:39.532201: I tensorflow/core/common_runtime/bfc_allocator.cc:1068] 1 Chunks of size 1280 totalling 1.2KiB\n",
      "2021-11-01 08:01:39.532209: I tensorflow/core/common_runtime/bfc_allocator.cc:1068] 110 Chunks of size 3072 totalling 330.0KiB\n",
      "2021-11-01 08:01:39.532217: I tensorflow/core/common_runtime/bfc_allocator.cc:1068] 1 Chunks of size 3328 totalling 3.2KiB\n",
      "2021-11-01 08:01:39.532224: I tensorflow/core/common_runtime/bfc_allocator.cc:1068] 1 Chunks of size 5888 totalling 5.8KiB\n",
      "2021-11-01 08:01:39.532231: I tensorflow/core/common_runtime/bfc_allocator.cc:1068] 1 Chunks of size 6144 totalling 6.0KiB\n",
      "2021-11-01 08:01:39.532238: I tensorflow/core/common_runtime/bfc_allocator.cc:1068] 1 Chunks of size 9216 totalling 9.0KiB\n",
      "2021-11-01 08:01:39.532246: I tensorflow/core/common_runtime/bfc_allocator.cc:1068] 7 Chunks of size 12288 totalling 84.0KiB\n",
      "2021-11-01 08:01:39.532253: I tensorflow/core/common_runtime/bfc_allocator.cc:1068] 2 Chunks of size 15360 totalling 30.0KiB\n",
      "2021-11-01 08:01:39.532260: I tensorflow/core/common_runtime/bfc_allocator.cc:1068] 2 Chunks of size 21504 totalling 42.0KiB\n",
      "2021-11-01 08:01:39.532268: I tensorflow/core/common_runtime/bfc_allocator.cc:1068] 1 Chunks of size 22272 totalling 21.8KiB\n",
      "2021-11-01 08:01:39.532276: I tensorflow/core/common_runtime/bfc_allocator.cc:1068] 49 Chunks of size 2359296 totalling 110.25MiB\n",
      "2021-11-01 08:01:39.532283: I tensorflow/core/common_runtime/bfc_allocator.cc:1068] 1 Chunks of size 4411136 totalling 4.21MiB\n",
      "2021-11-01 08:01:39.532290: I tensorflow/core/common_runtime/bfc_allocator.cc:1068] 1 Chunks of size 4521984 totalling 4.31MiB\n",
      "2021-11-01 08:01:39.532298: I tensorflow/core/common_runtime/bfc_allocator.cc:1068] 24 Chunks of size 9437184 totalling 216.00MiB\n",
      "2021-11-01 08:01:39.532306: I tensorflow/core/common_runtime/bfc_allocator.cc:1068] 1 Chunks of size 19636224 totalling 18.73MiB\n",
      "2021-11-01 08:01:39.532314: I tensorflow/core/common_runtime/bfc_allocator.cc:1068] 1 Chunks of size 93763584 totalling 89.42MiB\n",
      "2021-11-01 08:01:39.532322: I tensorflow/core/common_runtime/bfc_allocator.cc:1068] 1 Chunks of size 15080620032 totalling 14.04GiB\n",
      "2021-11-01 08:01:39.532330: I tensorflow/core/common_runtime/bfc_allocator.cc:1072] Sum Total of in-use chunks: 14.48GiB\n",
      "2021-11-01 08:01:39.532337: I tensorflow/core/common_runtime/bfc_allocator.cc:1074] total_region_allocated_bytes_: 29270781952 memory_limit_: 29270781952 available bytes: 0 curr_region_allocation_bytes_: 58541563904\n",
      "2021-11-01 08:01:39.532357: I tensorflow/core/common_runtime/bfc_allocator.cc:1080] Stats: \n",
      "Limit:                     29270781952\n",
      "InUse:                     15545599488\n",
      "MaxInUse:                  15545599488\n",
      "NumAllocs:                        3078\n",
      "MaxAllocSize:              15080620032\n",
      "Reserved:                            0\n",
      "PeakReserved:                        0\n",
      "LargestFreeBlock:                    0\n",
      "\n",
      "2021-11-01 08:01:39.532373: W tensorflow/core/common_runtime/bfc_allocator.cc:468] ******************************************************______________________________________________\n",
      "2021-11-01 08:01:39.532985: W tensorflow/core/framework/op_kernel.cc:1692] OP_REQUIRES failed at tile_ops.cc:198 : Resource exhausted: OOM when allocating tensor with shape[6392,768,768] and type float on /job:localhost/replica:0/task:0/device:GPU:0 by allocator GPU_0_bfc\n"
     ]
    },
    {
     "ename": "ResourceExhaustedError",
     "evalue": "OOM when allocating tensor with shape[6392,768,768] and type float on /job:localhost/replica:0/task:0/device:GPU:0 by allocator GPU_0_bfc [Op:Tile]",
     "output_type": "error",
     "traceback": [
      "\u001b[0;31m---------------------------------------------------------------------------\u001b[0m",
      "\u001b[0;31mResourceExhaustedError\u001b[0m                    Traceback (most recent call last)",
      "\u001b[0;32m/tmp/ipykernel_847/3313941139.py\u001b[0m in \u001b[0;36m<module>\u001b[0;34m\u001b[0m\n\u001b[0;32m----> 1\u001b[0;31m \u001b[0ms\u001b[0m \u001b[0;34m=\u001b[0m \u001b[0mbert_encoder\u001b[0m\u001b[0;34m(\u001b[0m\u001b[0mX\u001b[0m\u001b[0;34m)\u001b[0m\u001b[0;34m\u001b[0m\u001b[0;34m\u001b[0m\u001b[0m\n\u001b[0m",
      "\u001b[0;32m/opt/conda/lib/python3.9/site-packages/keras/engine/base_layer.py\u001b[0m in \u001b[0;36m__call__\u001b[0;34m(self, *args, **kwargs)\u001b[0m\n\u001b[1;32m   1035\u001b[0m         with autocast_variable.enable_auto_cast_variables(\n\u001b[1;32m   1036\u001b[0m             self._compute_dtype_object):\n\u001b[0;32m-> 1037\u001b[0;31m           \u001b[0moutputs\u001b[0m \u001b[0;34m=\u001b[0m \u001b[0mcall_fn\u001b[0m\u001b[0;34m(\u001b[0m\u001b[0minputs\u001b[0m\u001b[0;34m,\u001b[0m \u001b[0;34m*\u001b[0m\u001b[0margs\u001b[0m\u001b[0;34m,\u001b[0m \u001b[0;34m**\u001b[0m\u001b[0mkwargs\u001b[0m\u001b[0;34m)\u001b[0m\u001b[0;34m\u001b[0m\u001b[0;34m\u001b[0m\u001b[0m\n\u001b[0m\u001b[1;32m   1038\u001b[0m \u001b[0;34m\u001b[0m\u001b[0m\n\u001b[1;32m   1039\u001b[0m         \u001b[0;32mif\u001b[0m \u001b[0mself\u001b[0m\u001b[0;34m.\u001b[0m\u001b[0m_activity_regularizer\u001b[0m\u001b[0;34m:\u001b[0m\u001b[0;34m\u001b[0m\u001b[0;34m\u001b[0m\u001b[0m\n",
      "\u001b[0;32m/opt/conda/lib/python3.9/site-packages/keras/engine/functional.py\u001b[0m in \u001b[0;36mcall\u001b[0;34m(self, inputs, training, mask)\u001b[0m\n\u001b[1;32m    412\u001b[0m         \u001b[0ma\u001b[0m \u001b[0mlist\u001b[0m \u001b[0mof\u001b[0m \u001b[0mtensors\u001b[0m \u001b[0;32mif\u001b[0m \u001b[0mthere\u001b[0m \u001b[0mare\u001b[0m \u001b[0mmore\u001b[0m \u001b[0mthan\u001b[0m \u001b[0mone\u001b[0m \u001b[0moutputs\u001b[0m\u001b[0;34m.\u001b[0m\u001b[0;34m\u001b[0m\u001b[0;34m\u001b[0m\u001b[0m\n\u001b[1;32m    413\u001b[0m     \"\"\"\n\u001b[0;32m--> 414\u001b[0;31m     return self._run_internal_graph(\n\u001b[0m\u001b[1;32m    415\u001b[0m         inputs, training=training, mask=mask)\n\u001b[1;32m    416\u001b[0m \u001b[0;34m\u001b[0m\u001b[0m\n",
      "\u001b[0;32m/opt/conda/lib/python3.9/site-packages/keras/engine/functional.py\u001b[0m in \u001b[0;36m_run_internal_graph\u001b[0;34m(self, inputs, training, mask)\u001b[0m\n\u001b[1;32m    548\u001b[0m \u001b[0;34m\u001b[0m\u001b[0m\n\u001b[1;32m    549\u001b[0m         \u001b[0margs\u001b[0m\u001b[0;34m,\u001b[0m \u001b[0mkwargs\u001b[0m \u001b[0;34m=\u001b[0m \u001b[0mnode\u001b[0m\u001b[0;34m.\u001b[0m\u001b[0mmap_arguments\u001b[0m\u001b[0;34m(\u001b[0m\u001b[0mtensor_dict\u001b[0m\u001b[0;34m)\u001b[0m\u001b[0;34m\u001b[0m\u001b[0;34m\u001b[0m\u001b[0m\n\u001b[0;32m--> 550\u001b[0;31m         \u001b[0moutputs\u001b[0m \u001b[0;34m=\u001b[0m \u001b[0mnode\u001b[0m\u001b[0;34m.\u001b[0m\u001b[0mlayer\u001b[0m\u001b[0;34m(\u001b[0m\u001b[0;34m*\u001b[0m\u001b[0margs\u001b[0m\u001b[0;34m,\u001b[0m \u001b[0;34m**\u001b[0m\u001b[0mkwargs\u001b[0m\u001b[0;34m)\u001b[0m\u001b[0;34m\u001b[0m\u001b[0;34m\u001b[0m\u001b[0m\n\u001b[0m\u001b[1;32m    551\u001b[0m \u001b[0;34m\u001b[0m\u001b[0m\n\u001b[1;32m    552\u001b[0m         \u001b[0;31m# Update tensor_dict.\u001b[0m\u001b[0;34m\u001b[0m\u001b[0;34m\u001b[0m\u001b[0m\n",
      "\u001b[0;32m/opt/conda/lib/python3.9/site-packages/keras/engine/base_layer.py\u001b[0m in \u001b[0;36m__call__\u001b[0;34m(self, *args, **kwargs)\u001b[0m\n\u001b[1;32m   1035\u001b[0m         with autocast_variable.enable_auto_cast_variables(\n\u001b[1;32m   1036\u001b[0m             self._compute_dtype_object):\n\u001b[0;32m-> 1037\u001b[0;31m           \u001b[0moutputs\u001b[0m \u001b[0;34m=\u001b[0m \u001b[0mcall_fn\u001b[0m\u001b[0;34m(\u001b[0m\u001b[0minputs\u001b[0m\u001b[0;34m,\u001b[0m \u001b[0;34m*\u001b[0m\u001b[0margs\u001b[0m\u001b[0;34m,\u001b[0m \u001b[0;34m**\u001b[0m\u001b[0mkwargs\u001b[0m\u001b[0;34m)\u001b[0m\u001b[0;34m\u001b[0m\u001b[0;34m\u001b[0m\u001b[0m\n\u001b[0m\u001b[1;32m   1038\u001b[0m \u001b[0;34m\u001b[0m\u001b[0m\n\u001b[1;32m   1039\u001b[0m         \u001b[0;32mif\u001b[0m \u001b[0mself\u001b[0m\u001b[0;34m.\u001b[0m\u001b[0m_activity_regularizer\u001b[0m\u001b[0;34m:\u001b[0m\u001b[0;34m\u001b[0m\u001b[0;34m\u001b[0m\u001b[0m\n",
      "\u001b[0;32m/opt/conda/lib/python3.9/site-packages/transformers/models/bert/modeling_tf_bert.py\u001b[0m in \u001b[0;36mcall\u001b[0;34m(self, input_ids, attention_mask, token_type_ids, position_ids, head_mask, inputs_embeds, output_attentions, output_hidden_states, return_dict, training, **kwargs)\u001b[0m\n\u001b[1;32m    885\u001b[0m             \u001b[0mkwargs_call\u001b[0m\u001b[0;34m=\u001b[0m\u001b[0mkwargs\u001b[0m\u001b[0;34m,\u001b[0m\u001b[0;34m\u001b[0m\u001b[0;34m\u001b[0m\u001b[0m\n\u001b[1;32m    886\u001b[0m         )\n\u001b[0;32m--> 887\u001b[0;31m         outputs = self.bert(\n\u001b[0m\u001b[1;32m    888\u001b[0m             \u001b[0minput_ids\u001b[0m\u001b[0;34m=\u001b[0m\u001b[0minputs\u001b[0m\u001b[0;34m[\u001b[0m\u001b[0;34m\"input_ids\"\u001b[0m\u001b[0;34m]\u001b[0m\u001b[0;34m,\u001b[0m\u001b[0;34m\u001b[0m\u001b[0;34m\u001b[0m\u001b[0m\n\u001b[1;32m    889\u001b[0m             \u001b[0mattention_mask\u001b[0m\u001b[0;34m=\u001b[0m\u001b[0minputs\u001b[0m\u001b[0;34m[\u001b[0m\u001b[0;34m\"attention_mask\"\u001b[0m\u001b[0;34m]\u001b[0m\u001b[0;34m,\u001b[0m\u001b[0;34m\u001b[0m\u001b[0;34m\u001b[0m\u001b[0m\n",
      "\u001b[0;32m/opt/conda/lib/python3.9/site-packages/keras/engine/base_layer.py\u001b[0m in \u001b[0;36m__call__\u001b[0;34m(self, *args, **kwargs)\u001b[0m\n\u001b[1;32m   1035\u001b[0m         with autocast_variable.enable_auto_cast_variables(\n\u001b[1;32m   1036\u001b[0m             self._compute_dtype_object):\n\u001b[0;32m-> 1037\u001b[0;31m           \u001b[0moutputs\u001b[0m \u001b[0;34m=\u001b[0m \u001b[0mcall_fn\u001b[0m\u001b[0;34m(\u001b[0m\u001b[0minputs\u001b[0m\u001b[0;34m,\u001b[0m \u001b[0;34m*\u001b[0m\u001b[0margs\u001b[0m\u001b[0;34m,\u001b[0m \u001b[0;34m**\u001b[0m\u001b[0mkwargs\u001b[0m\u001b[0;34m)\u001b[0m\u001b[0;34m\u001b[0m\u001b[0;34m\u001b[0m\u001b[0m\n\u001b[0m\u001b[1;32m   1038\u001b[0m \u001b[0;34m\u001b[0m\u001b[0m\n\u001b[1;32m   1039\u001b[0m         \u001b[0;32mif\u001b[0m \u001b[0mself\u001b[0m\u001b[0;34m.\u001b[0m\u001b[0m_activity_regularizer\u001b[0m\u001b[0;34m:\u001b[0m\u001b[0;34m\u001b[0m\u001b[0;34m\u001b[0m\u001b[0m\n",
      "\u001b[0;32m/opt/conda/lib/python3.9/site-packages/transformers/models/bert/modeling_tf_bert.py\u001b[0m in \u001b[0;36mcall\u001b[0;34m(self, input_ids, attention_mask, token_type_ids, position_ids, head_mask, inputs_embeds, output_attentions, output_hidden_states, return_dict, training, **kwargs)\u001b[0m\n\u001b[1;32m    643\u001b[0m             \u001b[0minputs\u001b[0m\u001b[0;34m[\u001b[0m\u001b[0;34m\"token_type_ids\"\u001b[0m\u001b[0;34m]\u001b[0m \u001b[0;34m=\u001b[0m \u001b[0mtf\u001b[0m\u001b[0;34m.\u001b[0m\u001b[0mfill\u001b[0m\u001b[0;34m(\u001b[0m\u001b[0mdims\u001b[0m\u001b[0;34m=\u001b[0m\u001b[0minput_shape\u001b[0m\u001b[0;34m,\u001b[0m \u001b[0mvalue\u001b[0m\u001b[0;34m=\u001b[0m\u001b[0;36m0\u001b[0m\u001b[0;34m)\u001b[0m\u001b[0;34m\u001b[0m\u001b[0;34m\u001b[0m\u001b[0m\n\u001b[1;32m    644\u001b[0m \u001b[0;34m\u001b[0m\u001b[0m\n\u001b[0;32m--> 645\u001b[0;31m         embedding_output = self.embeddings(\n\u001b[0m\u001b[1;32m    646\u001b[0m             \u001b[0minput_ids\u001b[0m\u001b[0;34m=\u001b[0m\u001b[0minputs\u001b[0m\u001b[0;34m[\u001b[0m\u001b[0;34m\"input_ids\"\u001b[0m\u001b[0;34m]\u001b[0m\u001b[0;34m,\u001b[0m\u001b[0;34m\u001b[0m\u001b[0;34m\u001b[0m\u001b[0m\n\u001b[1;32m    647\u001b[0m             \u001b[0mposition_ids\u001b[0m\u001b[0;34m=\u001b[0m\u001b[0minputs\u001b[0m\u001b[0;34m[\u001b[0m\u001b[0;34m\"position_ids\"\u001b[0m\u001b[0;34m]\u001b[0m\u001b[0;34m,\u001b[0m\u001b[0;34m\u001b[0m\u001b[0;34m\u001b[0m\u001b[0m\n",
      "\u001b[0;32m/opt/conda/lib/python3.9/site-packages/keras/engine/base_layer.py\u001b[0m in \u001b[0;36m__call__\u001b[0;34m(self, *args, **kwargs)\u001b[0m\n\u001b[1;32m   1035\u001b[0m         with autocast_variable.enable_auto_cast_variables(\n\u001b[1;32m   1036\u001b[0m             self._compute_dtype_object):\n\u001b[0;32m-> 1037\u001b[0;31m           \u001b[0moutputs\u001b[0m \u001b[0;34m=\u001b[0m \u001b[0mcall_fn\u001b[0m\u001b[0;34m(\u001b[0m\u001b[0minputs\u001b[0m\u001b[0;34m,\u001b[0m \u001b[0;34m*\u001b[0m\u001b[0margs\u001b[0m\u001b[0;34m,\u001b[0m \u001b[0;34m**\u001b[0m\u001b[0mkwargs\u001b[0m\u001b[0;34m)\u001b[0m\u001b[0;34m\u001b[0m\u001b[0;34m\u001b[0m\u001b[0m\n\u001b[0m\u001b[1;32m   1038\u001b[0m \u001b[0;34m\u001b[0m\u001b[0m\n\u001b[1;32m   1039\u001b[0m         \u001b[0;32mif\u001b[0m \u001b[0mself\u001b[0m\u001b[0;34m.\u001b[0m\u001b[0m_activity_regularizer\u001b[0m\u001b[0;34m:\u001b[0m\u001b[0;34m\u001b[0m\u001b[0;34m\u001b[0m\u001b[0m\n",
      "\u001b[0;32m/opt/conda/lib/python3.9/site-packages/transformers/models/bert/modeling_tf_bert.py\u001b[0m in \u001b[0;36mcall\u001b[0;34m(self, input_ids, position_ids, token_type_ids, inputs_embeds, training)\u001b[0m\n\u001b[1;32m    197\u001b[0m \u001b[0;34m\u001b[0m\u001b[0m\n\u001b[1;32m    198\u001b[0m         \u001b[0mposition_embeds\u001b[0m \u001b[0;34m=\u001b[0m \u001b[0mtf\u001b[0m\u001b[0;34m.\u001b[0m\u001b[0mgather\u001b[0m\u001b[0;34m(\u001b[0m\u001b[0mparams\u001b[0m\u001b[0;34m=\u001b[0m\u001b[0mself\u001b[0m\u001b[0;34m.\u001b[0m\u001b[0mposition_embeddings\u001b[0m\u001b[0;34m,\u001b[0m \u001b[0mindices\u001b[0m\u001b[0;34m=\u001b[0m\u001b[0mposition_ids\u001b[0m\u001b[0;34m)\u001b[0m\u001b[0;34m\u001b[0m\u001b[0;34m\u001b[0m\u001b[0m\n\u001b[0;32m--> 199\u001b[0;31m         \u001b[0mposition_embeds\u001b[0m \u001b[0;34m=\u001b[0m \u001b[0mtf\u001b[0m\u001b[0;34m.\u001b[0m\u001b[0mtile\u001b[0m\u001b[0;34m(\u001b[0m\u001b[0minput\u001b[0m\u001b[0;34m=\u001b[0m\u001b[0mposition_embeds\u001b[0m\u001b[0;34m,\u001b[0m \u001b[0mmultiples\u001b[0m\u001b[0;34m=\u001b[0m\u001b[0;34m(\u001b[0m\u001b[0minput_shape\u001b[0m\u001b[0;34m[\u001b[0m\u001b[0;36m0\u001b[0m\u001b[0;34m]\u001b[0m\u001b[0;34m,\u001b[0m \u001b[0;36m1\u001b[0m\u001b[0;34m,\u001b[0m \u001b[0;36m1\u001b[0m\u001b[0;34m)\u001b[0m\u001b[0;34m)\u001b[0m\u001b[0;34m\u001b[0m\u001b[0;34m\u001b[0m\u001b[0m\n\u001b[0m\u001b[1;32m    200\u001b[0m         \u001b[0mtoken_type_embeds\u001b[0m \u001b[0;34m=\u001b[0m \u001b[0mtf\u001b[0m\u001b[0;34m.\u001b[0m\u001b[0mgather\u001b[0m\u001b[0;34m(\u001b[0m\u001b[0mparams\u001b[0m\u001b[0;34m=\u001b[0m\u001b[0mself\u001b[0m\u001b[0;34m.\u001b[0m\u001b[0mtoken_type_embeddings\u001b[0m\u001b[0;34m,\u001b[0m \u001b[0mindices\u001b[0m\u001b[0;34m=\u001b[0m\u001b[0mtoken_type_ids\u001b[0m\u001b[0;34m)\u001b[0m\u001b[0;34m\u001b[0m\u001b[0;34m\u001b[0m\u001b[0m\n\u001b[1;32m    201\u001b[0m         \u001b[0mfinal_embeddings\u001b[0m \u001b[0;34m=\u001b[0m \u001b[0mself\u001b[0m\u001b[0;34m.\u001b[0m\u001b[0membeddings_sum\u001b[0m\u001b[0;34m(\u001b[0m\u001b[0minputs\u001b[0m\u001b[0;34m=\u001b[0m\u001b[0;34m[\u001b[0m\u001b[0minputs_embeds\u001b[0m\u001b[0;34m,\u001b[0m \u001b[0mposition_embeds\u001b[0m\u001b[0;34m,\u001b[0m \u001b[0mtoken_type_embeds\u001b[0m\u001b[0;34m]\u001b[0m\u001b[0;34m)\u001b[0m\u001b[0;34m\u001b[0m\u001b[0;34m\u001b[0m\u001b[0m\n",
      "\u001b[0;32m/opt/conda/lib/python3.9/site-packages/tensorflow/python/ops/gen_array_ops.py\u001b[0m in \u001b[0;36mtile\u001b[0;34m(input, multiples, name)\u001b[0m\n\u001b[1;32m  11516\u001b[0m       \u001b[0;32mpass\u001b[0m\u001b[0;34m\u001b[0m\u001b[0;34m\u001b[0m\u001b[0m\n\u001b[1;32m  11517\u001b[0m     \u001b[0;32mtry\u001b[0m\u001b[0;34m:\u001b[0m\u001b[0;34m\u001b[0m\u001b[0;34m\u001b[0m\u001b[0m\n\u001b[0;32m> 11518\u001b[0;31m       return tile_eager_fallback(\n\u001b[0m\u001b[1;32m  11519\u001b[0m           input, multiples, name=name, ctx=_ctx)\n\u001b[1;32m  11520\u001b[0m     \u001b[0;32mexcept\u001b[0m \u001b[0m_core\u001b[0m\u001b[0;34m.\u001b[0m\u001b[0m_SymbolicException\u001b[0m\u001b[0;34m:\u001b[0m\u001b[0;34m\u001b[0m\u001b[0;34m\u001b[0m\u001b[0m\n",
      "\u001b[0;32m/opt/conda/lib/python3.9/site-packages/tensorflow/python/ops/gen_array_ops.py\u001b[0m in \u001b[0;36mtile_eager_fallback\u001b[0;34m(input, multiples, name, ctx)\u001b[0m\n\u001b[1;32m  11556\u001b[0m   \u001b[0m_inputs_flat\u001b[0m \u001b[0;34m=\u001b[0m \u001b[0;34m[\u001b[0m\u001b[0minput\u001b[0m\u001b[0;34m,\u001b[0m \u001b[0mmultiples\u001b[0m\u001b[0;34m]\u001b[0m\u001b[0;34m\u001b[0m\u001b[0;34m\u001b[0m\u001b[0m\n\u001b[1;32m  11557\u001b[0m   \u001b[0m_attrs\u001b[0m \u001b[0;34m=\u001b[0m \u001b[0;34m(\u001b[0m\u001b[0;34m\"T\"\u001b[0m\u001b[0;34m,\u001b[0m \u001b[0m_attr_T\u001b[0m\u001b[0;34m,\u001b[0m \u001b[0;34m\"Tmultiples\"\u001b[0m\u001b[0;34m,\u001b[0m \u001b[0m_attr_Tmultiples\u001b[0m\u001b[0;34m)\u001b[0m\u001b[0;34m\u001b[0m\u001b[0;34m\u001b[0m\u001b[0m\n\u001b[0;32m> 11558\u001b[0;31m   _result = _execute.execute(b\"Tile\", 1, inputs=_inputs_flat, attrs=_attrs,\n\u001b[0m\u001b[1;32m  11559\u001b[0m                              ctx=ctx, name=name)\n\u001b[1;32m  11560\u001b[0m   \u001b[0;32mif\u001b[0m \u001b[0m_execute\u001b[0m\u001b[0;34m.\u001b[0m\u001b[0mmust_record_gradient\u001b[0m\u001b[0;34m(\u001b[0m\u001b[0;34m)\u001b[0m\u001b[0;34m:\u001b[0m\u001b[0;34m\u001b[0m\u001b[0;34m\u001b[0m\u001b[0m\n",
      "\u001b[0;32m/opt/conda/lib/python3.9/site-packages/tensorflow/python/eager/execute.py\u001b[0m in \u001b[0;36mquick_execute\u001b[0;34m(op_name, num_outputs, inputs, attrs, ctx, name)\u001b[0m\n\u001b[1;32m     57\u001b[0m   \u001b[0;32mtry\u001b[0m\u001b[0;34m:\u001b[0m\u001b[0;34m\u001b[0m\u001b[0;34m\u001b[0m\u001b[0m\n\u001b[1;32m     58\u001b[0m     \u001b[0mctx\u001b[0m\u001b[0;34m.\u001b[0m\u001b[0mensure_initialized\u001b[0m\u001b[0;34m(\u001b[0m\u001b[0;34m)\u001b[0m\u001b[0;34m\u001b[0m\u001b[0;34m\u001b[0m\u001b[0m\n\u001b[0;32m---> 59\u001b[0;31m     tensors = pywrap_tfe.TFE_Py_Execute(ctx._handle, device_name, op_name,\n\u001b[0m\u001b[1;32m     60\u001b[0m                                         inputs, attrs, num_outputs)\n\u001b[1;32m     61\u001b[0m   \u001b[0;32mexcept\u001b[0m \u001b[0mcore\u001b[0m\u001b[0;34m.\u001b[0m\u001b[0m_NotOkStatusException\u001b[0m \u001b[0;32mas\u001b[0m \u001b[0me\u001b[0m\u001b[0;34m:\u001b[0m\u001b[0;34m\u001b[0m\u001b[0;34m\u001b[0m\u001b[0m\n",
      "\u001b[0;31mResourceExhaustedError\u001b[0m: OOM when allocating tensor with shape[6392,768,768] and type float on /job:localhost/replica:0/task:0/device:GPU:0 by allocator GPU_0_bfc [Op:Tile]"
     ]
    }
   ],
   "source": [
    "s = bert_encoder(X)"
   ]
  }
 ],
 "metadata": {
  "kernelspec": {
   "display_name": "Python 3 (ipykernel)",
   "language": "python",
   "name": "python3"
  },
  "language_info": {
   "codemirror_mode": {
    "name": "ipython",
    "version": 3
   },
   "file_extension": ".py",
   "mimetype": "text/x-python",
   "name": "python",
   "nbconvert_exporter": "python",
   "pygments_lexer": "ipython3",
   "version": "3.9.7"
  }
 },
 "nbformat": 4,
 "nbformat_minor": 5
}
